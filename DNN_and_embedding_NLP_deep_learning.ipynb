{
  "cells": [
    {
      "cell_type": "markdown",
      "metadata": {
        "id": "dp5KjlfSST7m"
      },
      "source": [
        "# Dense Neural Network and embedding for NLP\n",
        "\n",
        "In this exercise, I explore the use of Dense Neural Network applied to NLP.\n",
        "The goal is to provide an example of NLP classification in the form of sentiment\n",
        "analysis using tensorflow. The general workflow is the same as in the previous exercise but with the addition of embedding. We will look into:\n",
        "\n",
        "- preprocessing\n",
        "- vectorization\n",
        "- embedding\n",
        "- feature extraction and classification using DNN\n",
        "\n",
        "## Preprocessing\n",
        "\n",
        "Text often contains unecessary information or things we want to mofidy.  A common preprocessing setps is to remove punctuation and lower casing. Removing stop words is another common steps. Stop words are wors that are not useful in the process of classification (the or is for instance in English).\n",
        "The preprocess stepts vary and can be  define before the text vectorization or as part of the vectorization. If it is done as part of the vectorization, we can pass a function or set specific parameters.\n",
        "\n",
        "## Vectorization\n",
        "\n",
        "Before using any ML method, we must first convert the text into numerical values. This is the process of tokenization or vectorization. We can choose different levels for the tokens of the text: characters, words or sentences. In this exercise, we will use word tokenization and will explore sentence tokenization later.\n",
        "\n",
        "The output of this step is typically tensor/matrix with document in the row and tokens as columns. There are multiple variation of the matrix (count, frequency, tfidf). In the case of one hot encoding vectorization, the matrix shows the presence of a token for a document. In the case of the frequency count vectorization matrix, it shows the frequency of each words in a document. In most cases, the matrix/tensor is usually sparse and is processed to reduce its dimension.\n",
        "\n",
        "## Embedding\n",
        "\n",
        "Embedding provides a way to represent text using continuous vector values. It can represent tokens relationship or semantic relations in more efficient way. Vectorization can produce very large sparse and embedding provides more useful ways to represent words in reduced size space. Example of typical embedding include Wordtovect and GLOVE. These embeddings were created on very large text dataset and often called pre-trained embedding space. In this exercise, we create our own embedding layer in the deep learning model using the text corpus we have.\n",
        "\n",
        "The text vectorization and embedding steps are sometimes called encoding.\n",
        "\n",
        "## Dense Neural Network: features and classification\n",
        "\n",
        "Embedding layers will feed into intermediary layers that will create features of relevance to the classification. This usually called the feature extractor (backbone) of the DL neural network. The top or head of the network contains the classifier: the neural network corresponding to a binary or multiple category classification.\n",
        "\n",
        "## Dataset\n",
        "\n",
        "In this exercise, we use the Twitter US airline sentiment dataset. It is a public dataset published used in the Kaggle competition published in 2015. It contains about 16k reviews classified into three sentiment categories: negative, neutral and positive.\n",
        "\n",
        "Useful links:\n",
        "\n",
        "- twitter sentiment airlines data:\n",
        "\n",
        "https://www.kaggle.com/datasets/crowdflower/twitter-airline-sentiment\n"
      ]
    },
    {
      "cell_type": "markdown",
      "metadata": {
        "id": "P0i8hhRib6AU"
      },
      "source": [
        "# Set up environment and load libraries\n",
        "\n",
        "- load libraries\n",
        "- install packages and tools\n",
        "- authenticate to google drive and gcp account"
      ]
    },
    {
      "cell_type": "code",
      "source": [
        "!pip uninstall tensorflow -y\n",
        "!pip install  tensorflow==2.13 #specific version needed for BERT"
      ],
      "metadata": {
        "colab": {
          "base_uri": "https://localhost:8080/"
        },
        "id": "S1R1WoDsQVnS",
        "outputId": "e211478a-4e4c-4809-f56c-112fc234db7d"
      },
      "execution_count": 1,
      "outputs": [
        {
          "output_type": "stream",
          "name": "stdout",
          "text": [
            "Found existing installation: tensorflow 2.13.0\n",
            "Uninstalling tensorflow-2.13.0:\n",
            "  Successfully uninstalled tensorflow-2.13.0\n",
            "Collecting tensorflow==2.13\n",
            "  Using cached tensorflow-2.13.0-cp310-cp310-manylinux_2_17_x86_64.manylinux2014_x86_64.whl (524.1 MB)\n",
            "Requirement already satisfied: absl-py>=1.0.0 in /usr/local/lib/python3.10/dist-packages (from tensorflow==2.13) (1.4.0)\n",
            "Requirement already satisfied: astunparse>=1.6.0 in /usr/local/lib/python3.10/dist-packages (from tensorflow==2.13) (1.6.3)\n",
            "Requirement already satisfied: flatbuffers>=23.1.21 in /usr/local/lib/python3.10/dist-packages (from tensorflow==2.13) (23.5.26)\n",
            "Requirement already satisfied: gast<=0.4.0,>=0.2.1 in /usr/local/lib/python3.10/dist-packages (from tensorflow==2.13) (0.4.0)\n",
            "Requirement already satisfied: google-pasta>=0.1.1 in /usr/local/lib/python3.10/dist-packages (from tensorflow==2.13) (0.2.0)\n",
            "Requirement already satisfied: grpcio<2.0,>=1.24.3 in /usr/local/lib/python3.10/dist-packages (from tensorflow==2.13) (1.60.0)\n",
            "Requirement already satisfied: h5py>=2.9.0 in /usr/local/lib/python3.10/dist-packages (from tensorflow==2.13) (3.9.0)\n",
            "Requirement already satisfied: keras<2.14,>=2.13.1 in /usr/local/lib/python3.10/dist-packages (from tensorflow==2.13) (2.13.1)\n",
            "Requirement already satisfied: libclang>=13.0.0 in /usr/local/lib/python3.10/dist-packages (from tensorflow==2.13) (16.0.6)\n",
            "Requirement already satisfied: numpy<=1.24.3,>=1.22 in /usr/local/lib/python3.10/dist-packages (from tensorflow==2.13) (1.23.5)\n",
            "Requirement already satisfied: opt-einsum>=2.3.2 in /usr/local/lib/python3.10/dist-packages (from tensorflow==2.13) (3.3.0)\n",
            "Requirement already satisfied: packaging in /usr/local/lib/python3.10/dist-packages (from tensorflow==2.13) (23.2)\n",
            "Requirement already satisfied: protobuf!=4.21.0,!=4.21.1,!=4.21.2,!=4.21.3,!=4.21.4,!=4.21.5,<5.0.0dev,>=3.20.3 in /usr/local/lib/python3.10/dist-packages (from tensorflow==2.13) (3.20.3)\n",
            "Requirement already satisfied: setuptools in /usr/local/lib/python3.10/dist-packages (from tensorflow==2.13) (67.7.2)\n",
            "Requirement already satisfied: six>=1.12.0 in /usr/local/lib/python3.10/dist-packages (from tensorflow==2.13) (1.16.0)\n",
            "Requirement already satisfied: tensorboard<2.14,>=2.13 in /usr/local/lib/python3.10/dist-packages (from tensorflow==2.13) (2.13.0)\n",
            "Requirement already satisfied: tensorflow-estimator<2.14,>=2.13.0 in /usr/local/lib/python3.10/dist-packages (from tensorflow==2.13) (2.13.0)\n",
            "Requirement already satisfied: termcolor>=1.1.0 in /usr/local/lib/python3.10/dist-packages (from tensorflow==2.13) (2.4.0)\n",
            "Requirement already satisfied: typing-extensions<4.6.0,>=3.6.6 in /usr/local/lib/python3.10/dist-packages (from tensorflow==2.13) (4.5.0)\n",
            "Requirement already satisfied: wrapt>=1.11.0 in /usr/local/lib/python3.10/dist-packages (from tensorflow==2.13) (1.14.1)\n",
            "Requirement already satisfied: tensorflow-io-gcs-filesystem>=0.23.1 in /usr/local/lib/python3.10/dist-packages (from tensorflow==2.13) (0.35.0)\n",
            "Requirement already satisfied: wheel<1.0,>=0.23.0 in /usr/local/lib/python3.10/dist-packages (from astunparse>=1.6.0->tensorflow==2.13) (0.42.0)\n",
            "Requirement already satisfied: google-auth<3,>=1.6.3 in /usr/local/lib/python3.10/dist-packages (from tensorboard<2.14,>=2.13->tensorflow==2.13) (2.17.3)\n",
            "Requirement already satisfied: google-auth-oauthlib<1.1,>=0.5 in /usr/local/lib/python3.10/dist-packages (from tensorboard<2.14,>=2.13->tensorflow==2.13) (1.0.0)\n",
            "Requirement already satisfied: markdown>=2.6.8 in /usr/local/lib/python3.10/dist-packages (from tensorboard<2.14,>=2.13->tensorflow==2.13) (3.5.2)\n",
            "Requirement already satisfied: requests<3,>=2.21.0 in /usr/local/lib/python3.10/dist-packages (from tensorboard<2.14,>=2.13->tensorflow==2.13) (2.31.0)\n",
            "Requirement already satisfied: tensorboard-data-server<0.8.0,>=0.7.0 in /usr/local/lib/python3.10/dist-packages (from tensorboard<2.14,>=2.13->tensorflow==2.13) (0.7.2)\n",
            "Requirement already satisfied: werkzeug>=1.0.1 in /usr/local/lib/python3.10/dist-packages (from tensorboard<2.14,>=2.13->tensorflow==2.13) (3.0.1)\n",
            "Requirement already satisfied: cachetools<6.0,>=2.0.0 in /usr/local/lib/python3.10/dist-packages (from google-auth<3,>=1.6.3->tensorboard<2.14,>=2.13->tensorflow==2.13) (5.3.2)\n",
            "Requirement already satisfied: pyasn1-modules>=0.2.1 in /usr/local/lib/python3.10/dist-packages (from google-auth<3,>=1.6.3->tensorboard<2.14,>=2.13->tensorflow==2.13) (0.3.0)\n",
            "Requirement already satisfied: rsa<5,>=3.1.4 in /usr/local/lib/python3.10/dist-packages (from google-auth<3,>=1.6.3->tensorboard<2.14,>=2.13->tensorflow==2.13) (4.9)\n",
            "Requirement already satisfied: requests-oauthlib>=0.7.0 in /usr/local/lib/python3.10/dist-packages (from google-auth-oauthlib<1.1,>=0.5->tensorboard<2.14,>=2.13->tensorflow==2.13) (1.3.1)\n",
            "Requirement already satisfied: charset-normalizer<4,>=2 in /usr/local/lib/python3.10/dist-packages (from requests<3,>=2.21.0->tensorboard<2.14,>=2.13->tensorflow==2.13) (3.3.2)\n",
            "Requirement already satisfied: idna<4,>=2.5 in /usr/local/lib/python3.10/dist-packages (from requests<3,>=2.21.0->tensorboard<2.14,>=2.13->tensorflow==2.13) (3.6)\n",
            "Requirement already satisfied: urllib3<3,>=1.21.1 in /usr/local/lib/python3.10/dist-packages (from requests<3,>=2.21.0->tensorboard<2.14,>=2.13->tensorflow==2.13) (2.0.7)\n",
            "Requirement already satisfied: certifi>=2017.4.17 in /usr/local/lib/python3.10/dist-packages (from requests<3,>=2.21.0->tensorboard<2.14,>=2.13->tensorflow==2.13) (2023.11.17)\n",
            "Requirement already satisfied: MarkupSafe>=2.1.1 in /usr/local/lib/python3.10/dist-packages (from werkzeug>=1.0.1->tensorboard<2.14,>=2.13->tensorflow==2.13) (2.1.4)\n",
            "Requirement already satisfied: pyasn1<0.6.0,>=0.4.6 in /usr/local/lib/python3.10/dist-packages (from pyasn1-modules>=0.2.1->google-auth<3,>=1.6.3->tensorboard<2.14,>=2.13->tensorflow==2.13) (0.5.1)\n",
            "Requirement already satisfied: oauthlib>=3.0.0 in /usr/local/lib/python3.10/dist-packages (from requests-oauthlib>=0.7.0->google-auth-oauthlib<1.1,>=0.5->tensorboard<2.14,>=2.13->tensorflow==2.13) (3.2.2)\n",
            "Installing collected packages: tensorflow\n",
            "Successfully installed tensorflow-2.13.0\n"
          ]
        }
      ]
    },
    {
      "cell_type": "code",
      "source": [
        "!pip install np_utils"
      ],
      "metadata": {
        "colab": {
          "base_uri": "https://localhost:8080/"
        },
        "id": "uCU1xstwQakO",
        "outputId": "64fe096f-2d94-4743-cccb-9d662b32492b"
      },
      "execution_count": 2,
      "outputs": [
        {
          "output_type": "stream",
          "name": "stdout",
          "text": [
            "Requirement already satisfied: np_utils in /usr/local/lib/python3.10/dist-packages (0.6.0)\n",
            "Requirement already satisfied: numpy>=1.0 in /usr/local/lib/python3.10/dist-packages (from np_utils) (1.23.5)\n"
          ]
        }
      ]
    },
    {
      "cell_type": "code",
      "execution_count": 3,
      "metadata": {
        "id": "4ZJ_11wkD408"
      },
      "outputs": [],
      "source": [
        "###### Library used in this script\n",
        "import matplotlib.pyplot as plt\n",
        "import seaborn as sns\n",
        "import numpy as np\n",
        "import pandas as pd\n",
        "import os, glob\n",
        "\n",
        "#ML imports\n",
        "import sklearn\n",
        "from sklearn import metrics\n",
        "from sklearn.metrics import roc_auc_score\n",
        "from sklearn.metrics import roc_curve\n",
        "from sklearn.metrics import classification_report\n",
        "from sklearn.metrics import confusion_matrix\n",
        "from sklearn.model_selection import train_test_split\n",
        "from sklearn.decomposition import PCA\n",
        "from sklearn.preprocessing import StandardScaler\n",
        "\n",
        "\n",
        "#Keras import\n",
        "from tensorflow import keras\n",
        "#from keras.models import Model\n",
        "import tensorflow as tf\n",
        "\n",
        "from tensorflow.keras.optimizers import Adam\n",
        "from tensorflow.keras import layers\n",
        "from tensorflow.keras.layers import Input, Conv2D, Concatenate, Activation, MaxPool2D, UpSampling2D, Conv2DTranspose\n",
        "from tensorflow.keras import models\n",
        "from tensorflow.keras.models import Model\n",
        "from tensorflow.keras.utils import plot_model\n",
        "\n",
        "\n",
        "#from keras.utils import np_utils\n",
        "import np_utils\n",
        "sns.set_style('darkgrid')\n",
        "pd.set_option('display.max_colwidth', None)"
      ]
    },
    {
      "cell_type": "code",
      "source": [
        "import seaborn as sns\n",
        "import matplotlib.pyplot as plt\n",
        "import nltk\n",
        "from nltk.tokenize import sent_tokenize, word_tokenize\n",
        "from nltk.corpus import stopwords\n",
        "from nltk.stem import WordNetLemmatizer\n",
        "from collections import Counter\n",
        "\n",
        "import warnings\n",
        "warnings.filterwarnings(\"ignore\")\n",
        "plt.rcParams[\"figure.figsize\"] = (10,6)\n",
        "pd.set_option('display.max_columns', 50)\n",
        "\n",
        "#Please download the below also. This will resolve your issue:\n",
        "\n",
        "nltk.download('punkt')\n",
        "nltk.download('wordnet')\n",
        "nltk.download('stopwords')\n",
        "\n",
        "#nltk.download('omw-1.4'*)"
      ],
      "metadata": {
        "colab": {
          "base_uri": "https://localhost:8080/"
        },
        "id": "loohcADPvP7t",
        "outputId": "06b647b3-070e-4770-d142-b1b6afe69323"
      },
      "execution_count": 4,
      "outputs": [
        {
          "output_type": "stream",
          "name": "stderr",
          "text": [
            "[nltk_data] Downloading package punkt to /root/nltk_data...\n",
            "[nltk_data]   Package punkt is already up-to-date!\n",
            "[nltk_data] Downloading package wordnet to /root/nltk_data...\n",
            "[nltk_data]   Package wordnet is already up-to-date!\n",
            "[nltk_data] Downloading package stopwords to /root/nltk_data...\n",
            "[nltk_data]   Package stopwords is already up-to-date!\n"
          ]
        },
        {
          "output_type": "execute_result",
          "data": {
            "text/plain": [
              "True"
            ]
          },
          "metadata": {},
          "execution_count": 4
        }
      ]
    },
    {
      "cell_type": "code",
      "execution_count": 5,
      "metadata": {
        "id": "MSU4mlwHcTLl",
        "colab": {
          "base_uri": "https://localhost:8080/"
        },
        "outputId": "1ed08970-e5af-4877-b67f-a66d6d434cb2"
      },
      "outputs": [
        {
          "output_type": "stream",
          "name": "stdout",
          "text": [
            "Authenticated\n"
          ]
        }
      ],
      "source": [
        "#GCP account authentification\n",
        "from google.colab import auth\n",
        "auth.authenticate_user()\n",
        "print('Authenticated')"
      ]
    },
    {
      "cell_type": "code",
      "execution_count": 6,
      "metadata": {
        "id": "meyKA4hlcblK",
        "colab": {
          "base_uri": "https://localhost:8080/"
        },
        "outputId": "aeca6758-f9b9-4a97-d330-63a45034e8cf"
      },
      "outputs": [
        {
          "output_type": "stream",
          "name": "stdout",
          "text": [
            "Drive already mounted at /content/gdrive; to attempt to forcibly remount, call drive.mount(\"/content/gdrive\", force_remount=True).\n"
          ]
        }
      ],
      "source": [
        "from google.colab import drive\n",
        "\n",
        "drive.mount('/content/gdrive')"
      ]
    },
    {
      "cell_type": "markdown",
      "metadata": {
        "id": "Vmy-IfpCD409"
      },
      "source": [
        "# Functions\n",
        "In the next part of the script, we declare all the functions used in the sripts.  It is good practice to place functions at the beginning of a script or in an external source file. Here are the 13 functions used:\n",
        "\n",
        "* **create_dir_and_check_existence**:  create and output directory given a path. The output directory will be the working directory throughout the analysis.\n"
      ]
    },
    {
      "cell_type": "code",
      "source": [
        "def create_dir_and_check_existence(path):\n",
        "\n",
        "    #Create a new directory\n",
        "    try:\n",
        "        os.makedirs(path)\n",
        "    except:\n",
        "        print (\"directory already exists\")\n",
        "\n",
        "from matplotlib import pyplot"
      ],
      "metadata": {
        "id": "OKA3HyN4gFXT"
      },
      "execution_count": 7,
      "outputs": []
    },
    {
      "cell_type": "code",
      "source": [
        "def clean_text(data):\n",
        "\n",
        "    import re\n",
        "\n",
        "    #1. Removing URLS\n",
        "    data = re.sub('http\\S+', '', data).strip()\n",
        "    data = re.sub('www\\S+', '', data).strip()\n",
        "\n",
        "    #2. Removing Tags\n",
        "    data = re.sub('#\\S+', '', data).strip()\n",
        "\n",
        "    #3. Removing Mentions\n",
        "    data = re.sub('@\\S+', '', data).strip()\n",
        "\n",
        "    #4. Removing upper brackets to keep negative auxiliary verbs in text\n",
        "    data = data.replace(\"'\", \"\")\n",
        "\n",
        "    #5. Tokenize\n",
        "    text_tokens = word_tokenize(data.lower())\n",
        "\n",
        "    #6. Remove Puncs and number\n",
        "    tokens_without_punc = [w for w in text_tokens if w.isalpha()]\n",
        "\n",
        "    #7. Removing Stopwords\n",
        "    stop_words = stopwords.words('english')\n",
        "    for i in [\"not\", \"no\"]:\n",
        "            stop_words.remove(i)\n",
        "    tokens_without_sw = [t for t in tokens_without_punc if t not in stop_words]\n",
        "\n",
        "    #8. lemma\n",
        "    text_cleaned = [WordNetLemmatizer().lemmatize(t) for t in tokens_without_sw]\n",
        "\n",
        "\n",
        "    #joining\n",
        "    return \" \".join(text_cleaned)"
      ],
      "metadata": {
        "id": "IcjPFFLpu6us"
      },
      "execution_count": 8,
      "outputs": []
    },
    {
      "cell_type": "code",
      "source": [
        "#pulled from tensorflow tutorial and more\n",
        "#https://stackoverflow.com/questions/70854665/tensorflow-textvectorization-convert-the-predicted-text-back-to-a-human-readabl\n",
        "\n",
        "def custom_standardization(input_data):\n",
        "  lowercase = tf.strings.lower(input_data)\n",
        "  stripped_html = tf.strings.regex_replace(lowercase, '<\\b>' ,' ')\n",
        "  return tf.strings.regex_replace(stripped_html,'[%s#@]' % re.escape(string.punctuation),'')\n",
        "\n",
        "def normalize(text):\n",
        "  remove_regex = f'[{re.escape(string.punctuation)}]'\n",
        "  space_regex = '...'\n",
        "  result = tf.strings.lower(text)\n",
        "  result = tf.strings.regex_replace(result, remove_regex, '')\n",
        "  result = tf.strings.regex_replace(result, space_regex, ' ')\n",
        "  return result"
      ],
      "metadata": {
        "id": "4raQR8sNMfPU"
      },
      "execution_count": 9,
      "outputs": []
    },
    {
      "cell_type": "code",
      "source": [
        "def generate_accuracy(model,y_test,x_test,class_names=None):\n",
        "\n",
        "  \"\"\"\n",
        "  Function to predict and generate accuracy metrics (precision and recall) for each model given input x and y test.\n",
        "\n",
        "  Extended description of function.\n",
        "\n",
        "  Parameters:\n",
        "  model: keras model\n",
        "  y_test: Input target for test\n",
        "  y_train: target train labels used in classification\n",
        "  class_names: labels for the class predicted\n",
        "\n",
        "  Returns:\n",
        "  report_df: pandas data frame with accuracy metrics\n",
        "\n",
        "  \"\"\"\n",
        "\n",
        "  # we can store the array in a data.frame and get the max\n",
        "  y_score = model.predict(x_test)\n",
        "  y_score.shape\n",
        "  y_pred_test_df = pd.DataFrame(y_score)\n",
        "  y_pred_test_df['y_pred_test'] = y_pred_test_df.idxmax(axis = 1) #one to go across the column for each row\n",
        "  y_pred_test_df\n",
        "\n",
        "\n",
        "  y_pred_test = y_pred_test_df['y_pred_test']\n",
        "  report_dict=classification_report(y_test,\n",
        "                                      y_pred_test,\n",
        "                                      target_names=class_names,\n",
        "                                      output_dict=True)\n",
        "  report_df = pd.DataFrame(report_dict)\n",
        "  #confusion_matrix_val = confusion_matrix(y_test,y_pred_test)  #not in use here\n",
        "  model_name = model._name\n",
        "  #display(report_df)\n",
        "  report_df = (report_df.drop(columns=['macro avg','weighted avg'])\n",
        "                        .drop(labels=['f1-score','support'])\n",
        "                        .assign(model_name= lambda x: model_name)\n",
        "                        .assign(num_param= lambda x: model.count_params())\n",
        "                        .reset_index()\n",
        "                        .rename(columns={'index':'metric'})\n",
        "              )\n",
        "\n",
        "  return report_df"
      ],
      "metadata": {
        "id": "GXlDWRR1PhbG"
      },
      "execution_count": 10,
      "outputs": []
    },
    {
      "cell_type": "markdown",
      "metadata": {
        "id": "dYroYeO_D41D"
      },
      "source": [
        "# Parameters and Arguments\n",
        "\n",
        "It is good practice to set all parameters and input arguments at the beginning of the script. This allows for better control and can make modifications of the scripts for other applications easier. Some arguments relate to path directories, input files and general parameters for use in the analyses (e.g. proportion of hold out).\n"
      ]
    },
    {
      "cell_type": "code",
      "execution_count": 11,
      "metadata": {
        "id": "NcV0IwF3NR1N"
      },
      "outputs": [],
      "source": [
        "############################################################################\n",
        "#####  Parameters and argument set up ###########\n",
        "\n",
        "#ARG 1\n",
        "in_dir = '/content/gdrive/MyDrive/Colab Notebooks/deep-learning-nlp-intro/DNN_and_embedding_nlp/data'\n",
        "out_dir = '/content/gdrive/MyDrive/Colab Notebooks/deep-learning-nlp-intro/DNN_and_embedding_nlp/'\n",
        "\n",
        "in_filename = 'Tweets.csv'\n",
        "out_suffix = 'DNN_embedding_nlp_2024-01-29'\n",
        "test_proportion = 0.2\n",
        "random_seed= 42\n",
        "create_out_dir = True\n",
        "\n",
        "#ARG 7\n",
        "## Input data\n",
        "data_dir = '/content/drive/MyDrive/Colab Notebooks/deep-learning-nlp-intro/DNN_embedding_nlp/data/'\n",
        "#ARG 8\n",
        "run_model = True #if True, model is trained, note this may take several hours.\n",
        "\n",
        "#ARG 9\n",
        "# Use pre-trained model if run_model is False\n",
        "model_path = None\n",
        "#model_path ='/content/drive/MyDrive/Colab Notebooks/deep-learning-nlp-intro/DNN_embedding_nlp/'\n",
        "#ARG 10\n",
        "epoch_val = 100\n",
        "#ARG 11\n"
      ]
    },
    {
      "cell_type": "code",
      "execution_count": 12,
      "metadata": {
        "id": "cwwPBkLGD41D",
        "colab": {
          "base_uri": "https://localhost:8080/"
        },
        "outputId": "ecb9bd94-f29a-46a8-d15a-e445d9c25aa9"
      },
      "outputs": [
        {
          "output_type": "stream",
          "name": "stdout",
          "text": [
            "directory already exists\n"
          ]
        }
      ],
      "source": [
        "################# START SCRIPT ###############################\n",
        "\n",
        "######### PART 0: Set up the output dir ################\n",
        "\n",
        "#set up the working directory\n",
        "#Create output directory\n",
        "\n",
        "if create_out_dir==True:\n",
        "    out_dir_new = \"output_data_\"+out_suffix\n",
        "    out_dir = os.path.join(out_dir,\"outputs\",out_dir_new)\n",
        "    create_dir_and_check_existence(out_dir)\n",
        "    os.chdir(out_dir)        #set working directory\n",
        "else:\n",
        "    os.chdir(out_dir) #use working dir defined earlier\n"
      ]
    },
    {
      "cell_type": "code",
      "execution_count": 13,
      "metadata": {
        "id": "l52WCqGVD41E",
        "colab": {
          "base_uri": "https://localhost:8080/"
        },
        "outputId": "851139bd-d9f6-40fd-941b-8456209053e1"
      },
      "outputs": [
        {
          "output_type": "stream",
          "name": "stdout",
          "text": [
            "/content/gdrive/MyDrive/Colab Notebooks/deep-learning-nlp-intro/DNN_and_embedding_nlp/outputs/output_data_DNN_embedding_nlp_2024-01-29\n"
          ]
        }
      ],
      "source": [
        "print(out_dir)"
      ]
    },
    {
      "cell_type": "code",
      "source": [
        "!pwd"
      ],
      "metadata": {
        "colab": {
          "base_uri": "https://localhost:8080/"
        },
        "id": "ysgioixoy0j0",
        "outputId": "3f359f2a-ba93-4833-f0b2-347b14ccfa23"
      },
      "execution_count": 14,
      "outputs": [
        {
          "output_type": "stream",
          "name": "stdout",
          "text": [
            "/content/gdrive/MyDrive/Colab Notebooks/deep-learning-nlp-intro/DNN_and_embedding_nlp/outputs/output_data_DNN_embedding_nlp_2024-01-29\n"
          ]
        }
      ]
    },
    {
      "cell_type": "markdown",
      "metadata": {
        "id": "F0pxrb-ZxIHl"
      },
      "source": [
        "#0.Workflow/pipeline\n",
        "\n",
        "We describe here the modeling pipelin we set up for this exercise:\n",
        "1. **Load and explore data**\n",
        "- Obtain data from the website or link provided\n",
        "- Quick exploration\n",
        "2. **Intro to Textvectorization and Embedding: tensorflow**\n",
        "- defining layers\n",
        "- hyper parameters\n",
        "3. **Train test split**\n",
        "- create test test split\n",
        "4. **Build and train models**\n",
        "- set up baseline model (random forest)\n",
        "- build DNN model\n",
        "5. **Visualize and Explore fitted embedding**\n",
        "- dimension reduction\n",
        "- visualization\n",
        "6. **Accuracy Assessment**\n",
        "- AUC ROC and precision recall curves\n",
        "- precisions recal metrics\n",
        "- IOU metric\n",
        "7. **Conclusions**\n"
      ]
    },
    {
      "cell_type": "markdown",
      "metadata": {
        "id": "9YAAEKBBST7s"
      },
      "source": [
        "# 1.Load and explore data\n",
        "\n",
        "We used the airlines review sentiment data tweets from Kaggle. There are 14,640 tweets labeled with three sentiment categories:\n",
        "\n",
        "- negative\n",
        "- neutral\n",
        "- positive\n",
        "\n",
        "There were 15 columns including airline name and confidence in the label. Here are the most relevant columns for the modeling:\n",
        "\n",
        "- text: column: contains the tweet text\n",
        "- airline_sentiment: contains the labeled sentiment categories."
      ]
    },
    {
      "cell_type": "code",
      "source": [
        "# Check for GPU\n",
        "!nvidia-smi -L"
      ],
      "metadata": {
        "colab": {
          "base_uri": "https://localhost:8080/"
        },
        "id": "O69cF891Hu-b",
        "outputId": "279b43e2-4e95-4aab-d67a-0ff3edfc2b7d"
      },
      "execution_count": 15,
      "outputs": [
        {
          "output_type": "stream",
          "name": "stdout",
          "text": [
            "GPU 0: NVIDIA A100-SXM4-40GB (UUID: GPU-0201a118-4fa1-5341-e32b-104e690b6597)\n"
          ]
        }
      ]
    },
    {
      "cell_type": "code",
      "source": [
        "import tensorflow as tf\n",
        "print(tf.__version__) #should use higher tensorflow!!!"
      ],
      "metadata": {
        "colab": {
          "base_uri": "https://localhost:8080/"
        },
        "id": "_m2qO_S8ohHi",
        "outputId": "0ab6e276-043a-411f-cee7-5ee94080c1f3"
      },
      "execution_count": 16,
      "outputs": [
        {
          "output_type": "stream",
          "name": "stdout",
          "text": [
            "2.13.0\n"
          ]
        }
      ]
    },
    {
      "cell_type": "code",
      "execution_count": 17,
      "metadata": {
        "id": "zy8IdI2Hjcpo",
        "colab": {
          "base_uri": "https://localhost:8080/",
          "height": 1000
        },
        "outputId": "3b280910-6ff2-45b6-88ae-a7747a99a8c0"
      },
      "outputs": [
        {
          "output_type": "stream",
          "name": "stdout",
          "text": [
            "(14640, 15)\n",
            "Index(['tweet_id', 'airline_sentiment', 'airline_sentiment_confidence',\n",
            "       'negativereason', 'negativereason_confidence', 'airline',\n",
            "       'airline_sentiment_gold', 'name', 'negativereason_gold',\n",
            "       'retweet_count', 'text', 'tweet_coord', 'tweet_created',\n",
            "       'tweet_location', 'user_timezone'],\n",
            "      dtype='object')\n"
          ]
        },
        {
          "output_type": "execute_result",
          "data": {
            "text/plain": [
              "                 tweet_id airline_sentiment  airline_sentiment_confidence  \\\n",
              "0      570306133677760513           neutral                        1.0000   \n",
              "1      570301130888122368          positive                        0.3486   \n",
              "2      570301083672813571           neutral                        0.6837   \n",
              "3      570301031407624196          negative                        1.0000   \n",
              "4      570300817074462722          negative                        1.0000   \n",
              "...                   ...               ...                           ...   \n",
              "14635  569587686496825344          positive                        0.3487   \n",
              "14636  569587371693355008          negative                        1.0000   \n",
              "14637  569587242672398336           neutral                        1.0000   \n",
              "14638  569587188687634433          negative                        1.0000   \n",
              "14639  569587140490866689           neutral                        0.6771   \n",
              "\n",
              "               negativereason  negativereason_confidence         airline  \\\n",
              "0                         NaN                        NaN  Virgin America   \n",
              "1                         NaN                     0.0000  Virgin America   \n",
              "2                         NaN                        NaN  Virgin America   \n",
              "3                  Bad Flight                     0.7033  Virgin America   \n",
              "4                  Can't Tell                     1.0000  Virgin America   \n",
              "...                       ...                        ...             ...   \n",
              "14635                     NaN                     0.0000        American   \n",
              "14636  Customer Service Issue                     1.0000        American   \n",
              "14637                     NaN                        NaN        American   \n",
              "14638  Customer Service Issue                     0.6659        American   \n",
              "14639                     NaN                     0.0000        American   \n",
              "\n",
              "      airline_sentiment_gold             name negativereason_gold  \\\n",
              "0                        NaN          cairdin                 NaN   \n",
              "1                        NaN         jnardino                 NaN   \n",
              "2                        NaN       yvonnalynn                 NaN   \n",
              "3                        NaN         jnardino                 NaN   \n",
              "4                        NaN         jnardino                 NaN   \n",
              "...                      ...              ...                 ...   \n",
              "14635                    NaN  KristenReenders                 NaN   \n",
              "14636                    NaN         itsropes                 NaN   \n",
              "14637                    NaN         sanyabun                 NaN   \n",
              "14638                    NaN       SraJackson                 NaN   \n",
              "14639                    NaN        daviddtwu                 NaN   \n",
              "\n",
              "       retweet_count  \\\n",
              "0                  0   \n",
              "1                  0   \n",
              "2                  0   \n",
              "3                  0   \n",
              "4                  0   \n",
              "...              ...   \n",
              "14635              0   \n",
              "14636              0   \n",
              "14637              0   \n",
              "14638              0   \n",
              "14639              0   \n",
              "\n",
              "                                                                                                                                                         text  \\\n",
              "0                                                                                                                         @VirginAmerica What @dhepburn said.   \n",
              "1                                                                                    @VirginAmerica plus you've added commercials to the experience... tacky.   \n",
              "2                                                                                     @VirginAmerica I didn't today... Must mean I need to take another trip!   \n",
              "3                              @VirginAmerica it's really aggressive to blast obnoxious \"entertainment\" in your guests' faces &amp; they have little recourse   \n",
              "4                                                                                                     @VirginAmerica and it's a really big bad thing about it   \n",
              "...                                                                                                                                                       ...   \n",
              "14635                                                                                         @AmericanAir thank you we got on a different flight to Chicago.   \n",
              "14636  @AmericanAir leaving over 20 minutes Late Flight. No warnings or communication until we were 15 minutes Late Flight. That's called shitty customer svc   \n",
              "14637                                                                                            @AmericanAir Please bring American Airlines to #BlackBerry10   \n",
              "14638                 @AmericanAir you have my money, you change my flight, and don't answer your phones! Any other suggestions so I can make my commitment??   \n",
              "14639              @AmericanAir we have 8 ppl so we need 2 know how many seats are on the next flight. Plz put us on standby for 4 people on the next flight?   \n",
              "\n",
              "      tweet_coord              tweet_created tweet_location  \\\n",
              "0             NaN  2015-02-24 11:35:52 -0800            NaN   \n",
              "1             NaN  2015-02-24 11:15:59 -0800            NaN   \n",
              "2             NaN  2015-02-24 11:15:48 -0800      Lets Play   \n",
              "3             NaN  2015-02-24 11:15:36 -0800            NaN   \n",
              "4             NaN  2015-02-24 11:14:45 -0800            NaN   \n",
              "...           ...                        ...            ...   \n",
              "14635         NaN  2015-02-22 12:01:01 -0800            NaN   \n",
              "14636         NaN  2015-02-22 11:59:46 -0800          Texas   \n",
              "14637         NaN  2015-02-22 11:59:15 -0800  Nigeria,lagos   \n",
              "14638         NaN  2015-02-22 11:59:02 -0800     New Jersey   \n",
              "14639         NaN  2015-02-22 11:58:51 -0800     dallas, TX   \n",
              "\n",
              "                    user_timezone  \n",
              "0      Eastern Time (US & Canada)  \n",
              "1      Pacific Time (US & Canada)  \n",
              "2      Central Time (US & Canada)  \n",
              "3      Pacific Time (US & Canada)  \n",
              "4      Pacific Time (US & Canada)  \n",
              "...                           ...  \n",
              "14635                         NaN  \n",
              "14636                         NaN  \n",
              "14637                         NaN  \n",
              "14638  Eastern Time (US & Canada)  \n",
              "14639                         NaN  \n",
              "\n",
              "[14640 rows x 15 columns]"
            ],
            "text/html": [
              "\n",
              "  <div id=\"df-6e966c7a-1bcc-4d44-a7ef-99c907b1ff6a\" class=\"colab-df-container\">\n",
              "    <div>\n",
              "<style scoped>\n",
              "    .dataframe tbody tr th:only-of-type {\n",
              "        vertical-align: middle;\n",
              "    }\n",
              "\n",
              "    .dataframe tbody tr th {\n",
              "        vertical-align: top;\n",
              "    }\n",
              "\n",
              "    .dataframe thead th {\n",
              "        text-align: right;\n",
              "    }\n",
              "</style>\n",
              "<table border=\"1\" class=\"dataframe\">\n",
              "  <thead>\n",
              "    <tr style=\"text-align: right;\">\n",
              "      <th></th>\n",
              "      <th>tweet_id</th>\n",
              "      <th>airline_sentiment</th>\n",
              "      <th>airline_sentiment_confidence</th>\n",
              "      <th>negativereason</th>\n",
              "      <th>negativereason_confidence</th>\n",
              "      <th>airline</th>\n",
              "      <th>airline_sentiment_gold</th>\n",
              "      <th>name</th>\n",
              "      <th>negativereason_gold</th>\n",
              "      <th>retweet_count</th>\n",
              "      <th>text</th>\n",
              "      <th>tweet_coord</th>\n",
              "      <th>tweet_created</th>\n",
              "      <th>tweet_location</th>\n",
              "      <th>user_timezone</th>\n",
              "    </tr>\n",
              "  </thead>\n",
              "  <tbody>\n",
              "    <tr>\n",
              "      <th>0</th>\n",
              "      <td>570306133677760513</td>\n",
              "      <td>neutral</td>\n",
              "      <td>1.0000</td>\n",
              "      <td>NaN</td>\n",
              "      <td>NaN</td>\n",
              "      <td>Virgin America</td>\n",
              "      <td>NaN</td>\n",
              "      <td>cairdin</td>\n",
              "      <td>NaN</td>\n",
              "      <td>0</td>\n",
              "      <td>@VirginAmerica What @dhepburn said.</td>\n",
              "      <td>NaN</td>\n",
              "      <td>2015-02-24 11:35:52 -0800</td>\n",
              "      <td>NaN</td>\n",
              "      <td>Eastern Time (US &amp; Canada)</td>\n",
              "    </tr>\n",
              "    <tr>\n",
              "      <th>1</th>\n",
              "      <td>570301130888122368</td>\n",
              "      <td>positive</td>\n",
              "      <td>0.3486</td>\n",
              "      <td>NaN</td>\n",
              "      <td>0.0000</td>\n",
              "      <td>Virgin America</td>\n",
              "      <td>NaN</td>\n",
              "      <td>jnardino</td>\n",
              "      <td>NaN</td>\n",
              "      <td>0</td>\n",
              "      <td>@VirginAmerica plus you've added commercials to the experience... tacky.</td>\n",
              "      <td>NaN</td>\n",
              "      <td>2015-02-24 11:15:59 -0800</td>\n",
              "      <td>NaN</td>\n",
              "      <td>Pacific Time (US &amp; Canada)</td>\n",
              "    </tr>\n",
              "    <tr>\n",
              "      <th>2</th>\n",
              "      <td>570301083672813571</td>\n",
              "      <td>neutral</td>\n",
              "      <td>0.6837</td>\n",
              "      <td>NaN</td>\n",
              "      <td>NaN</td>\n",
              "      <td>Virgin America</td>\n",
              "      <td>NaN</td>\n",
              "      <td>yvonnalynn</td>\n",
              "      <td>NaN</td>\n",
              "      <td>0</td>\n",
              "      <td>@VirginAmerica I didn't today... Must mean I need to take another trip!</td>\n",
              "      <td>NaN</td>\n",
              "      <td>2015-02-24 11:15:48 -0800</td>\n",
              "      <td>Lets Play</td>\n",
              "      <td>Central Time (US &amp; Canada)</td>\n",
              "    </tr>\n",
              "    <tr>\n",
              "      <th>3</th>\n",
              "      <td>570301031407624196</td>\n",
              "      <td>negative</td>\n",
              "      <td>1.0000</td>\n",
              "      <td>Bad Flight</td>\n",
              "      <td>0.7033</td>\n",
              "      <td>Virgin America</td>\n",
              "      <td>NaN</td>\n",
              "      <td>jnardino</td>\n",
              "      <td>NaN</td>\n",
              "      <td>0</td>\n",
              "      <td>@VirginAmerica it's really aggressive to blast obnoxious \"entertainment\" in your guests' faces &amp;amp; they have little recourse</td>\n",
              "      <td>NaN</td>\n",
              "      <td>2015-02-24 11:15:36 -0800</td>\n",
              "      <td>NaN</td>\n",
              "      <td>Pacific Time (US &amp; Canada)</td>\n",
              "    </tr>\n",
              "    <tr>\n",
              "      <th>4</th>\n",
              "      <td>570300817074462722</td>\n",
              "      <td>negative</td>\n",
              "      <td>1.0000</td>\n",
              "      <td>Can't Tell</td>\n",
              "      <td>1.0000</td>\n",
              "      <td>Virgin America</td>\n",
              "      <td>NaN</td>\n",
              "      <td>jnardino</td>\n",
              "      <td>NaN</td>\n",
              "      <td>0</td>\n",
              "      <td>@VirginAmerica and it's a really big bad thing about it</td>\n",
              "      <td>NaN</td>\n",
              "      <td>2015-02-24 11:14:45 -0800</td>\n",
              "      <td>NaN</td>\n",
              "      <td>Pacific Time (US &amp; Canada)</td>\n",
              "    </tr>\n",
              "    <tr>\n",
              "      <th>...</th>\n",
              "      <td>...</td>\n",
              "      <td>...</td>\n",
              "      <td>...</td>\n",
              "      <td>...</td>\n",
              "      <td>...</td>\n",
              "      <td>...</td>\n",
              "      <td>...</td>\n",
              "      <td>...</td>\n",
              "      <td>...</td>\n",
              "      <td>...</td>\n",
              "      <td>...</td>\n",
              "      <td>...</td>\n",
              "      <td>...</td>\n",
              "      <td>...</td>\n",
              "      <td>...</td>\n",
              "    </tr>\n",
              "    <tr>\n",
              "      <th>14635</th>\n",
              "      <td>569587686496825344</td>\n",
              "      <td>positive</td>\n",
              "      <td>0.3487</td>\n",
              "      <td>NaN</td>\n",
              "      <td>0.0000</td>\n",
              "      <td>American</td>\n",
              "      <td>NaN</td>\n",
              "      <td>KristenReenders</td>\n",
              "      <td>NaN</td>\n",
              "      <td>0</td>\n",
              "      <td>@AmericanAir thank you we got on a different flight to Chicago.</td>\n",
              "      <td>NaN</td>\n",
              "      <td>2015-02-22 12:01:01 -0800</td>\n",
              "      <td>NaN</td>\n",
              "      <td>NaN</td>\n",
              "    </tr>\n",
              "    <tr>\n",
              "      <th>14636</th>\n",
              "      <td>569587371693355008</td>\n",
              "      <td>negative</td>\n",
              "      <td>1.0000</td>\n",
              "      <td>Customer Service Issue</td>\n",
              "      <td>1.0000</td>\n",
              "      <td>American</td>\n",
              "      <td>NaN</td>\n",
              "      <td>itsropes</td>\n",
              "      <td>NaN</td>\n",
              "      <td>0</td>\n",
              "      <td>@AmericanAir leaving over 20 minutes Late Flight. No warnings or communication until we were 15 minutes Late Flight. That's called shitty customer svc</td>\n",
              "      <td>NaN</td>\n",
              "      <td>2015-02-22 11:59:46 -0800</td>\n",
              "      <td>Texas</td>\n",
              "      <td>NaN</td>\n",
              "    </tr>\n",
              "    <tr>\n",
              "      <th>14637</th>\n",
              "      <td>569587242672398336</td>\n",
              "      <td>neutral</td>\n",
              "      <td>1.0000</td>\n",
              "      <td>NaN</td>\n",
              "      <td>NaN</td>\n",
              "      <td>American</td>\n",
              "      <td>NaN</td>\n",
              "      <td>sanyabun</td>\n",
              "      <td>NaN</td>\n",
              "      <td>0</td>\n",
              "      <td>@AmericanAir Please bring American Airlines to #BlackBerry10</td>\n",
              "      <td>NaN</td>\n",
              "      <td>2015-02-22 11:59:15 -0800</td>\n",
              "      <td>Nigeria,lagos</td>\n",
              "      <td>NaN</td>\n",
              "    </tr>\n",
              "    <tr>\n",
              "      <th>14638</th>\n",
              "      <td>569587188687634433</td>\n",
              "      <td>negative</td>\n",
              "      <td>1.0000</td>\n",
              "      <td>Customer Service Issue</td>\n",
              "      <td>0.6659</td>\n",
              "      <td>American</td>\n",
              "      <td>NaN</td>\n",
              "      <td>SraJackson</td>\n",
              "      <td>NaN</td>\n",
              "      <td>0</td>\n",
              "      <td>@AmericanAir you have my money, you change my flight, and don't answer your phones! Any other suggestions so I can make my commitment??</td>\n",
              "      <td>NaN</td>\n",
              "      <td>2015-02-22 11:59:02 -0800</td>\n",
              "      <td>New Jersey</td>\n",
              "      <td>Eastern Time (US &amp; Canada)</td>\n",
              "    </tr>\n",
              "    <tr>\n",
              "      <th>14639</th>\n",
              "      <td>569587140490866689</td>\n",
              "      <td>neutral</td>\n",
              "      <td>0.6771</td>\n",
              "      <td>NaN</td>\n",
              "      <td>0.0000</td>\n",
              "      <td>American</td>\n",
              "      <td>NaN</td>\n",
              "      <td>daviddtwu</td>\n",
              "      <td>NaN</td>\n",
              "      <td>0</td>\n",
              "      <td>@AmericanAir we have 8 ppl so we need 2 know how many seats are on the next flight. Plz put us on standby for 4 people on the next flight?</td>\n",
              "      <td>NaN</td>\n",
              "      <td>2015-02-22 11:58:51 -0800</td>\n",
              "      <td>dallas, TX</td>\n",
              "      <td>NaN</td>\n",
              "    </tr>\n",
              "  </tbody>\n",
              "</table>\n",
              "<p>14640 rows × 15 columns</p>\n",
              "</div>\n",
              "    <div class=\"colab-df-buttons\">\n",
              "\n",
              "  <div class=\"colab-df-container\">\n",
              "    <button class=\"colab-df-convert\" onclick=\"convertToInteractive('df-6e966c7a-1bcc-4d44-a7ef-99c907b1ff6a')\"\n",
              "            title=\"Convert this dataframe to an interactive table.\"\n",
              "            style=\"display:none;\">\n",
              "\n",
              "  <svg xmlns=\"http://www.w3.org/2000/svg\" height=\"24px\" viewBox=\"0 -960 960 960\">\n",
              "    <path d=\"M120-120v-720h720v720H120Zm60-500h600v-160H180v160Zm220 220h160v-160H400v160Zm0 220h160v-160H400v160ZM180-400h160v-160H180v160Zm440 0h160v-160H620v160ZM180-180h160v-160H180v160Zm440 0h160v-160H620v160Z\"/>\n",
              "  </svg>\n",
              "    </button>\n",
              "\n",
              "  <style>\n",
              "    .colab-df-container {\n",
              "      display:flex;\n",
              "      gap: 12px;\n",
              "    }\n",
              "\n",
              "    .colab-df-convert {\n",
              "      background-color: #E8F0FE;\n",
              "      border: none;\n",
              "      border-radius: 50%;\n",
              "      cursor: pointer;\n",
              "      display: none;\n",
              "      fill: #1967D2;\n",
              "      height: 32px;\n",
              "      padding: 0 0 0 0;\n",
              "      width: 32px;\n",
              "    }\n",
              "\n",
              "    .colab-df-convert:hover {\n",
              "      background-color: #E2EBFA;\n",
              "      box-shadow: 0px 1px 2px rgba(60, 64, 67, 0.3), 0px 1px 3px 1px rgba(60, 64, 67, 0.15);\n",
              "      fill: #174EA6;\n",
              "    }\n",
              "\n",
              "    .colab-df-buttons div {\n",
              "      margin-bottom: 4px;\n",
              "    }\n",
              "\n",
              "    [theme=dark] .colab-df-convert {\n",
              "      background-color: #3B4455;\n",
              "      fill: #D2E3FC;\n",
              "    }\n",
              "\n",
              "    [theme=dark] .colab-df-convert:hover {\n",
              "      background-color: #434B5C;\n",
              "      box-shadow: 0px 1px 3px 1px rgba(0, 0, 0, 0.15);\n",
              "      filter: drop-shadow(0px 1px 2px rgba(0, 0, 0, 0.3));\n",
              "      fill: #FFFFFF;\n",
              "    }\n",
              "  </style>\n",
              "\n",
              "    <script>\n",
              "      const buttonEl =\n",
              "        document.querySelector('#df-6e966c7a-1bcc-4d44-a7ef-99c907b1ff6a button.colab-df-convert');\n",
              "      buttonEl.style.display =\n",
              "        google.colab.kernel.accessAllowed ? 'block' : 'none';\n",
              "\n",
              "      async function convertToInteractive(key) {\n",
              "        const element = document.querySelector('#df-6e966c7a-1bcc-4d44-a7ef-99c907b1ff6a');\n",
              "        const dataTable =\n",
              "          await google.colab.kernel.invokeFunction('convertToInteractive',\n",
              "                                                    [key], {});\n",
              "        if (!dataTable) return;\n",
              "\n",
              "        const docLinkHtml = 'Like what you see? Visit the ' +\n",
              "          '<a target=\"_blank\" href=https://colab.research.google.com/notebooks/data_table.ipynb>data table notebook</a>'\n",
              "          + ' to learn more about interactive tables.';\n",
              "        element.innerHTML = '';\n",
              "        dataTable['output_type'] = 'display_data';\n",
              "        await google.colab.output.renderOutput(dataTable, element);\n",
              "        const docLink = document.createElement('div');\n",
              "        docLink.innerHTML = docLinkHtml;\n",
              "        element.appendChild(docLink);\n",
              "      }\n",
              "    </script>\n",
              "  </div>\n",
              "\n",
              "\n",
              "<div id=\"df-97998060-c337-4cd1-b8d3-bea8ba97c54b\">\n",
              "  <button class=\"colab-df-quickchart\" onclick=\"quickchart('df-97998060-c337-4cd1-b8d3-bea8ba97c54b')\"\n",
              "            title=\"Suggest charts\"\n",
              "            style=\"display:none;\">\n",
              "\n",
              "<svg xmlns=\"http://www.w3.org/2000/svg\" height=\"24px\"viewBox=\"0 0 24 24\"\n",
              "     width=\"24px\">\n",
              "    <g>\n",
              "        <path d=\"M19 3H5c-1.1 0-2 .9-2 2v14c0 1.1.9 2 2 2h14c1.1 0 2-.9 2-2V5c0-1.1-.9-2-2-2zM9 17H7v-7h2v7zm4 0h-2V7h2v10zm4 0h-2v-4h2v4z\"/>\n",
              "    </g>\n",
              "</svg>\n",
              "  </button>\n",
              "\n",
              "<style>\n",
              "  .colab-df-quickchart {\n",
              "      --bg-color: #E8F0FE;\n",
              "      --fill-color: #1967D2;\n",
              "      --hover-bg-color: #E2EBFA;\n",
              "      --hover-fill-color: #174EA6;\n",
              "      --disabled-fill-color: #AAA;\n",
              "      --disabled-bg-color: #DDD;\n",
              "  }\n",
              "\n",
              "  [theme=dark] .colab-df-quickchart {\n",
              "      --bg-color: #3B4455;\n",
              "      --fill-color: #D2E3FC;\n",
              "      --hover-bg-color: #434B5C;\n",
              "      --hover-fill-color: #FFFFFF;\n",
              "      --disabled-bg-color: #3B4455;\n",
              "      --disabled-fill-color: #666;\n",
              "  }\n",
              "\n",
              "  .colab-df-quickchart {\n",
              "    background-color: var(--bg-color);\n",
              "    border: none;\n",
              "    border-radius: 50%;\n",
              "    cursor: pointer;\n",
              "    display: none;\n",
              "    fill: var(--fill-color);\n",
              "    height: 32px;\n",
              "    padding: 0;\n",
              "    width: 32px;\n",
              "  }\n",
              "\n",
              "  .colab-df-quickchart:hover {\n",
              "    background-color: var(--hover-bg-color);\n",
              "    box-shadow: 0 1px 2px rgba(60, 64, 67, 0.3), 0 1px 3px 1px rgba(60, 64, 67, 0.15);\n",
              "    fill: var(--button-hover-fill-color);\n",
              "  }\n",
              "\n",
              "  .colab-df-quickchart-complete:disabled,\n",
              "  .colab-df-quickchart-complete:disabled:hover {\n",
              "    background-color: var(--disabled-bg-color);\n",
              "    fill: var(--disabled-fill-color);\n",
              "    box-shadow: none;\n",
              "  }\n",
              "\n",
              "  .colab-df-spinner {\n",
              "    border: 2px solid var(--fill-color);\n",
              "    border-color: transparent;\n",
              "    border-bottom-color: var(--fill-color);\n",
              "    animation:\n",
              "      spin 1s steps(1) infinite;\n",
              "  }\n",
              "\n",
              "  @keyframes spin {\n",
              "    0% {\n",
              "      border-color: transparent;\n",
              "      border-bottom-color: var(--fill-color);\n",
              "      border-left-color: var(--fill-color);\n",
              "    }\n",
              "    20% {\n",
              "      border-color: transparent;\n",
              "      border-left-color: var(--fill-color);\n",
              "      border-top-color: var(--fill-color);\n",
              "    }\n",
              "    30% {\n",
              "      border-color: transparent;\n",
              "      border-left-color: var(--fill-color);\n",
              "      border-top-color: var(--fill-color);\n",
              "      border-right-color: var(--fill-color);\n",
              "    }\n",
              "    40% {\n",
              "      border-color: transparent;\n",
              "      border-right-color: var(--fill-color);\n",
              "      border-top-color: var(--fill-color);\n",
              "    }\n",
              "    60% {\n",
              "      border-color: transparent;\n",
              "      border-right-color: var(--fill-color);\n",
              "    }\n",
              "    80% {\n",
              "      border-color: transparent;\n",
              "      border-right-color: var(--fill-color);\n",
              "      border-bottom-color: var(--fill-color);\n",
              "    }\n",
              "    90% {\n",
              "      border-color: transparent;\n",
              "      border-bottom-color: var(--fill-color);\n",
              "    }\n",
              "  }\n",
              "</style>\n",
              "\n",
              "  <script>\n",
              "    async function quickchart(key) {\n",
              "      const quickchartButtonEl =\n",
              "        document.querySelector('#' + key + ' button');\n",
              "      quickchartButtonEl.disabled = true;  // To prevent multiple clicks.\n",
              "      quickchartButtonEl.classList.add('colab-df-spinner');\n",
              "      try {\n",
              "        const charts = await google.colab.kernel.invokeFunction(\n",
              "            'suggestCharts', [key], {});\n",
              "      } catch (error) {\n",
              "        console.error('Error during call to suggestCharts:', error);\n",
              "      }\n",
              "      quickchartButtonEl.classList.remove('colab-df-spinner');\n",
              "      quickchartButtonEl.classList.add('colab-df-quickchart-complete');\n",
              "    }\n",
              "    (() => {\n",
              "      let quickchartButtonEl =\n",
              "        document.querySelector('#df-97998060-c337-4cd1-b8d3-bea8ba97c54b button');\n",
              "      quickchartButtonEl.style.display =\n",
              "        google.colab.kernel.accessAllowed ? 'block' : 'none';\n",
              "    })();\n",
              "  </script>\n",
              "</div>\n",
              "\n",
              "  <div id=\"id_fe68beaf-0c14-4ba7-9732-9d406bf74ee1\">\n",
              "    <style>\n",
              "      .colab-df-generate {\n",
              "        background-color: #E8F0FE;\n",
              "        border: none;\n",
              "        border-radius: 50%;\n",
              "        cursor: pointer;\n",
              "        display: none;\n",
              "        fill: #1967D2;\n",
              "        height: 32px;\n",
              "        padding: 0 0 0 0;\n",
              "        width: 32px;\n",
              "      }\n",
              "\n",
              "      .colab-df-generate:hover {\n",
              "        background-color: #E2EBFA;\n",
              "        box-shadow: 0px 1px 2px rgba(60, 64, 67, 0.3), 0px 1px 3px 1px rgba(60, 64, 67, 0.15);\n",
              "        fill: #174EA6;\n",
              "      }\n",
              "\n",
              "      [theme=dark] .colab-df-generate {\n",
              "        background-color: #3B4455;\n",
              "        fill: #D2E3FC;\n",
              "      }\n",
              "\n",
              "      [theme=dark] .colab-df-generate:hover {\n",
              "        background-color: #434B5C;\n",
              "        box-shadow: 0px 1px 3px 1px rgba(0, 0, 0, 0.15);\n",
              "        filter: drop-shadow(0px 1px 2px rgba(0, 0, 0, 0.3));\n",
              "        fill: #FFFFFF;\n",
              "      }\n",
              "    </style>\n",
              "    <button class=\"colab-df-generate\" onclick=\"generateWithVariable('df')\"\n",
              "            title=\"Generate code using this dataframe.\"\n",
              "            style=\"display:none;\">\n",
              "\n",
              "  <svg xmlns=\"http://www.w3.org/2000/svg\" height=\"24px\"viewBox=\"0 0 24 24\"\n",
              "       width=\"24px\">\n",
              "    <path d=\"M7,19H8.4L18.45,9,17,7.55,7,17.6ZM5,21V16.75L18.45,3.32a2,2,0,0,1,2.83,0l1.4,1.43a1.91,1.91,0,0,1,.58,1.4,1.91,1.91,0,0,1-.58,1.4L9.25,21ZM18.45,9,17,7.55Zm-12,3A5.31,5.31,0,0,0,4.9,8.1,5.31,5.31,0,0,0,1,6.5,5.31,5.31,0,0,0,4.9,4.9,5.31,5.31,0,0,0,6.5,1,5.31,5.31,0,0,0,8.1,4.9,5.31,5.31,0,0,0,12,6.5,5.46,5.46,0,0,0,6.5,12Z\"/>\n",
              "  </svg>\n",
              "    </button>\n",
              "    <script>\n",
              "      (() => {\n",
              "      const buttonEl =\n",
              "        document.querySelector('#id_fe68beaf-0c14-4ba7-9732-9d406bf74ee1 button.colab-df-generate');\n",
              "      buttonEl.style.display =\n",
              "        google.colab.kernel.accessAllowed ? 'block' : 'none';\n",
              "\n",
              "      buttonEl.onclick = () => {\n",
              "        google.colab.notebook.generateWithVariable('df');\n",
              "      }\n",
              "      })();\n",
              "    </script>\n",
              "  </div>\n",
              "\n",
              "    </div>\n",
              "  </div>\n"
            ]
          },
          "metadata": {},
          "execution_count": 17
        }
      ],
      "source": [
        "df = pd.read_csv(os.path.join(in_dir,in_filename))\n",
        "print(df.shape)\n",
        "print(df.columns)\n",
        "df"
      ]
    },
    {
      "cell_type": "code",
      "source": [
        "print(df['text'].head())"
      ],
      "metadata": {
        "colab": {
          "base_uri": "https://localhost:8080/"
        },
        "id": "xCBbSHXAh5SY",
        "outputId": "999eeb05-86bf-45f4-d641-d3d51b6f56c7"
      },
      "execution_count": 18,
      "outputs": [
        {
          "output_type": "stream",
          "name": "stdout",
          "text": [
            "0                                                                                               @VirginAmerica What @dhepburn said.\n",
            "1                                                          @VirginAmerica plus you've added commercials to the experience... tacky.\n",
            "2                                                           @VirginAmerica I didn't today... Must mean I need to take another trip!\n",
            "3    @VirginAmerica it's really aggressive to blast obnoxious \"entertainment\" in your guests' faces &amp; they have little recourse\n",
            "4                                                                           @VirginAmerica and it's a really big bad thing about it\n",
            "Name: text, dtype: object\n"
          ]
        }
      ]
    },
    {
      "cell_type": "code",
      "source": [
        "print(df['airline_sentiment'].value_counts())\n",
        "print(df['airline_sentiment'].value_counts(normalize=True))\n"
      ],
      "metadata": {
        "colab": {
          "base_uri": "https://localhost:8080/"
        },
        "id": "SNevEt9WJ1it",
        "outputId": "cb961edf-e01c-40c4-ab36-b26e69bda491"
      },
      "execution_count": 19,
      "outputs": [
        {
          "output_type": "stream",
          "name": "stdout",
          "text": [
            "negative    9178\n",
            "neutral     3099\n",
            "positive    2363\n",
            "Name: airline_sentiment, dtype: int64\n",
            "negative    0.626913\n",
            "neutral     0.211680\n",
            "positive    0.161407\n",
            "Name: airline_sentiment, dtype: float64\n"
          ]
        }
      ]
    },
    {
      "cell_type": "markdown",
      "source": [
        "The dataset is clearly unbalanced with a majority of tweets being negative (close to 63%)."
      ],
      "metadata": {
        "id": "7O0PucoF-J73"
      }
    },
    {
      "cell_type": "markdown",
      "source": [
        "#2. **Intro to Textvectorization and Embedding: tensorflow**\n",
        "\n",
        "We will first explore the textvectorization and embedding layers provided in tensorflow keras using a mock up dataset (see corpus below).\n",
        "\n",
        "We'll take a look at:\n",
        "\n",
        "- defining layers: instantiate layers for exploration and fit\n",
        "\n",
        "- hyper parameters: parameters that can be set when using the layers."
      ],
      "metadata": {
        "id": "Y9unQN18pqae"
      }
    },
    {
      "cell_type": "code",
      "source": [
        "corpus = [\n",
        "'Food service was slow and the food was bad and late.',\n",
        "'@airlineZ The flight was very delayed.',\n",
        "'#airlineZ Food was cold and very late.',\n",
        "'I asked for water and coffee but it never came'\n",
        "]"
      ],
      "metadata": {
        "id": "6WLuINdXoFh5"
      },
      "execution_count": 20,
      "outputs": []
    },
    {
      "cell_type": "markdown",
      "source": [
        "The mock up dataset consists in 4 sentences with a variety of length with some unusual characters (# and @)."
      ],
      "metadata": {
        "id": "YM9R7Q48MLWj"
      }
    },
    {
      "cell_type": "markdown",
      "source": [
        "## 2.1 Textvectorization"
      ],
      "metadata": {
        "id": "PbSBmYr2mkK7"
      }
    },
    {
      "cell_type": "markdown",
      "source": [
        "Let's use the default parameter values first to explore the vectorization layer. Here is a short description of the main parameters:\n",
        "\n",
        "- max_tokens: maximum number of token to consider for the modeling. It will take most frequen tokens up to the maximum number.\n",
        "- standardize: preprocessing for the input text, this can be a specific option ('lower', 'lower_and_strip_punctuation') or custom function.\n",
        "\n",
        "\n",
        "Intersesting links:\n",
        "- https://jonathan-hui.medium.com/tensorflow-keras-preprocessing-layers-dataset-performance-considera-e9fc11de7bc7: good overview of textvectorization layer\n",
        "\n",
        "- https://discuss.tensorflow.org/t/nlp-textvectorization-tokenizer/12505/3"
      ],
      "metadata": {
        "id": "BFJe8BmpDYzA"
      }
    },
    {
      "cell_type": "code",
      "source": [
        "#import tensorflow as tf\n",
        "from tensorflow.keras.layers import TextVectorization\n",
        "\n",
        "vectorizer = TextVectorization(max_tokens=None,\n",
        "                              standardize=\"lower_and_strip_punctuation\",\n",
        "                              split=\"whitespace\",\n",
        "                              ngrams=None,\n",
        "                              output_mode=\"int\",\n",
        "                              output_sequence_length=None,\n",
        "                              pad_to_max_tokens=False,\n",
        "                              #vocabulary=corpus,\n",
        "                              idf_weights=None)\n",
        "print(vectorizer)"
      ],
      "metadata": {
        "id": "Q9YfB23FzjMm",
        "colab": {
          "base_uri": "https://localhost:8080/"
        },
        "outputId": "14e088f2-c647-4d16-f1a9-7356ecba67ab"
      },
      "execution_count": 21,
      "outputs": [
        {
          "output_type": "stream",
          "name": "stdout",
          "text": [
            "<keras.src.layers.preprocessing.text_vectorization.TextVectorization object at 0x7f1995e15d20>\n"
          ]
        }
      ]
    },
    {
      "cell_type": "code",
      "source": [],
      "metadata": {
        "id": "jT-GAO7IljgH"
      },
      "execution_count": 21,
      "outputs": []
    },
    {
      "cell_type": "code",
      "source": [
        "vectorizer.adapt(corpus) #fit corpus data\n",
        "#https://towardsdatascience.com/you-should-try-the-new-tensorflows-textvectorization-layer-a80b3c6b00ee5\n",
        "print(vectorizer(corpus)) # you can see the padding here..\n",
        "\n",
        "#a good ref:\n",
        "#https://jonathan-hui.medium.com/tensorflow-keras-preprocessing-layers-dataset-performance-considera-e9fc11de7bc7\n",
        "#Note:\n",
        "#int 0: is used for padding i.e. \" \"\n",
        "#int 1: is used for OOV i.e. 'UNK'\n",
        "#int 2: is the first digit used for the most frequent token (in this case 'was')\n",
        "#int 3: is the next digit used for the next most frequent token (in this case'and')"
      ],
      "metadata": {
        "id": "8e-Vjg6YGRzu",
        "colab": {
          "base_uri": "https://localhost:8080/"
        },
        "outputId": "69c0c553-288a-4f8b-f46d-9f45013f5f81"
      },
      "execution_count": 22,
      "outputs": [
        {
          "output_type": "stream",
          "name": "stdout",
          "text": [
            "tf.Tensor(\n",
            "[[ 4 11  2 10  3  6  4  2 22  3  7]\n",
            " [ 8  6 16  2  5 17  0  0  0  0  0]\n",
            " [ 8  4  2 18  3  5  7  0  0  0  0]\n",
            " [14 23 15  9  3 19 21 13 12 20  0]], shape=(4, 11), dtype=int64)\n"
          ]
        }
      ]
    },
    {
      "cell_type": "code",
      "source": [
        "# Create sample sentence and tokenize it\n",
        "sample_sentence = \"Food was bad\"\n",
        "vectorizer([sample_sentence])"
      ],
      "metadata": {
        "colab": {
          "base_uri": "https://localhost:8080/"
        },
        "id": "YK_tzBrPvLym",
        "outputId": "4e240aa1-ca9d-4bd2-d837-69f35b295c3a"
      },
      "execution_count": 23,
      "outputs": [
        {
          "output_type": "execute_result",
          "data": {
            "text/plain": [
              "<tf.Tensor: shape=(1, 3), dtype=int64, numpy=array([[ 4,  2, 22]])>"
            ]
          },
          "metadata": {},
          "execution_count": 23
        }
      ]
    },
    {
      "cell_type": "code",
      "source": [
        "#prints count of unique values\n",
        "vocab_unprocessed = set((' '.join(corpus)).split(\" \"))\n",
        "print(\"Count- \", len(vocab_unprocessed))\n",
        "vectorizer.vocabulary_size() #there are 23 unique words"
      ],
      "metadata": {
        "colab": {
          "base_uri": "https://localhost:8080/"
        },
        "id": "FBTv7ixWK-BM",
        "outputId": "efa36c9f-9e8d-49f0-994b-f17d3332c40a"
      },
      "execution_count": 24,
      "outputs": [
        {
          "output_type": "stream",
          "name": "stdout",
          "text": [
            "Count-  25\n"
          ]
        },
        {
          "output_type": "execute_result",
          "data": {
            "text/plain": [
              "24"
            ]
          },
          "metadata": {},
          "execution_count": 24
        }
      ]
    },
    {
      "cell_type": "code",
      "source": [
        "vocab = vectorizer.get_vocabulary()\n",
        "vocab2 = vectorizer.get_vocabulary(include_special_tokens=False)\n",
        "print(vocab[:10])\n",
        "print(vocab2[:10])\n",
        "print(vocab[-10:])\n",
        "print(vocab2[-10:])"
      ],
      "metadata": {
        "colab": {
          "base_uri": "https://localhost:8080/"
        },
        "id": "jbWZ1mAOKong",
        "outputId": "123031fb-3c5e-40dd-8eaa-371d283ed8da"
      },
      "execution_count": 25,
      "outputs": [
        {
          "output_type": "stream",
          "name": "stdout",
          "text": [
            "['', '[UNK]', 'was', 'and', 'food', 'very', 'the', 'late', 'airlinez', 'water']\n",
            "['was', 'and', 'food', 'very', 'the', 'late', 'airlinez', 'water', 'slow', 'service']\n",
            "['i', 'for', 'flight', 'delayed', 'cold', 'coffee', 'came', 'but', 'bad', 'asked']\n",
            "['i', 'for', 'flight', 'delayed', 'cold', 'coffee', 'came', 'but', 'bad', 'asked']\n"
          ]
        }
      ]
    },
    {
      "cell_type": "code",
      "source": [
        "vocab, vocab_unprocessed"
      ],
      "metadata": {
        "colab": {
          "base_uri": "https://localhost:8080/"
        },
        "id": "x9YwdERLikDH",
        "outputId": "42face25-bef7-4dcf-c62d-d5be142074eb"
      },
      "execution_count": 26,
      "outputs": [
        {
          "output_type": "execute_result",
          "data": {
            "text/plain": [
              "(['',\n",
              "  '[UNK]',\n",
              "  'was',\n",
              "  'and',\n",
              "  'food',\n",
              "  'very',\n",
              "  'the',\n",
              "  'late',\n",
              "  'airlinez',\n",
              "  'water',\n",
              "  'slow',\n",
              "  'service',\n",
              "  'never',\n",
              "  'it',\n",
              "  'i',\n",
              "  'for',\n",
              "  'flight',\n",
              "  'delayed',\n",
              "  'cold',\n",
              "  'coffee',\n",
              "  'came',\n",
              "  'but',\n",
              "  'bad',\n",
              "  'asked'],\n",
              " {'#airlineZ',\n",
              "  '@airlineZ',\n",
              "  'Food',\n",
              "  'I',\n",
              "  'The',\n",
              "  'and',\n",
              "  'asked',\n",
              "  'bad',\n",
              "  'but',\n",
              "  'came',\n",
              "  'coffee',\n",
              "  'cold',\n",
              "  'delayed.',\n",
              "  'flight',\n",
              "  'food',\n",
              "  'for',\n",
              "  'it',\n",
              "  'late.',\n",
              "  'never',\n",
              "  'service',\n",
              "  'slow',\n",
              "  'the',\n",
              "  'very',\n",
              "  'was',\n",
              "  'water'})"
            ]
          },
          "metadata": {},
          "execution_count": 26
        }
      ]
    },
    {
      "cell_type": "markdown",
      "source": [
        "In the top 10, we have 'was' which appears twice in the corpus. Note that the tokens '' and 'UNK' are also present in the top. This is because the textvectorization layer will put padding '' and the OOV 'UNK' in the list. This implies that these are the most frequent but in fact '' are always put at the top of the list by default. To remove them you can\n",
        "\n",
        "https://github.com/keras-team/keras/blob/v2.13.1/keras/layers/preprocessing/index_lookup.py#L370\n",
        "\n",
        "https://stackoverflow.com/questions/68440502/why-is-unk-word-the-first-in-word2vec-vocabulary\n",
        "\n",
        "\n",
        "TALK ABOUT padding (or mask) and OOV: out of vocabulary"
      ],
      "metadata": {
        "id": "xSEvXZtAd_7L"
      }
    },
    {
      "cell_type": "code",
      "source": [
        "set((' '.join(corpus)).split(\" \")) #note that @ was removed"
      ],
      "metadata": {
        "colab": {
          "base_uri": "https://localhost:8080/"
        },
        "id": "hWP9eejcdKZ3",
        "outputId": "27562161-ba9e-4637-a0d2-9bb470039952"
      },
      "execution_count": 27,
      "outputs": [
        {
          "output_type": "execute_result",
          "data": {
            "text/plain": [
              "{'#airlineZ',\n",
              " '@airlineZ',\n",
              " 'Food',\n",
              " 'I',\n",
              " 'The',\n",
              " 'and',\n",
              " 'asked',\n",
              " 'bad',\n",
              " 'but',\n",
              " 'came',\n",
              " 'coffee',\n",
              " 'cold',\n",
              " 'delayed.',\n",
              " 'flight',\n",
              " 'food',\n",
              " 'for',\n",
              " 'it',\n",
              " 'late.',\n",
              " 'never',\n",
              " 'service',\n",
              " 'slow',\n",
              " 'the',\n",
              " 'very',\n",
              " 'was',\n",
              " 'water'}"
            ]
          },
          "metadata": {},
          "execution_count": 27
        }
      ]
    },
    {
      "cell_type": "code",
      "source": [
        "# Get the unique words in the vocabulary\n",
        "words_in_vocab = vectorizer.get_vocabulary()\n",
        "top_5_words = words_in_vocab[:5] # most common tokens (notice the [UNK] token for \"unknown\" words)\n",
        "bottom_5_words = words_in_vocab[-5:] # least common tokens\n",
        "print(f\"Number of words in vocab: {len(words_in_vocab)}\")\n",
        "print(f\"Top 5 most common words: {top_5_words}\")\n",
        "print(f\"Bottom 5 least common words: {bottom_5_words}\")"
      ],
      "metadata": {
        "colab": {
          "base_uri": "https://localhost:8080/"
        },
        "id": "BWUgJCfMzBJU",
        "outputId": "3895d759-3916-459e-fbe8-5169a8891f0f"
      },
      "execution_count": 28,
      "outputs": [
        {
          "output_type": "stream",
          "name": "stdout",
          "text": [
            "Number of words in vocab: 24\n",
            "Top 5 most common words: ['', '[UNK]', 'was', 'and', 'food']\n",
            "Bottom 5 least common words: ['coffee', 'came', 'but', 'bad', 'asked']\n"
          ]
        }
      ]
    },
    {
      "cell_type": "code",
      "source": [
        "vectorizer.name\n",
        "vectorizer.get_config()\n",
        "#if output sequence length is None it will be set to the length of the longest sequence in the input text. This may mean a lot of padding."
      ],
      "metadata": {
        "id": "lEfamb_jIrdP",
        "colab": {
          "base_uri": "https://localhost:8080/"
        },
        "outputId": "6f55c37a-0888-4e1a-c8c0-b283e3ba03b1"
      },
      "execution_count": 29,
      "outputs": [
        {
          "output_type": "execute_result",
          "data": {
            "text/plain": [
              "{'name': 'text_vectorization',\n",
              " 'trainable': True,\n",
              " 'dtype': 'string',\n",
              " 'batch_input_shape': (None,),\n",
              " 'max_tokens': None,\n",
              " 'standardize': 'lower_and_strip_punctuation',\n",
              " 'split': 'whitespace',\n",
              " 'ngrams': None,\n",
              " 'output_mode': 'int',\n",
              " 'output_sequence_length': None,\n",
              " 'pad_to_max_tokens': False,\n",
              " 'sparse': False,\n",
              " 'ragged': False,\n",
              " 'vocabulary': None,\n",
              " 'idf_weights': None,\n",
              " 'encoding': 'utf-8',\n",
              " 'vocabulary_size': 24}"
            ]
          },
          "metadata": {},
          "execution_count": 29
        }
      ]
    },
    {
      "cell_type": "code",
      "source": [
        "[len(sentence.split(\" \")) for sentence in corpus] #this means the output_sequence_length will be set to 11"
      ],
      "metadata": {
        "colab": {
          "base_uri": "https://localhost:8080/"
        },
        "id": "1AhIKBFIniNe",
        "outputId": "0b268b17-ec6e-4b74-a49d-ba7cc737c924"
      },
      "execution_count": 30,
      "outputs": [
        {
          "output_type": "execute_result",
          "data": {
            "text/plain": [
              "[11, 6, 7, 10]"
            ]
          },
          "metadata": {},
          "execution_count": 30
        }
      ]
    },
    {
      "cell_type": "code",
      "source": [
        "# Create sample sentence and tokenize it\n",
        "sample_sentence = corpus[2]\n",
        "vectorizer([sample_sentence])"
      ],
      "metadata": {
        "colab": {
          "base_uri": "https://localhost:8080/"
        },
        "id": "j4nWSpOGzTiO",
        "outputId": "c3ef3c6b-070f-4efc-ca25-afdbe0e62bf2"
      },
      "execution_count": 31,
      "outputs": [
        {
          "output_type": "execute_result",
          "data": {
            "text/plain": [
              "<tf.Tensor: shape=(1, 7), dtype=int64, numpy=array([[ 8,  4,  2, 18,  3,  5,  7]])>"
            ]
          },
          "metadata": {},
          "execution_count": 31
        }
      ]
    },
    {
      "cell_type": "markdown",
      "source": [
        "## 2.2 Embedding"
      ],
      "metadata": {
        "id": "aSuJ1RnQmrrJ"
      }
    },
    {
      "cell_type": "markdown",
      "source": [
        "There are two required input parameters:\n",
        "- input_dim : size of the vocabulary (number of unique tokens)\n",
        "- output_dim: size of the output embedding space\n",
        "\n",
        "The other arguments have default values. Some important one to know about:\n",
        "- embeddings_initializer: set to uniform by default\n",
        "\n",
        "Useful links to consider:\n",
        "\n",
        "- https://www.tensorflow.org/text/guide/word_embeddings\n",
        "- https://www.tensorflow.org/tutorials/keras/text_classification_with_hub: use pre-trained word embedding\n",
        "- classify text/sentiment with BERT: https://www.tensorflow.org/text/tutorials/classify_text_with_bert\n",
        "- https://towardsdatascience.com/sentiment-analysis-in-10-minutes-with-bert-and-hugging-face-294e8a04b671\n",
        "- pytorch bert fine tuning: https://medium.com/@Mirza_Yusuf/using-a-bert-model-for-sentiment-analysis-6c6fcc106843\n"
      ],
      "metadata": {
        "id": "B0stsiaxzjyP"
      }
    },
    {
      "cell_type": "code",
      "source": [
        "vocab_size = 24\n",
        "embedding_size = 8\n",
        "embedding = tf.keras.layers.Embedding(\n",
        "               input_dim=vocab_size ,\n",
        "              output_dim=embedding_size,\n",
        "    embeddings_initializer='uniform'\n",
        ")"
      ],
      "metadata": {
        "id": "pvSjYTrUzkzO"
      },
      "execution_count": 32,
      "outputs": []
    },
    {
      "cell_type": "code",
      "source": [
        "print(embedding(tf.constant([10,4,5,9])).shape)\n",
        "print(embedding(tf.constant([10,4,5,9])))\n",
        "#embeding takes input integer values"
      ],
      "metadata": {
        "colab": {
          "base_uri": "https://localhost:8080/"
        },
        "id": "zRmQYKIDVgkD",
        "outputId": "0d799a92-83bf-4737-9cbe-3ba3e63681da"
      },
      "execution_count": 33,
      "outputs": [
        {
          "output_type": "stream",
          "name": "stdout",
          "text": [
            "(4, 8)\n",
            "tf.Tensor(\n",
            "[[-0.04203214  0.01337994  0.03646312  0.04929337 -0.02708019  0.03615806\n",
            "  -0.02131817  0.03544432]\n",
            " [ 0.0381338   0.02051058 -0.00297564  0.00727659 -0.0020958   0.02214464\n",
            "   0.04702822  0.03563849]\n",
            " [-0.01176278 -0.03545793 -0.04711372 -0.0077669   0.02898845  0.02509258\n",
            "   0.00513568  0.00782961]\n",
            " [ 0.00749301  0.0486594  -0.02077652 -0.02625374  0.03160615  0.01160811\n",
            "   0.01325678  0.02337328]], shape=(4, 8), dtype=float32)\n"
          ]
        }
      ]
    },
    {
      "cell_type": "markdown",
      "source": [
        "Now let's pass the corpus:"
      ],
      "metadata": {
        "id": "v4G3B2zjV-Le"
      }
    },
    {
      "cell_type": "code",
      "source": [
        "x = embedding(vectorizer(corpus))\n",
        "print(x.shape)\n",
        "print(x[0].shape)\n",
        "print(x[0])\n",
        "print(corpus[0]) #11 tokens (words) with 8 dimensional embedding space"
      ],
      "metadata": {
        "colab": {
          "base_uri": "https://localhost:8080/"
        },
        "id": "S7NXMln1Uz01",
        "outputId": "c5b2ff23-72b6-4b17-d9c3-858c22818fff"
      },
      "execution_count": 34,
      "outputs": [
        {
          "output_type": "stream",
          "name": "stdout",
          "text": [
            "(4, 11, 8)\n",
            "(11, 8)\n",
            "tf.Tensor(\n",
            "[[ 0.0381338   0.02051058 -0.00297564  0.00727659 -0.0020958   0.02214464\n",
            "   0.04702822  0.03563849]\n",
            " [-0.01234647  0.00941389 -0.01064409  0.02751068  0.01814169  0.04831708\n",
            "  -0.01712921  0.01455048]\n",
            " [-0.02727546  0.04718148 -0.03252397  0.01089138  0.00344657 -0.0218935\n",
            "  -0.01862286  0.04076533]\n",
            " [-0.04203214  0.01337994  0.03646312  0.04929337 -0.02708019  0.03615806\n",
            "  -0.02131817  0.03544432]\n",
            " [-0.01591966 -0.03781153 -0.04928296  0.04846514  0.02763529 -0.02552445\n",
            "  -0.01914325  0.04301698]\n",
            " [ 0.04362161 -0.03769841  0.02246776  0.04962229  0.01511805 -0.03334907\n",
            "   0.02947109 -0.00124961]\n",
            " [ 0.0381338   0.02051058 -0.00297564  0.00727659 -0.0020958   0.02214464\n",
            "   0.04702822  0.03563849]\n",
            " [-0.02727546  0.04718148 -0.03252397  0.01089138  0.00344657 -0.0218935\n",
            "  -0.01862286  0.04076533]\n",
            " [-0.03393525  0.00967889  0.04325919 -0.04072176 -0.00050389  0.04192467\n",
            "   0.03544815  0.00283583]\n",
            " [-0.01591966 -0.03781153 -0.04928296  0.04846514  0.02763529 -0.02552445\n",
            "  -0.01914325  0.04301698]\n",
            " [-0.02024214  0.03920561  0.04052123  0.04249013  0.01168802  0.02698122\n",
            "   0.00110952  0.00483636]], shape=(11, 8), dtype=float32)\n",
            "Food service was slow and the food was bad and late.\n"
          ]
        }
      ]
    },
    {
      "cell_type": "markdown",
      "source": [
        "#3. **Train test split and fitting text vectorizer and embedding**\n",
        "\n",
        "Next, we split the airlines tweet data into training and testing. We will also fit the text vectorizer to the training set and create the embedding layer."
      ],
      "metadata": {
        "id": "xyRn8ZX0CSEH"
      }
    },
    {
      "cell_type": "markdown",
      "source": [
        "## 3.1 Generate train test split"
      ],
      "metadata": {
        "id": "MjnMovRQNAm2"
      }
    },
    {
      "cell_type": "code",
      "source": [
        "cleaned_txt = df[\"text\"].apply(clean_text) #need to fix this step\n",
        "df[\"text_cleaned\"] = cleaned_txt\n",
        "df[\"text_cleaned\"].head()\n",
        "\n"
      ],
      "metadata": {
        "colab": {
          "base_uri": "https://localhost:8080/"
        },
        "id": "dat9KCrGCHRP",
        "outputId": "a481b5ce-f4f8-4f4b-f669-d790ff038e06"
      },
      "execution_count": 35,
      "outputs": [
        {
          "output_type": "execute_result",
          "data": {
            "text/plain": [
              "0                                                                              said\n",
              "1                                      plus youve added commercial experience tacky\n",
              "2                                      didnt today must mean need take another trip\n",
              "3    really aggressive blast obnoxious entertainment guest face amp little recourse\n",
              "4                                                              really big bad thing\n",
              "Name: text_cleaned, dtype: object"
            ]
          },
          "metadata": {},
          "execution_count": 35
        }
      ]
    },
    {
      "cell_type": "code",
      "source": [
        "del cleaned_txt\n",
        "from sklearn.model_selection import train_test_split\n",
        "#X = df['text_cleaned']\n",
        "X = df['text_cleaned']\n",
        "df[\"target\"] = df[\"airline_sentiment\"].map({\"positive\": 2, \"neutral\": 1, \"negative\": 0}) #we need to recode the string to int\n",
        "\n",
        "y = df['target']\n",
        "X_train, X_test, y_train, y_test = train_test_split(X,\n",
        "                                                    y,\n",
        "                                                    test_size=0.2,\n",
        "                                                    stratify=y,\n",
        "                                                    random_state=42)"
      ],
      "metadata": {
        "id": "8sxZwh-LCWZM"
      },
      "execution_count": 36,
      "outputs": []
    },
    {
      "cell_type": "code",
      "source": [
        "df.dtypes"
      ],
      "metadata": {
        "colab": {
          "base_uri": "https://localhost:8080/"
        },
        "id": "EbhIfOyt5Z4m",
        "outputId": "99783b36-bd09-42c4-9391-7ddf3f52283a"
      },
      "execution_count": 37,
      "outputs": [
        {
          "output_type": "execute_result",
          "data": {
            "text/plain": [
              "tweet_id                          int64\n",
              "airline_sentiment                object\n",
              "airline_sentiment_confidence    float64\n",
              "negativereason                   object\n",
              "negativereason_confidence       float64\n",
              "airline                          object\n",
              "airline_sentiment_gold           object\n",
              "name                             object\n",
              "negativereason_gold              object\n",
              "retweet_count                     int64\n",
              "text                             object\n",
              "tweet_coord                      object\n",
              "tweet_created                    object\n",
              "tweet_location                   object\n",
              "user_timezone                    object\n",
              "text_cleaned                     object\n",
              "target                            int64\n",
              "dtype: object"
            ]
          },
          "metadata": {},
          "execution_count": 37
        }
      ]
    },
    {
      "cell_type": "code",
      "source": [
        "df['airline_sentiment'].value_counts(dropna=False)"
      ],
      "metadata": {
        "colab": {
          "base_uri": "https://localhost:8080/"
        },
        "id": "2WOnRMZM6yoT",
        "outputId": "a6a18c94-12d2-4231-a7e0-1cb0817603bd"
      },
      "execution_count": 38,
      "outputs": [
        {
          "output_type": "execute_result",
          "data": {
            "text/plain": [
              "negative    9178\n",
              "neutral     3099\n",
              "positive    2363\n",
              "Name: airline_sentiment, dtype: int64"
            ]
          },
          "metadata": {},
          "execution_count": 38
        }
      ]
    },
    {
      "cell_type": "code",
      "source": [
        "print(X_train.shape)\n",
        "print(X_test.shape)\n",
        "print(y_train.shape)\n",
        "print(y_test.shape)"
      ],
      "metadata": {
        "colab": {
          "base_uri": "https://localhost:8080/"
        },
        "id": "tnb55TkiCZrQ",
        "outputId": "6556835f-df69-4247-abfb-3e7ff5e9b272"
      },
      "execution_count": 39,
      "outputs": [
        {
          "output_type": "stream",
          "name": "stdout",
          "text": [
            "(11712,)\n",
            "(2928,)\n",
            "(11712,)\n",
            "(2928,)\n"
          ]
        }
      ]
    },
    {
      "cell_type": "code",
      "source": [
        "X_train"
      ],
      "metadata": {
        "colab": {
          "base_uri": "https://localhost:8080/"
        },
        "id": "PWq1EX_ZCbKS",
        "outputId": "271ae56a-6394-4372-d402-527695ff6977"
      },
      "execution_count": 40,
      "outputs": [
        {
          "output_type": "execute_result",
          "data": {
            "text/plain": [
              "1262                                                                                           would cost\n",
              "10772                              used get email snack time check got neither tomorrow trip not get sent\n",
              "4204     no flight cancelled flightlations one due weather one mechanical paid hotel bag held transfer no\n",
              "5491                                                                not frustrated idea great crew thanks\n",
              "12096                                                                 narrowly made standby lot snag trip\n",
              "                                                       ...                                               \n",
              "305                          flight booking problem section website seems broken chrome might wan na look\n",
              "10579                      thanks hour flight pit phx zero entertainment guess quarter million mile delta\n",
              "4514                        assigned seating cousin amp probably cant sit together flight tomorrow thanks\n",
              "7131                                                                           enough stop flying jetblue\n",
              "4927                                                                  beautiful fleet perfect evening fly\n",
              "Name: text_cleaned, Length: 11712, dtype: object"
            ]
          },
          "metadata": {},
          "execution_count": 40
        }
      ]
    },
    {
      "cell_type": "code",
      "source": [],
      "metadata": {
        "id": "nniMzcWE5YLX"
      },
      "execution_count": 40,
      "outputs": []
    },
    {
      "cell_type": "markdown",
      "source": [
        "## 3.2 Fit text vectorizer on training samples"
      ],
      "metadata": {
        "id": "Gv7O_ePWEN4l"
      }
    },
    {
      "cell_type": "code",
      "source": [
        "\n",
        "#import tensorflow as tf\n",
        "from tensorflow.keras.layers import TextVectorization\n",
        "\n",
        "#max_tokens = 15000\n",
        "vectorizer = TextVectorization(max_tokens=None,\n",
        "                              standardize=\"lower_and_strip_punctuation\",\n",
        "                              split=\"whitespace\",\n",
        "                              ngrams=None,\n",
        "                              output_mode=\"int\",\n",
        "                              output_sequence_length=None,\n",
        "                              pad_to_max_tokens=False,\n",
        "                              #vocabulary=corpus,\n",
        "                              idf_weights=None)\n",
        "print(vectorizer)"
      ],
      "metadata": {
        "colab": {
          "base_uri": "https://localhost:8080/"
        },
        "id": "30IdUMxAM1HM",
        "outputId": "059e94c2-603b-48f6-d9dc-1c6cfd4be53b"
      },
      "execution_count": 41,
      "outputs": [
        {
          "output_type": "stream",
          "name": "stdout",
          "text": [
            "<keras.src.layers.preprocessing.text_vectorization.TextVectorization object at 0x7f19955091b0>\n"
          ]
        }
      ]
    },
    {
      "cell_type": "code",
      "source": [
        "# Fit the text vectorizer to the training text\n",
        "vectorizer.adapt(X_train)"
      ],
      "metadata": {
        "id": "-EXlAE_LMpeJ"
      },
      "execution_count": 42,
      "outputs": []
    },
    {
      "cell_type": "code",
      "source": [
        "# Get the unique words in the vocabulary\n",
        "words_in_vocab = vectorizer.get_vocabulary()\n",
        "top_5_words = words_in_vocab[:5] # most common tokens (notice the [UNK] token for \"unknown\" words)\n",
        "bottom_5_words = words_in_vocab[-5:] # least common tokens\n",
        "print(f\"Number of words in vocab: {len(words_in_vocab)}\")\n",
        "print(f\"Top 5 most common words: {top_5_words}\")\n",
        "print(f\"Bottom 5 least common words: {bottom_5_words}\")"
      ],
      "metadata": {
        "colab": {
          "base_uri": "https://localhost:8080/"
        },
        "id": "4GieUs0NPqXw",
        "outputId": "0ed19ab2-872f-46f9-cd70-eb54d11ac7f7"
      },
      "execution_count": 43,
      "outputs": [
        {
          "output_type": "stream",
          "name": "stdout",
          "text": [
            "Number of words in vocab: 7777\n",
            "Top 5 most common words: ['', '[UNK]', 'flight', 'not', 'no']\n",
            "Bottom 5 least common words: ['ab', 'aaron', 'aal', 'aadavantage', 'aaaand']\n"
          ]
        }
      ]
    },
    {
      "cell_type": "code",
      "source": [
        "print(np.mean([len(x_val) for x_val in X_train]))\n",
        "print(np.median([len(x_val) for x_val in X_train]))\n",
        "print(np.max([len(x_val) for x_val in X_train]))\n",
        "print(np.min([len(x_val) for x_val in X_train]))"
      ],
      "metadata": {
        "colab": {
          "base_uri": "https://localhost:8080/"
        },
        "id": "sljYWCMgReE2",
        "outputId": "37e9298a-49da-437d-92d0-eb7263261a42"
      },
      "execution_count": 44,
      "outputs": [
        {
          "output_type": "stream",
          "name": "stdout",
          "text": [
            "53.98753415300546\n",
            "57.0\n",
            "129\n",
            "0\n"
          ]
        }
      ]
    },
    {
      "cell_type": "code",
      "source": [
        "#import tensorflow as tf\n",
        "from tensorflow.keras.layers import TextVectorization\n",
        "\n",
        "max_vocab = 5000\n",
        "sequence_length = 60\n",
        "vectorizer = TextVectorization(max_tokens=max_vocab,\n",
        "                              standardize=\"lower_and_strip_punctuation\",\n",
        "                              split=\"whitespace\",\n",
        "                              ngrams=None,\n",
        "                              output_mode=\"int\",\n",
        "                              output_sequence_length=sequence_length,\n",
        "                              pad_to_max_tokens=False,\n",
        "                              idf_weights=None)\n",
        "print(vectorizer)"
      ],
      "metadata": {
        "colab": {
          "base_uri": "https://localhost:8080/"
        },
        "id": "ZhMXaApXROhI",
        "outputId": "073fa1c6-d64d-4d70-f2c2-7b77c8863d9c"
      },
      "execution_count": 45,
      "outputs": [
        {
          "output_type": "stream",
          "name": "stdout",
          "text": [
            "<keras.src.layers.preprocessing.text_vectorization.TextVectorization object at 0x7f19947db1c0>\n"
          ]
        }
      ]
    },
    {
      "cell_type": "code",
      "source": [
        "# Fit the text vectorizer to the training text\n",
        "vectorizer.adapt(X_train)\n",
        "# Get the unique words in the vocabulary\n",
        "words_in_vocab = vectorizer.get_vocabulary()\n",
        "top_5_words = words_in_vocab[:5] # most common tokens (notice the [UNK] token for \"unknown\" words)\n",
        "bottom_5_words = words_in_vocab[-5:] # least common tokens\n",
        "print(f\"Number of words in vocab: {len(words_in_vocab)}\")\n",
        "print(f\"Top 5 most common words: {top_5_words}\")\n",
        "print(f\"Bottom 5 least common words: {bottom_5_words}\")"
      ],
      "metadata": {
        "colab": {
          "base_uri": "https://localhost:8080/"
        },
        "id": "oAX00k8sTJTk",
        "outputId": "7e29e17d-c8a2-4a33-ce78-2427fde24598"
      },
      "execution_count": 46,
      "outputs": [
        {
          "output_type": "stream",
          "name": "stdout",
          "text": [
            "Number of words in vocab: 5000\n",
            "Top 5 most common words: ['', '[UNK]', 'flight', 'not', 'no']\n",
            "Bottom 5 least common words: ['skyw', 'skycap', 'skipper', 'skip', 'skillful']\n"
          ]
        }
      ]
    },
    {
      "cell_type": "markdown",
      "source": [],
      "metadata": {
        "id": "YS0pkvd0TiRu"
      }
    },
    {
      "cell_type": "markdown",
      "source": [
        "#4. **Build and train model**\n",
        "- set up baseline model (random forest)\n",
        "- build DNN model"
      ],
      "metadata": {
        "id": "1MRBvNkaps41"
      }
    },
    {
      "cell_type": "markdown",
      "source": [
        "Let's define model 1 which is a simple fully connected neural network using the dense keras tensorflow layer."
      ],
      "metadata": {
        "id": "_Qm1z6YrWWWV"
      }
    },
    {
      "cell_type": "code",
      "source": [
        "#base line mode?"
      ],
      "metadata": {
        "id": "XPKxYwpiTwFg"
      },
      "execution_count": 47,
      "outputs": []
    },
    {
      "cell_type": "markdown",
      "source": [
        "# 4.1 Dense model"
      ],
      "metadata": {
        "id": "KsjCBGBnGuql"
      }
    },
    {
      "cell_type": "code",
      "source": [
        "vocab_size = max_vocab\n",
        "embedding_size = 16\n",
        "num_classes = 3"
      ],
      "metadata": {
        "id": "8eJy9-daWtQK"
      },
      "execution_count": 48,
      "outputs": []
    },
    {
      "cell_type": "code",
      "source": [
        "\n",
        "inputs = layers.Input(shape=(1,), dtype=\"string\")\n",
        "x = vectorizer(inputs)\n",
        "x = layers.Embedding(input_dim = vocab_size,\n",
        "                     output_dim = embedding_size,\n",
        "                     name = \"embedding1\")(x)\n",
        "x = layers.Dense(8,activation='relu')(x)\n",
        "x = layers.GlobalAveragePooling1D()(x)\n",
        "outputs = layers.Dense(num_classes, activation=\"softmax\")(x) # create the output layer, want binary outputs so use sigmoid activation\n",
        "model_dnn = tf.keras.Model(inputs, outputs, name= \"dnn_model\") # construct the model\n",
        "\n",
        "'''\n",
        "tensorboard_callback = tf.keras.callbacks.TensorBoard(log_dir=\"logs\")\n",
        "'''\n",
        "\n",
        "model_dnn._name = 'model_dnn' # set keras model name\n",
        "\n",
        "## Compile model\n",
        "model_dnn.compile(optimizer=tf.keras.optimizers.Adam(),\n",
        "              loss=tf.keras.losses.SparseCategoricalCrossentropy(),\n",
        "              metrics=['accuracy'])\n"
      ],
      "metadata": {
        "id": "qH9NA7yOWRLe"
      },
      "execution_count": 49,
      "outputs": []
    },
    {
      "cell_type": "code",
      "source": [
        "model_dnn.summary()"
      ],
      "metadata": {
        "colab": {
          "base_uri": "https://localhost:8080/"
        },
        "id": "IRNsmAOzUIg9",
        "outputId": "65c95673-f69b-4414-9f55-52038c8fddc2"
      },
      "execution_count": 50,
      "outputs": [
        {
          "output_type": "stream",
          "name": "stdout",
          "text": [
            "Model: \"model_dnn\"\n",
            "_________________________________________________________________\n",
            " Layer (type)                Output Shape              Param #   \n",
            "=================================================================\n",
            " input_1 (InputLayer)        [(None, 1)]               0         \n",
            "                                                                 \n",
            " text_vectorization_2 (Text  (None, 60)                0         \n",
            " Vectorization)                                                  \n",
            "                                                                 \n",
            " embedding1 (Embedding)      (None, 60, 16)            80000     \n",
            "                                                                 \n",
            " dense (Dense)               (None, 60, 8)             136       \n",
            "                                                                 \n",
            " global_average_pooling1d (  (None, 8)                 0         \n",
            " GlobalAveragePooling1D)                                         \n",
            "                                                                 \n",
            " dense_1 (Dense)             (None, 3)                 27        \n",
            "                                                                 \n",
            "=================================================================\n",
            "Total params: 80163 (313.14 KB)\n",
            "Trainable params: 80163 (313.14 KB)\n",
            "Non-trainable params: 0 (0.00 Byte)\n",
            "_________________________________________________________________\n"
          ]
        }
      ]
    },
    {
      "cell_type": "code",
      "source": [
        "# Fit model: takes between 50 and 60 minutes for epoch 10, about 10-12 minutes for 2 epochs\n",
        "\n",
        "batch_size = 128\n",
        "epochs = 2\n",
        "# Fit the model\n",
        "#https://stackoverflow.com/questions/40186722/cast-string-to-float-is-not-supported-in-linear-model\n",
        "model_dnn_history = model_dnn.fit(X_train, # input sentences can be a list of strings due to text preprocessing layer built-in model\n",
        "                              y_train,\n",
        "                              batch_size=batch_size,\n",
        "                              epochs=epochs)#,\n",
        "                              #validation_data=(val_sentences, val_labels),\n",
        "                              #callbacks=[create_tensorboard_callback(dir_name=SAVE_DIR,\n",
        "                              #                                       experiment_name=\"simple_dense_model\")])\n"
      ],
      "metadata": {
        "colab": {
          "base_uri": "https://localhost:8080/"
        },
        "id": "ucpd6PLcYJUX",
        "outputId": "842f1612-345c-4136-d3cb-451eeb09ddd6"
      },
      "execution_count": 51,
      "outputs": [
        {
          "output_type": "stream",
          "name": "stdout",
          "text": [
            "Epoch 1/2\n",
            "92/92 [==============================] - 1s 3ms/step - loss: 1.0096 - accuracy: 0.6158\n",
            "Epoch 2/2\n",
            "92/92 [==============================] - 0s 3ms/step - loss: 0.9181 - accuracy: 0.6270\n"
          ]
        }
      ]
    },
    {
      "cell_type": "markdown",
      "source": [
        "## 4.2 Recurrent LSTM model"
      ],
      "metadata": {
        "id": "uVuiYRhdG4_F"
      }
    },
    {
      "cell_type": "code",
      "source": [
        "vocab_size = max_vocab\n",
        "embedding_size = 16\n",
        "num_classes = 3"
      ],
      "metadata": {
        "id": "AWTnQ28eIdkx"
      },
      "execution_count": 52,
      "outputs": []
    },
    {
      "cell_type": "code",
      "execution_count": 53,
      "metadata": {
        "id": "6svuCq0P6Hr5"
      },
      "outputs": [],
      "source": [
        "inputs = layers.Input(shape=(1,), dtype=\"string\")\n",
        "x = vectorizer(inputs)\n",
        "x = layers.Embedding(input_dim = vocab_size,\n",
        "                     output_dim = embedding_size,\n",
        "                     name = \"embedding2\")(x)\n",
        "                     # x = layers.LSTM(64, return_sequences=True)(x) # return vector for each word in the Tweet (you can stack RNN cells as long as return_sequences=True)\n",
        "#x = layers.LSTM(64)(x) # return vector for whole sequence\n",
        "\n",
        "x = layers.LSTM(8,return_sequences=True)(x)\n",
        "x = layers.GlobalAveragePooling1D()(x)\n",
        "outputs = layers.Dense(num_classes, activation=\"softmax\")(x) # create the output layer, want binary outputs so use sigmoid activation\n",
        "model_lstm = tf.keras.Model(inputs, outputs, name= \"lstm_model\") # construct the model\n",
        "\n",
        "model_lstm._name = 'model_lstm' # set keras model name\n",
        "\n",
        "## Compile model\n",
        "model_lstm.compile(optimizer=tf.keras.optimizers.Adam(),\n",
        "              loss=tf.keras.losses.SparseCategoricalCrossentropy(),\n",
        "              metrics=['accuracy'])\n"
      ]
    },
    {
      "cell_type": "code",
      "source": [
        "model_lstm.summary()"
      ],
      "metadata": {
        "colab": {
          "base_uri": "https://localhost:8080/"
        },
        "id": "BmLI3odkIjMf",
        "outputId": "56cc3b5f-39c8-45d1-a487-8847c503dd14"
      },
      "execution_count": 54,
      "outputs": [
        {
          "output_type": "stream",
          "name": "stdout",
          "text": [
            "Model: \"model_lstm\"\n",
            "_________________________________________________________________\n",
            " Layer (type)                Output Shape              Param #   \n",
            "=================================================================\n",
            " input_2 (InputLayer)        [(None, 1)]               0         \n",
            "                                                                 \n",
            " text_vectorization_2 (Text  (None, 60)                0         \n",
            " Vectorization)                                                  \n",
            "                                                                 \n",
            " embedding2 (Embedding)      (None, 60, 16)            80000     \n",
            "                                                                 \n",
            " lstm (LSTM)                 (None, 60, 8)             800       \n",
            "                                                                 \n",
            " global_average_pooling1d_1  (None, 8)                 0         \n",
            "  (GlobalAveragePooling1D)                                       \n",
            "                                                                 \n",
            " dense_2 (Dense)             (None, 3)                 27        \n",
            "                                                                 \n",
            "=================================================================\n",
            "Total params: 80827 (315.73 KB)\n",
            "Trainable params: 80827 (315.73 KB)\n",
            "Non-trainable params: 0 (0.00 Byte)\n",
            "_________________________________________________________________\n"
          ]
        }
      ]
    },
    {
      "cell_type": "code",
      "source": [
        "# Fit model\n",
        "batch_size =128\n",
        "epochs = 2\n",
        "# Fit model: takes between 50 and 60 minutes for epoch 10, about 10-12 minutes for 2 epochs\n",
        "\n",
        "lstm_history = model_lstm.fit(X_train,\n",
        "                y_train,\n",
        "                batch_size=batch_size,\n",
        "                epochs=epochs,\n",
        "                validation_split = 0.2,\n",
        "                shuffle=True)"
      ],
      "metadata": {
        "colab": {
          "base_uri": "https://localhost:8080/"
        },
        "id": "BAgFicYDOP0c",
        "outputId": "2fe6eee5-0f21-47e6-e044-94359aeb2ca9"
      },
      "execution_count": 55,
      "outputs": [
        {
          "output_type": "stream",
          "name": "stdout",
          "text": [
            "Epoch 1/2\n",
            "74/74 [==============================] - 4s 31ms/step - loss: 0.9837 - accuracy: 0.6178 - val_loss: 0.9162 - val_accuracy: 0.6236\n",
            "Epoch 2/2\n",
            "74/74 [==============================] - 2s 22ms/step - loss: 0.9011 - accuracy: 0.6278 - val_loss: 0.8920 - val_accuracy: 0.6236\n"
          ]
        }
      ]
    },
    {
      "cell_type": "markdown",
      "source": [
        "## 4.3 CNN model"
      ],
      "metadata": {
        "id": "OkCkT_NuLMFK"
      }
    },
    {
      "cell_type": "code",
      "source": [
        "\n",
        "inputs = layers.Input(shape=(1,), dtype=\"string\")\n",
        "x = vectorizer(inputs)\n",
        "x = layers.Embedding(input_dim = vocab_size,\n",
        "                     output_dim = embedding_size,\n",
        "                     name = \"embedding3\")(x)\n",
        "x = layers.Conv1D(16,kernel_size=5,activation='relu')(x)\n",
        "x = layers.GlobalAveragePooling1D()(x)\n",
        "outputs = layers.Dense(num_classes, activation=\"softmax\")(x) # create the output layer, want binary outputs so use sigmoid activation\n",
        "model_cnn = tf.keras.Model(inputs, outputs, name= \"model_cnn\") # construct the model\n",
        "\n",
        "model_cnn._name = 'model_cnn' # set keras model name\n",
        "\n",
        "## Compile model\n",
        "model_cnn.compile(optimizer=tf.keras.optimizers.Adam(),\n",
        "              loss=tf.keras.losses.SparseCategoricalCrossentropy(),\n",
        "              metrics=['accuracy'])"
      ],
      "metadata": {
        "id": "f5qf_capWVE1"
      },
      "execution_count": 56,
      "outputs": []
    },
    {
      "cell_type": "code",
      "source": [
        "model_cnn.summary()"
      ],
      "metadata": {
        "id": "NX9MPWm0W2ye",
        "colab": {
          "base_uri": "https://localhost:8080/"
        },
        "outputId": "4cc05f3a-c4c9-46ab-95fa-2cc5a2d01682"
      },
      "execution_count": 57,
      "outputs": [
        {
          "output_type": "stream",
          "name": "stdout",
          "text": [
            "Model: \"model_cnn\"\n",
            "_________________________________________________________________\n",
            " Layer (type)                Output Shape              Param #   \n",
            "=================================================================\n",
            " input_3 (InputLayer)        [(None, 1)]               0         \n",
            "                                                                 \n",
            " text_vectorization_2 (Text  (None, 60)                0         \n",
            " Vectorization)                                                  \n",
            "                                                                 \n",
            " embedding3 (Embedding)      (None, 60, 16)            80000     \n",
            "                                                                 \n",
            " conv1d (Conv1D)             (None, 56, 16)            1296      \n",
            "                                                                 \n",
            " global_average_pooling1d_2  (None, 16)                0         \n",
            "  (GlobalAveragePooling1D)                                       \n",
            "                                                                 \n",
            " dense_3 (Dense)             (None, 3)                 51        \n",
            "                                                                 \n",
            "=================================================================\n",
            "Total params: 81347 (317.76 KB)\n",
            "Trainable params: 81347 (317.76 KB)\n",
            "Non-trainable params: 0 (0.00 Byte)\n",
            "_________________________________________________________________\n"
          ]
        }
      ]
    },
    {
      "cell_type": "code",
      "source": [
        "# Fit model\n",
        "batch_size =128\n",
        "epochs = 2\n",
        "# Fit model: takes between 50 and 60 minutes for epoch 10, about 10-12 minutes for 2 epochs\n",
        "\n",
        "cnn_history = model_cnn.fit(X_train,\n",
        "                y_train,\n",
        "                batch_size=batch_size,\n",
        "                epochs=epochs,\n",
        "                validation_split = 0.2,\n",
        "                shuffle=True)"
      ],
      "metadata": {
        "colab": {
          "base_uri": "https://localhost:8080/"
        },
        "id": "gsPk6fJ_T8jm",
        "outputId": "236677bf-dee7-4027-9b05-f106e194e688"
      },
      "execution_count": 58,
      "outputs": [
        {
          "output_type": "stream",
          "name": "stdout",
          "text": [
            "Epoch 1/2\n",
            "74/74 [==============================] - 1s 7ms/step - loss: 0.9848 - accuracy: 0.6278 - val_loss: 0.9221 - val_accuracy: 0.6236\n",
            "Epoch 2/2\n",
            "74/74 [==============================] - 0s 4ms/step - loss: 0.9094 - accuracy: 0.6278 - val_loss: 0.9053 - val_accuracy: 0.6236\n"
          ]
        }
      ]
    },
    {
      "cell_type": "markdown",
      "source": [
        "## 4.4 Training models created"
      ],
      "metadata": {
        "id": "8mGmP2-oSnjw"
      }
    },
    {
      "cell_type": "code",
      "source": [
        "## Loop through this\n",
        "#run_model = True\n",
        "list_models=[model_dnn,model_lstm,model_cnn] #use the model\n",
        "\n",
        "list_hist_df=[]\n",
        "epochs = 100\n",
        "batch_size = 128\n",
        "\n",
        "if run_model==True:\n",
        "\n",
        "  for model in list_models:\n",
        "  #if run_model=True then train model and store weights and history\n",
        "\n",
        "    # Fit model: takes between 50 and 60 minutes\n",
        "\n",
        "    model_name = model._name\n",
        "    history_model = model.fit(X_train,\n",
        "                y_train,\n",
        "                batch_size=batch_size,\n",
        "                epochs=epochs,\n",
        "                validation_split = 0.2,\n",
        "                shuffle=True)\n",
        "\n",
        "    hist_df = pd.DataFrame(history_model.history)\n",
        "\n",
        "    # save to json:\n",
        "    hist_json_file = 'history_'+model_name+'_'+out_suffix+'.json'\n",
        "    with open(hist_json_file, mode='w') as f:\n",
        "        hist_df.to_json(f)\n",
        "    # save to csv:\n",
        "    hist_csv_file = 'history_'+model_name+'_'+out_suffix+'.csv'\n",
        "    with open(hist_csv_file, mode='w') as f:\n",
        "        hist_df.to_csv(f)\n",
        "    # serialize weights to HDF5\n",
        "    #model.save_weights(model_name+'_'+out_suffix+'.h5')\n",
        "    #model.save_weights(model_name+'_'+out_suffix+'.h5')\n",
        "    #Passing save_format='tf' to save()\n",
        "    #model.save(model_name+'_'+out_suffix+'.keras')\n",
        "    model.save(model_name+'_'+out_suffix,save_format='tf')\n",
        "    list_hist_df.append(hist_df)\n",
        "    print(\"Saved model to disk \", model_name)\n",
        "\n",
        "  #if run_model=False then load models weights and loss history from h5 file\n",
        "if run_model==False:\n",
        "  if model_path is None:\n",
        "    model_path = out_dir #classified\n",
        "    print('Set model path to output directory')\n",
        "\n",
        "  model_names=['model_dnn','model_lstm','model_cnn']\n",
        "  i=0\n",
        "  for model_name in model_names:\n",
        "    print(i)\n",
        "    print(model_name)\n",
        "    fileglob =\"*\"+model_name+\"*.h5\"\n",
        "    model_path_filename= os.path.join(model_path,fileglob) #classified\n",
        "    model_path_filename = glob.glob(model_path_filename,recursive=False)[0]\n",
        "    model=list_models[i]\n",
        "    model.summary()\n",
        "    print('This is the model path ',model_path_filename)\n",
        "    model.load_weights(model_path_filename)\n",
        "    fileglob ='*'+model_name+\"*.csv\"\n",
        "    history_model_path = os.path.join(model_path,fileglob) #classified\n",
        "    history_model_path = glob.glob(history_model_path,recursive=False)[0]\n",
        "    hist_df = pd.read_csv(history_model_path)\n",
        "    list_models[i]=model #put the updated model with weights in the list\n",
        "    list_hist_df.append(hist_df)\n",
        "    i=i+1\n",
        "\n",
        "#https://www.tensorflow.org/tutorials/keras/save_and_load"
      ],
      "metadata": {
        "colab": {
          "base_uri": "https://localhost:8080/"
        },
        "id": "FMJvDYUBSnBb",
        "outputId": "de42d200-51b1-47a9-f31f-0741b92e6a5e"
      },
      "execution_count": 59,
      "outputs": [
        {
          "output_type": "stream",
          "name": "stdout",
          "text": [
            "Epoch 1/100\n",
            "74/74 [==============================] - 0s 6ms/step - loss: 0.9019 - accuracy: 0.6278 - val_loss: 0.8992 - val_accuracy: 0.6236\n",
            "Epoch 2/100\n",
            "74/74 [==============================] - 0s 3ms/step - loss: 0.8842 - accuracy: 0.6278 - val_loss: 0.8773 - val_accuracy: 0.6236\n",
            "Epoch 3/100\n",
            "74/74 [==============================] - 0s 4ms/step - loss: 0.8531 - accuracy: 0.6278 - val_loss: 0.8393 - val_accuracy: 0.6236\n",
            "Epoch 4/100\n",
            "74/74 [==============================] - 0s 4ms/step - loss: 0.8037 - accuracy: 0.6282 - val_loss: 0.7859 - val_accuracy: 0.6248\n",
            "Epoch 5/100\n",
            "74/74 [==============================] - 0s 4ms/step - loss: 0.7431 - accuracy: 0.6404 - val_loss: 0.7306 - val_accuracy: 0.6551\n",
            "Epoch 6/100\n",
            "74/74 [==============================] - 0s 4ms/step - loss: 0.6868 - accuracy: 0.6963 - val_loss: 0.6886 - val_accuracy: 0.6965\n",
            "Epoch 7/100\n",
            "74/74 [==============================] - 0s 3ms/step - loss: 0.6422 - accuracy: 0.7385 - val_loss: 0.6550 - val_accuracy: 0.7405\n",
            "Epoch 8/100\n",
            "74/74 [==============================] - 0s 3ms/step - loss: 0.6067 - accuracy: 0.7597 - val_loss: 0.6295 - val_accuracy: 0.7542\n",
            "Epoch 9/100\n",
            "74/74 [==============================] - 0s 3ms/step - loss: 0.5764 - accuracy: 0.7759 - val_loss: 0.6083 - val_accuracy: 0.7644\n",
            "Epoch 10/100\n",
            "74/74 [==============================] - 0s 4ms/step - loss: 0.5518 - accuracy: 0.7875 - val_loss: 0.5933 - val_accuracy: 0.7721\n",
            "Epoch 11/100\n",
            "74/74 [==============================] - 0s 3ms/step - loss: 0.5310 - accuracy: 0.7944 - val_loss: 0.5807 - val_accuracy: 0.7751\n",
            "Epoch 12/100\n",
            "74/74 [==============================] - 0s 3ms/step - loss: 0.5129 - accuracy: 0.8016 - val_loss: 0.5713 - val_accuracy: 0.7823\n",
            "Epoch 13/100\n",
            "74/74 [==============================] - 0s 3ms/step - loss: 0.4977 - accuracy: 0.8103 - val_loss: 0.5640 - val_accuracy: 0.7862\n",
            "Epoch 14/100\n",
            "74/74 [==============================] - 0s 4ms/step - loss: 0.4843 - accuracy: 0.8157 - val_loss: 0.5587 - val_accuracy: 0.7879\n",
            "Epoch 15/100\n",
            "74/74 [==============================] - 0s 4ms/step - loss: 0.4723 - accuracy: 0.8218 - val_loss: 0.5545 - val_accuracy: 0.7909\n",
            "Epoch 16/100\n",
            "74/74 [==============================] - 0s 4ms/step - loss: 0.4614 - accuracy: 0.8275 - val_loss: 0.5519 - val_accuracy: 0.7930\n",
            "Epoch 17/100\n",
            "74/74 [==============================] - 0s 4ms/step - loss: 0.4516 - accuracy: 0.8310 - val_loss: 0.5491 - val_accuracy: 0.7934\n",
            "Epoch 18/100\n",
            "74/74 [==============================] - 0s 4ms/step - loss: 0.4422 - accuracy: 0.8354 - val_loss: 0.5478 - val_accuracy: 0.7917\n",
            "Epoch 19/100\n",
            "74/74 [==============================] - 0s 4ms/step - loss: 0.4335 - accuracy: 0.8382 - val_loss: 0.5462 - val_accuracy: 0.7921\n",
            "Epoch 20/100\n",
            "74/74 [==============================] - 0s 3ms/step - loss: 0.4253 - accuracy: 0.8416 - val_loss: 0.5457 - val_accuracy: 0.7939\n",
            "Epoch 21/100\n",
            "74/74 [==============================] - 0s 3ms/step - loss: 0.4175 - accuracy: 0.8456 - val_loss: 0.5461 - val_accuracy: 0.7939\n",
            "Epoch 22/100\n",
            "74/74 [==============================] - 0s 4ms/step - loss: 0.4102 - accuracy: 0.8477 - val_loss: 0.5467 - val_accuracy: 0.7917\n",
            "Epoch 23/100\n",
            "74/74 [==============================] - 0s 4ms/step - loss: 0.4033 - accuracy: 0.8492 - val_loss: 0.5477 - val_accuracy: 0.7917\n",
            "Epoch 24/100\n",
            "74/74 [==============================] - 0s 4ms/step - loss: 0.3966 - accuracy: 0.8524 - val_loss: 0.5490 - val_accuracy: 0.7896\n",
            "Epoch 25/100\n",
            "74/74 [==============================] - 0s 4ms/step - loss: 0.3903 - accuracy: 0.8545 - val_loss: 0.5501 - val_accuracy: 0.7896\n",
            "Epoch 26/100\n",
            "74/74 [==============================] - 0s 4ms/step - loss: 0.3843 - accuracy: 0.8555 - val_loss: 0.5515 - val_accuracy: 0.7892\n",
            "Epoch 27/100\n",
            "74/74 [==============================] - 0s 4ms/step - loss: 0.3785 - accuracy: 0.8579 - val_loss: 0.5540 - val_accuracy: 0.7904\n",
            "Epoch 28/100\n",
            "74/74 [==============================] - 0s 4ms/step - loss: 0.3731 - accuracy: 0.8606 - val_loss: 0.5569 - val_accuracy: 0.7887\n",
            "Epoch 29/100\n",
            "74/74 [==============================] - 0s 4ms/step - loss: 0.3677 - accuracy: 0.8638 - val_loss: 0.5590 - val_accuracy: 0.7879\n",
            "Epoch 30/100\n",
            "74/74 [==============================] - 0s 3ms/step - loss: 0.3624 - accuracy: 0.8646 - val_loss: 0.5622 - val_accuracy: 0.7857\n",
            "Epoch 31/100\n",
            "74/74 [==============================] - 0s 3ms/step - loss: 0.3574 - accuracy: 0.8668 - val_loss: 0.5650 - val_accuracy: 0.7857\n",
            "Epoch 32/100\n",
            "74/74 [==============================] - 0s 3ms/step - loss: 0.3523 - accuracy: 0.8717 - val_loss: 0.5680 - val_accuracy: 0.7840\n",
            "Epoch 33/100\n",
            "74/74 [==============================] - 0s 4ms/step - loss: 0.3476 - accuracy: 0.8730 - val_loss: 0.5721 - val_accuracy: 0.7836\n",
            "Epoch 34/100\n",
            "74/74 [==============================] - 0s 3ms/step - loss: 0.3425 - accuracy: 0.8750 - val_loss: 0.5754 - val_accuracy: 0.7828\n",
            "Epoch 35/100\n",
            "74/74 [==============================] - 0s 3ms/step - loss: 0.3379 - accuracy: 0.8779 - val_loss: 0.5797 - val_accuracy: 0.7828\n",
            "Epoch 36/100\n",
            "74/74 [==============================] - 0s 3ms/step - loss: 0.3333 - accuracy: 0.8805 - val_loss: 0.5833 - val_accuracy: 0.7832\n",
            "Epoch 37/100\n",
            "74/74 [==============================] - 0s 3ms/step - loss: 0.3286 - accuracy: 0.8822 - val_loss: 0.5881 - val_accuracy: 0.7828\n",
            "Epoch 38/100\n",
            "74/74 [==============================] - 0s 3ms/step - loss: 0.3244 - accuracy: 0.8844 - val_loss: 0.5925 - val_accuracy: 0.7828\n",
            "Epoch 39/100\n",
            "74/74 [==============================] - 0s 3ms/step - loss: 0.3198 - accuracy: 0.8864 - val_loss: 0.5976 - val_accuracy: 0.7845\n",
            "Epoch 40/100\n",
            "74/74 [==============================] - 0s 3ms/step - loss: 0.3155 - accuracy: 0.8874 - val_loss: 0.6023 - val_accuracy: 0.7823\n",
            "Epoch 41/100\n",
            "74/74 [==============================] - 0s 4ms/step - loss: 0.3111 - accuracy: 0.8903 - val_loss: 0.6076 - val_accuracy: 0.7785\n",
            "Epoch 42/100\n",
            "74/74 [==============================] - 0s 4ms/step - loss: 0.3070 - accuracy: 0.8924 - val_loss: 0.6126 - val_accuracy: 0.7793\n",
            "Epoch 43/100\n",
            "74/74 [==============================] - 0s 3ms/step - loss: 0.3027 - accuracy: 0.8944 - val_loss: 0.6170 - val_accuracy: 0.7789\n",
            "Epoch 44/100\n",
            "74/74 [==============================] - 0s 3ms/step - loss: 0.2984 - accuracy: 0.8951 - val_loss: 0.6240 - val_accuracy: 0.7785\n",
            "Epoch 45/100\n",
            "74/74 [==============================] - 0s 4ms/step - loss: 0.2943 - accuracy: 0.8985 - val_loss: 0.6284 - val_accuracy: 0.7785\n",
            "Epoch 46/100\n",
            "74/74 [==============================] - 0s 3ms/step - loss: 0.2901 - accuracy: 0.8990 - val_loss: 0.6354 - val_accuracy: 0.7764\n",
            "Epoch 47/100\n",
            "74/74 [==============================] - 0s 3ms/step - loss: 0.2859 - accuracy: 0.9005 - val_loss: 0.6409 - val_accuracy: 0.7742\n",
            "Epoch 48/100\n",
            "74/74 [==============================] - 0s 3ms/step - loss: 0.2818 - accuracy: 0.9028 - val_loss: 0.6481 - val_accuracy: 0.7734\n",
            "Epoch 49/100\n",
            "74/74 [==============================] - 0s 3ms/step - loss: 0.2778 - accuracy: 0.9048 - val_loss: 0.6544 - val_accuracy: 0.7725\n",
            "Epoch 50/100\n",
            "74/74 [==============================] - 0s 3ms/step - loss: 0.2738 - accuracy: 0.9062 - val_loss: 0.6613 - val_accuracy: 0.7729\n",
            "Epoch 51/100\n",
            "74/74 [==============================] - 0s 3ms/step - loss: 0.2697 - accuracy: 0.9085 - val_loss: 0.6694 - val_accuracy: 0.7734\n",
            "Epoch 52/100\n",
            "74/74 [==============================] - 0s 3ms/step - loss: 0.2658 - accuracy: 0.9085 - val_loss: 0.6754 - val_accuracy: 0.7704\n",
            "Epoch 53/100\n",
            "74/74 [==============================] - 0s 3ms/step - loss: 0.2620 - accuracy: 0.9112 - val_loss: 0.6837 - val_accuracy: 0.7700\n",
            "Epoch 54/100\n",
            "74/74 [==============================] - 0s 3ms/step - loss: 0.2582 - accuracy: 0.9122 - val_loss: 0.6909 - val_accuracy: 0.7674\n",
            "Epoch 55/100\n",
            "74/74 [==============================] - 0s 3ms/step - loss: 0.2544 - accuracy: 0.9140 - val_loss: 0.6977 - val_accuracy: 0.7700\n",
            "Epoch 56/100\n",
            "74/74 [==============================] - 0s 3ms/step - loss: 0.2507 - accuracy: 0.9147 - val_loss: 0.7049 - val_accuracy: 0.7691\n",
            "Epoch 57/100\n",
            "74/74 [==============================] - 0s 4ms/step - loss: 0.2470 - accuracy: 0.9164 - val_loss: 0.7126 - val_accuracy: 0.7695\n",
            "Epoch 58/100\n",
            "74/74 [==============================] - 0s 3ms/step - loss: 0.2433 - accuracy: 0.9178 - val_loss: 0.7201 - val_accuracy: 0.7721\n",
            "Epoch 59/100\n",
            "74/74 [==============================] - 0s 3ms/step - loss: 0.2398 - accuracy: 0.9193 - val_loss: 0.7274 - val_accuracy: 0.7691\n",
            "Epoch 60/100\n",
            "74/74 [==============================] - 0s 3ms/step - loss: 0.2364 - accuracy: 0.9205 - val_loss: 0.7381 - val_accuracy: 0.7700\n",
            "Epoch 61/100\n",
            "74/74 [==============================] - 0s 4ms/step - loss: 0.2328 - accuracy: 0.9215 - val_loss: 0.7465 - val_accuracy: 0.7734\n",
            "Epoch 62/100\n",
            "74/74 [==============================] - 0s 3ms/step - loss: 0.2295 - accuracy: 0.9229 - val_loss: 0.7537 - val_accuracy: 0.7704\n",
            "Epoch 63/100\n",
            "74/74 [==============================] - 0s 3ms/step - loss: 0.2267 - accuracy: 0.9238 - val_loss: 0.7620 - val_accuracy: 0.7712\n",
            "Epoch 64/100\n",
            "74/74 [==============================] - 0s 3ms/step - loss: 0.2229 - accuracy: 0.9259 - val_loss: 0.7712 - val_accuracy: 0.7708\n",
            "Epoch 65/100\n",
            "74/74 [==============================] - 0s 3ms/step - loss: 0.2198 - accuracy: 0.9264 - val_loss: 0.7798 - val_accuracy: 0.7712\n",
            "Epoch 66/100\n",
            "74/74 [==============================] - 0s 3ms/step - loss: 0.2170 - accuracy: 0.9267 - val_loss: 0.7883 - val_accuracy: 0.7700\n",
            "Epoch 67/100\n",
            "74/74 [==============================] - 0s 3ms/step - loss: 0.2138 - accuracy: 0.9283 - val_loss: 0.7988 - val_accuracy: 0.7695\n",
            "Epoch 68/100\n",
            "74/74 [==============================] - 0s 4ms/step - loss: 0.2109 - accuracy: 0.9297 - val_loss: 0.8062 - val_accuracy: 0.7695\n",
            "Epoch 69/100\n",
            "74/74 [==============================] - 0s 4ms/step - loss: 0.2079 - accuracy: 0.9304 - val_loss: 0.8164 - val_accuracy: 0.7691\n",
            "Epoch 70/100\n",
            "74/74 [==============================] - 0s 4ms/step - loss: 0.2053 - accuracy: 0.9317 - val_loss: 0.8260 - val_accuracy: 0.7682\n",
            "Epoch 71/100\n",
            "74/74 [==============================] - 0s 4ms/step - loss: 0.2025 - accuracy: 0.9327 - val_loss: 0.8355 - val_accuracy: 0.7682\n",
            "Epoch 72/100\n",
            "74/74 [==============================] - 0s 4ms/step - loss: 0.2001 - accuracy: 0.9334 - val_loss: 0.8440 - val_accuracy: 0.7687\n",
            "Epoch 73/100\n",
            "74/74 [==============================] - 0s 4ms/step - loss: 0.1973 - accuracy: 0.9352 - val_loss: 0.8549 - val_accuracy: 0.7653\n",
            "Epoch 74/100\n",
            "74/74 [==============================] - 0s 4ms/step - loss: 0.1947 - accuracy: 0.9356 - val_loss: 0.8622 - val_accuracy: 0.7631\n",
            "Epoch 75/100\n",
            "74/74 [==============================] - 0s 4ms/step - loss: 0.1923 - accuracy: 0.9370 - val_loss: 0.8730 - val_accuracy: 0.7631\n",
            "Epoch 76/100\n",
            "74/74 [==============================] - 0s 3ms/step - loss: 0.1897 - accuracy: 0.9375 - val_loss: 0.8818 - val_accuracy: 0.7636\n",
            "Epoch 77/100\n",
            "74/74 [==============================] - 0s 3ms/step - loss: 0.1874 - accuracy: 0.9370 - val_loss: 0.8911 - val_accuracy: 0.7606\n",
            "Epoch 78/100\n",
            "74/74 [==============================] - 0s 3ms/step - loss: 0.1851 - accuracy: 0.9385 - val_loss: 0.9009 - val_accuracy: 0.7623\n",
            "Epoch 79/100\n",
            "74/74 [==============================] - 0s 3ms/step - loss: 0.1828 - accuracy: 0.9393 - val_loss: 0.9107 - val_accuracy: 0.7610\n",
            "Epoch 80/100\n",
            "74/74 [==============================] - 0s 3ms/step - loss: 0.1806 - accuracy: 0.9387 - val_loss: 0.9205 - val_accuracy: 0.7589\n",
            "Epoch 81/100\n",
            "74/74 [==============================] - 0s 3ms/step - loss: 0.1785 - accuracy: 0.9400 - val_loss: 0.9303 - val_accuracy: 0.7597\n",
            "Epoch 82/100\n",
            "74/74 [==============================] - 0s 3ms/step - loss: 0.1764 - accuracy: 0.9402 - val_loss: 0.9385 - val_accuracy: 0.7567\n",
            "Epoch 83/100\n",
            "74/74 [==============================] - 0s 4ms/step - loss: 0.1745 - accuracy: 0.9414 - val_loss: 0.9503 - val_accuracy: 0.7576\n",
            "Epoch 84/100\n",
            "74/74 [==============================] - 0s 3ms/step - loss: 0.1726 - accuracy: 0.9420 - val_loss: 0.9603 - val_accuracy: 0.7559\n",
            "Epoch 85/100\n",
            "74/74 [==============================] - 0s 3ms/step - loss: 0.1709 - accuracy: 0.9425 - val_loss: 0.9693 - val_accuracy: 0.7546\n",
            "Epoch 86/100\n",
            "74/74 [==============================] - 0s 3ms/step - loss: 0.1687 - accuracy: 0.9442 - val_loss: 0.9790 - val_accuracy: 0.7529\n",
            "Epoch 87/100\n",
            "74/74 [==============================] - 0s 4ms/step - loss: 0.1670 - accuracy: 0.9444 - val_loss: 0.9892 - val_accuracy: 0.7537\n",
            "Epoch 88/100\n",
            "74/74 [==============================] - 0s 3ms/step - loss: 0.1651 - accuracy: 0.9454 - val_loss: 0.9989 - val_accuracy: 0.7546\n",
            "Epoch 89/100\n",
            "74/74 [==============================] - 0s 3ms/step - loss: 0.1634 - accuracy: 0.9461 - val_loss: 1.0073 - val_accuracy: 0.7537\n",
            "Epoch 90/100\n",
            "74/74 [==============================] - 0s 3ms/step - loss: 0.1617 - accuracy: 0.9456 - val_loss: 1.0181 - val_accuracy: 0.7512\n",
            "Epoch 91/100\n",
            "74/74 [==============================] - 0s 4ms/step - loss: 0.1600 - accuracy: 0.9466 - val_loss: 1.0272 - val_accuracy: 0.7520\n",
            "Epoch 92/100\n",
            "74/74 [==============================] - 0s 3ms/step - loss: 0.1585 - accuracy: 0.9474 - val_loss: 1.0379 - val_accuracy: 0.7525\n",
            "Epoch 93/100\n",
            "74/74 [==============================] - 0s 3ms/step - loss: 0.1569 - accuracy: 0.9482 - val_loss: 1.0465 - val_accuracy: 0.7512\n",
            "Epoch 94/100\n",
            "74/74 [==============================] - 0s 3ms/step - loss: 0.1554 - accuracy: 0.9493 - val_loss: 1.0566 - val_accuracy: 0.7516\n",
            "Epoch 95/100\n",
            "74/74 [==============================] - 0s 4ms/step - loss: 0.1540 - accuracy: 0.9497 - val_loss: 1.0678 - val_accuracy: 0.7512\n",
            "Epoch 96/100\n",
            "74/74 [==============================] - 0s 3ms/step - loss: 0.1525 - accuracy: 0.9490 - val_loss: 1.0767 - val_accuracy: 0.7503\n",
            "Epoch 97/100\n",
            "74/74 [==============================] - 0s 3ms/step - loss: 0.1511 - accuracy: 0.9497 - val_loss: 1.0877 - val_accuracy: 0.7503\n",
            "Epoch 98/100\n",
            "74/74 [==============================] - 0s 3ms/step - loss: 0.1495 - accuracy: 0.9505 - val_loss: 1.0981 - val_accuracy: 0.7495\n",
            "Epoch 99/100\n",
            "74/74 [==============================] - 0s 3ms/step - loss: 0.1482 - accuracy: 0.9508 - val_loss: 1.1074 - val_accuracy: 0.7499\n",
            "Epoch 100/100\n",
            "74/74 [==============================] - 0s 3ms/step - loss: 0.1469 - accuracy: 0.9516 - val_loss: 1.1180 - val_accuracy: 0.7482\n",
            "Saved model to disk  model_dnn\n",
            "Epoch 1/100\n",
            "74/74 [==============================] - 2s 22ms/step - loss: 0.7866 - accuracy: 0.6523 - val_loss: 0.6920 - val_accuracy: 0.7093\n",
            "Epoch 2/100\n",
            "74/74 [==============================] - 2s 23ms/step - loss: 0.6267 - accuracy: 0.7343 - val_loss: 0.6550 - val_accuracy: 0.7606\n",
            "Epoch 3/100\n",
            "74/74 [==============================] - 2s 23ms/step - loss: 0.5439 - accuracy: 0.7890 - val_loss: 0.5948 - val_accuracy: 0.7687\n",
            "Epoch 4/100\n",
            "74/74 [==============================] - 2s 22ms/step - loss: 0.4699 - accuracy: 0.8326 - val_loss: 0.5945 - val_accuracy: 0.7695\n",
            "Epoch 5/100\n",
            "74/74 [==============================] - 2s 22ms/step - loss: 0.4168 - accuracy: 0.8603 - val_loss: 0.5822 - val_accuracy: 0.7857\n",
            "Epoch 6/100\n",
            "74/74 [==============================] - 2s 24ms/step - loss: 0.3746 - accuracy: 0.8827 - val_loss: 0.6037 - val_accuracy: 0.7875\n",
            "Epoch 7/100\n",
            "74/74 [==============================] - 2s 24ms/step - loss: 0.3489 - accuracy: 0.8939 - val_loss: 0.6094 - val_accuracy: 0.7781\n",
            "Epoch 8/100\n",
            "74/74 [==============================] - 2s 24ms/step - loss: 0.3326 - accuracy: 0.9008 - val_loss: 0.6988 - val_accuracy: 0.7503\n",
            "Epoch 9/100\n",
            "74/74 [==============================] - 2s 25ms/step - loss: 0.3590 - accuracy: 0.8870 - val_loss: 0.6585 - val_accuracy: 0.7678\n",
            "Epoch 10/100\n",
            "74/74 [==============================] - 2s 24ms/step - loss: 0.3022 - accuracy: 0.9139 - val_loss: 0.6855 - val_accuracy: 0.7712\n",
            "Epoch 11/100\n",
            "74/74 [==============================] - 2s 22ms/step - loss: 0.2980 - accuracy: 0.9142 - val_loss: 0.6882 - val_accuracy: 0.7751\n",
            "Epoch 12/100\n",
            "74/74 [==============================] - 2s 22ms/step - loss: 0.3126 - accuracy: 0.9050 - val_loss: 0.6761 - val_accuracy: 0.7674\n",
            "Epoch 13/100\n",
            "74/74 [==============================] - 2s 22ms/step - loss: 0.2946 - accuracy: 0.9127 - val_loss: 0.7288 - val_accuracy: 0.7448\n",
            "Epoch 14/100\n",
            "74/74 [==============================] - 2s 22ms/step - loss: 0.2815 - accuracy: 0.9166 - val_loss: 0.7046 - val_accuracy: 0.7691\n",
            "Epoch 15/100\n",
            "74/74 [==============================] - 2s 22ms/step - loss: 0.2549 - accuracy: 0.9301 - val_loss: 0.7237 - val_accuracy: 0.7670\n",
            "Epoch 16/100\n",
            "74/74 [==============================] - 2s 23ms/step - loss: 0.2430 - accuracy: 0.9343 - val_loss: 0.7283 - val_accuracy: 0.7695\n",
            "Epoch 17/100\n",
            "74/74 [==============================] - 2s 23ms/step - loss: 0.2375 - accuracy: 0.9364 - val_loss: 0.7333 - val_accuracy: 0.7798\n",
            "Epoch 18/100\n",
            "74/74 [==============================] - 2s 23ms/step - loss: 0.2295 - accuracy: 0.9388 - val_loss: 0.7508 - val_accuracy: 0.7704\n",
            "Epoch 19/100\n",
            "74/74 [==============================] - 2s 22ms/step - loss: 0.2358 - accuracy: 0.9373 - val_loss: 0.7359 - val_accuracy: 0.7704\n",
            "Epoch 20/100\n",
            "74/74 [==============================] - 2s 22ms/step - loss: 0.2199 - accuracy: 0.9421 - val_loss: 0.7618 - val_accuracy: 0.7712\n",
            "Epoch 21/100\n",
            "74/74 [==============================] - 2s 22ms/step - loss: 0.2110 - accuracy: 0.9460 - val_loss: 0.7788 - val_accuracy: 0.7653\n",
            "Epoch 22/100\n",
            "74/74 [==============================] - 2s 22ms/step - loss: 0.2048 - accuracy: 0.9478 - val_loss: 0.7908 - val_accuracy: 0.7640\n",
            "Epoch 23/100\n",
            "74/74 [==============================] - 2s 22ms/step - loss: 0.2017 - accuracy: 0.9495 - val_loss: 0.7891 - val_accuracy: 0.7589\n",
            "Epoch 24/100\n",
            "74/74 [==============================] - 2s 23ms/step - loss: 0.1920 - accuracy: 0.9525 - val_loss: 0.7970 - val_accuracy: 0.7610\n",
            "Epoch 25/100\n",
            "74/74 [==============================] - 2s 23ms/step - loss: 0.1932 - accuracy: 0.9513 - val_loss: 0.7915 - val_accuracy: 0.7631\n",
            "Epoch 26/100\n",
            "74/74 [==============================] - 2s 22ms/step - loss: 0.2073 - accuracy: 0.9470 - val_loss: 0.8478 - val_accuracy: 0.7614\n",
            "Epoch 27/100\n",
            "74/74 [==============================] - 2s 22ms/step - loss: 0.2169 - accuracy: 0.9401 - val_loss: 0.8208 - val_accuracy: 0.7546\n",
            "Epoch 28/100\n",
            "74/74 [==============================] - 2s 22ms/step - loss: 0.1943 - accuracy: 0.9504 - val_loss: 0.8324 - val_accuracy: 0.7682\n",
            "Epoch 29/100\n",
            "74/74 [==============================] - 2s 22ms/step - loss: 0.1868 - accuracy: 0.9536 - val_loss: 0.8347 - val_accuracy: 0.7644\n",
            "Epoch 30/100\n",
            "74/74 [==============================] - 2s 22ms/step - loss: 0.1827 - accuracy: 0.9551 - val_loss: 0.8516 - val_accuracy: 0.7648\n",
            "Epoch 31/100\n",
            "74/74 [==============================] - 2s 23ms/step - loss: 0.1781 - accuracy: 0.9552 - val_loss: 0.8581 - val_accuracy: 0.7563\n",
            "Epoch 32/100\n",
            "74/74 [==============================] - 2s 22ms/step - loss: 0.1779 - accuracy: 0.9559 - val_loss: 0.8593 - val_accuracy: 0.7554\n",
            "Epoch 33/100\n",
            "74/74 [==============================] - 2s 22ms/step - loss: 0.1688 - accuracy: 0.9593 - val_loss: 0.8625 - val_accuracy: 0.7571\n",
            "Epoch 34/100\n",
            "74/74 [==============================] - 2s 22ms/step - loss: 0.1641 - accuracy: 0.9618 - val_loss: 0.8625 - val_accuracy: 0.7495\n",
            "Epoch 35/100\n",
            "74/74 [==============================] - 2s 22ms/step - loss: 0.1658 - accuracy: 0.9606 - val_loss: 0.8841 - val_accuracy: 0.7550\n",
            "Epoch 36/100\n",
            "74/74 [==============================] - 2s 22ms/step - loss: 0.1664 - accuracy: 0.9603 - val_loss: 0.8922 - val_accuracy: 0.7567\n",
            "Epoch 37/100\n",
            "74/74 [==============================] - 2s 22ms/step - loss: 0.1682 - accuracy: 0.9588 - val_loss: 0.8938 - val_accuracy: 0.7601\n",
            "Epoch 38/100\n",
            "74/74 [==============================] - 2s 23ms/step - loss: 0.1644 - accuracy: 0.9607 - val_loss: 0.8925 - val_accuracy: 0.7571\n",
            "Epoch 39/100\n",
            "74/74 [==============================] - 2s 22ms/step - loss: 0.2135 - accuracy: 0.9464 - val_loss: 0.9701 - val_accuracy: 0.7384\n",
            "Epoch 40/100\n",
            "74/74 [==============================] - 2s 22ms/step - loss: 0.2109 - accuracy: 0.9438 - val_loss: 0.8566 - val_accuracy: 0.7623\n",
            "Epoch 41/100\n",
            "74/74 [==============================] - 2s 22ms/step - loss: 0.1753 - accuracy: 0.9576 - val_loss: 0.8568 - val_accuracy: 0.7627\n",
            "Epoch 42/100\n",
            "74/74 [==============================] - 2s 23ms/step - loss: 0.2160 - accuracy: 0.9428 - val_loss: 0.9619 - val_accuracy: 0.7260\n",
            "Epoch 43/100\n",
            "74/74 [==============================] - 2s 22ms/step - loss: 0.2079 - accuracy: 0.9427 - val_loss: 0.8943 - val_accuracy: 0.7542\n",
            "Epoch 44/100\n",
            "74/74 [==============================] - 2s 23ms/step - loss: 0.1787 - accuracy: 0.9554 - val_loss: 0.8742 - val_accuracy: 0.7512\n",
            "Epoch 45/100\n",
            "74/74 [==============================] - 2s 22ms/step - loss: 0.1728 - accuracy: 0.9586 - val_loss: 0.8758 - val_accuracy: 0.7542\n",
            "Epoch 46/100\n",
            "74/74 [==============================] - 2s 23ms/step - loss: 0.1613 - accuracy: 0.9618 - val_loss: 0.8975 - val_accuracy: 0.7495\n",
            "Epoch 47/100\n",
            "74/74 [==============================] - 2s 21ms/step - loss: 0.1569 - accuracy: 0.9637 - val_loss: 0.9007 - val_accuracy: 0.7525\n",
            "Epoch 48/100\n",
            "74/74 [==============================] - 2s 22ms/step - loss: 0.1521 - accuracy: 0.9651 - val_loss: 0.9082 - val_accuracy: 0.7516\n",
            "Epoch 49/100\n",
            "74/74 [==============================] - 2s 22ms/step - loss: 0.1488 - accuracy: 0.9660 - val_loss: 0.9235 - val_accuracy: 0.7499\n",
            "Epoch 50/100\n",
            "74/74 [==============================] - 2s 22ms/step - loss: 0.1493 - accuracy: 0.9652 - val_loss: 0.9343 - val_accuracy: 0.7486\n",
            "Epoch 51/100\n",
            "74/74 [==============================] - 2s 22ms/step - loss: 0.1449 - accuracy: 0.9670 - val_loss: 0.9507 - val_accuracy: 0.7499\n",
            "Epoch 52/100\n",
            "74/74 [==============================] - 2s 22ms/step - loss: 0.1460 - accuracy: 0.9669 - val_loss: 0.9484 - val_accuracy: 0.7409\n",
            "Epoch 53/100\n",
            "74/74 [==============================] - 2s 23ms/step - loss: 0.1440 - accuracy: 0.9669 - val_loss: 0.9437 - val_accuracy: 0.7478\n",
            "Epoch 54/100\n",
            "74/74 [==============================] - 2s 23ms/step - loss: 0.1418 - accuracy: 0.9678 - val_loss: 0.9484 - val_accuracy: 0.7499\n",
            "Epoch 55/100\n",
            "74/74 [==============================] - 2s 22ms/step - loss: 0.1381 - accuracy: 0.9689 - val_loss: 0.9545 - val_accuracy: 0.7486\n",
            "Epoch 56/100\n",
            "74/74 [==============================] - 2s 22ms/step - loss: 0.2455 - accuracy: 0.9261 - val_loss: 0.9144 - val_accuracy: 0.7324\n",
            "Epoch 57/100\n",
            "74/74 [==============================] - 2s 22ms/step - loss: 0.2236 - accuracy: 0.9272 - val_loss: 0.9275 - val_accuracy: 0.7367\n",
            "Epoch 58/100\n",
            "74/74 [==============================] - 2s 22ms/step - loss: 0.1739 - accuracy: 0.9526 - val_loss: 0.9578 - val_accuracy: 0.7448\n",
            "Epoch 59/100\n",
            "74/74 [==============================] - 2s 22ms/step - loss: 0.1543 - accuracy: 0.9633 - val_loss: 0.9536 - val_accuracy: 0.7529\n",
            "Epoch 60/100\n",
            "74/74 [==============================] - 2s 22ms/step - loss: 0.1435 - accuracy: 0.9665 - val_loss: 0.9644 - val_accuracy: 0.7473\n",
            "Epoch 61/100\n",
            "74/74 [==============================] - 2s 23ms/step - loss: 0.1413 - accuracy: 0.9665 - val_loss: 0.9707 - val_accuracy: 0.7486\n",
            "Epoch 62/100\n",
            "74/74 [==============================] - 2s 22ms/step - loss: 0.1378 - accuracy: 0.9683 - val_loss: 0.9912 - val_accuracy: 0.7375\n",
            "Epoch 63/100\n",
            "74/74 [==============================] - 2s 23ms/step - loss: 0.1485 - accuracy: 0.9632 - val_loss: 0.9849 - val_accuracy: 0.7503\n",
            "Epoch 64/100\n",
            "74/74 [==============================] - 2s 23ms/step - loss: 0.1375 - accuracy: 0.9677 - val_loss: 0.9731 - val_accuracy: 0.7482\n",
            "Epoch 65/100\n",
            "74/74 [==============================] - 2s 22ms/step - loss: 0.1332 - accuracy: 0.9696 - val_loss: 0.9922 - val_accuracy: 0.7473\n",
            "Epoch 66/100\n",
            "74/74 [==============================] - 2s 22ms/step - loss: 0.1302 - accuracy: 0.9706 - val_loss: 0.9949 - val_accuracy: 0.7495\n",
            "Epoch 67/100\n",
            "74/74 [==============================] - 2s 22ms/step - loss: 0.1262 - accuracy: 0.9719 - val_loss: 1.0040 - val_accuracy: 0.7478\n",
            "Epoch 68/100\n",
            "74/74 [==============================] - 2s 23ms/step - loss: 0.1270 - accuracy: 0.9720 - val_loss: 1.0034 - val_accuracy: 0.7520\n",
            "Epoch 69/100\n",
            "74/74 [==============================] - 2s 22ms/step - loss: 0.1252 - accuracy: 0.9725 - val_loss: 1.0050 - val_accuracy: 0.7486\n",
            "Epoch 70/100\n",
            "74/74 [==============================] - 2s 22ms/step - loss: 0.1245 - accuracy: 0.9725 - val_loss: 1.0097 - val_accuracy: 0.7499\n",
            "Epoch 71/100\n",
            "74/74 [==============================] - 2s 22ms/step - loss: 0.1247 - accuracy: 0.9726 - val_loss: 1.0123 - val_accuracy: 0.7461\n",
            "Epoch 72/100\n",
            "74/74 [==============================] - 2s 22ms/step - loss: 0.1786 - accuracy: 0.9572 - val_loss: 1.1076 - val_accuracy: 0.7290\n",
            "Epoch 73/100\n",
            "74/74 [==============================] - 2s 22ms/step - loss: 0.2094 - accuracy: 0.9441 - val_loss: 0.9881 - val_accuracy: 0.7461\n",
            "Epoch 74/100\n",
            "74/74 [==============================] - 2s 22ms/step - loss: 0.1604 - accuracy: 0.9583 - val_loss: 0.9973 - val_accuracy: 0.7482\n",
            "Epoch 75/100\n",
            "74/74 [==============================] - 2s 23ms/step - loss: 0.1498 - accuracy: 0.9625 - val_loss: 0.9904 - val_accuracy: 0.7482\n",
            "Epoch 76/100\n",
            "74/74 [==============================] - 2s 22ms/step - loss: 0.1457 - accuracy: 0.9649 - val_loss: 0.9984 - val_accuracy: 0.7456\n",
            "Epoch 77/100\n",
            "74/74 [==============================] - 2s 22ms/step - loss: 0.1381 - accuracy: 0.9679 - val_loss: 1.0056 - val_accuracy: 0.7414\n",
            "Epoch 78/100\n",
            "74/74 [==============================] - 2s 22ms/step - loss: 0.1479 - accuracy: 0.9642 - val_loss: 1.0168 - val_accuracy: 0.7499\n",
            "Epoch 79/100\n",
            "74/74 [==============================] - 2s 23ms/step - loss: 0.1310 - accuracy: 0.9702 - val_loss: 1.0141 - val_accuracy: 0.7465\n",
            "Epoch 80/100\n",
            "74/74 [==============================] - 2s 22ms/step - loss: 0.1284 - accuracy: 0.9709 - val_loss: 1.0237 - val_accuracy: 0.7478\n",
            "Epoch 81/100\n",
            "74/74 [==============================] - 2s 22ms/step - loss: 0.1240 - accuracy: 0.9716 - val_loss: 1.0215 - val_accuracy: 0.7520\n",
            "Epoch 82/100\n",
            "74/74 [==============================] - 2s 22ms/step - loss: 0.1227 - accuracy: 0.9726 - val_loss: 1.0412 - val_accuracy: 0.7431\n",
            "Epoch 83/100\n",
            "74/74 [==============================] - 2s 22ms/step - loss: 0.1195 - accuracy: 0.9743 - val_loss: 1.0534 - val_accuracy: 0.7461\n",
            "Epoch 84/100\n",
            "74/74 [==============================] - 2s 22ms/step - loss: 0.1202 - accuracy: 0.9729 - val_loss: 1.0615 - val_accuracy: 0.7414\n",
            "Epoch 85/100\n",
            "74/74 [==============================] - 2s 22ms/step - loss: 0.1203 - accuracy: 0.9734 - val_loss: 1.0468 - val_accuracy: 0.7397\n",
            "Epoch 86/100\n",
            "74/74 [==============================] - 2s 22ms/step - loss: 0.1198 - accuracy: 0.9735 - val_loss: 1.0602 - val_accuracy: 0.7456\n",
            "Epoch 87/100\n",
            "74/74 [==============================] - 2s 22ms/step - loss: 0.1219 - accuracy: 0.9732 - val_loss: 1.0640 - val_accuracy: 0.7392\n",
            "Epoch 88/100\n",
            "74/74 [==============================] - 2s 22ms/step - loss: 0.1175 - accuracy: 0.9749 - val_loss: 1.0663 - val_accuracy: 0.7409\n",
            "Epoch 89/100\n",
            "74/74 [==============================] - 2s 22ms/step - loss: 0.1164 - accuracy: 0.9744 - val_loss: 1.0708 - val_accuracy: 0.7422\n",
            "Epoch 90/100\n",
            "74/74 [==============================] - 2s 23ms/step - loss: 0.1199 - accuracy: 0.9732 - val_loss: 1.0767 - val_accuracy: 0.7448\n",
            "Epoch 91/100\n",
            "74/74 [==============================] - 2s 22ms/step - loss: 0.1171 - accuracy: 0.9734 - val_loss: 1.0790 - val_accuracy: 0.7448\n",
            "Epoch 92/100\n",
            "74/74 [==============================] - 2s 22ms/step - loss: 0.1147 - accuracy: 0.9752 - val_loss: 1.0960 - val_accuracy: 0.7414\n",
            "Epoch 93/100\n",
            "74/74 [==============================] - 2s 22ms/step - loss: 0.1167 - accuracy: 0.9743 - val_loss: 1.0945 - val_accuracy: 0.7397\n",
            "Epoch 94/100\n",
            "74/74 [==============================] - 2s 22ms/step - loss: 0.1228 - accuracy: 0.9718 - val_loss: 1.0576 - val_accuracy: 0.7431\n",
            "Epoch 95/100\n",
            "74/74 [==============================] - 2s 22ms/step - loss: 0.1158 - accuracy: 0.9742 - val_loss: 1.0703 - val_accuracy: 0.7431\n",
            "Epoch 96/100\n",
            "74/74 [==============================] - 2s 22ms/step - loss: 0.1215 - accuracy: 0.9724 - val_loss: 1.0846 - val_accuracy: 0.7388\n",
            "Epoch 97/100\n",
            "74/74 [==============================] - 2s 23ms/step - loss: 0.1320 - accuracy: 0.9685 - val_loss: 1.0839 - val_accuracy: 0.7388\n",
            "Epoch 98/100\n",
            "74/74 [==============================] - 2s 23ms/step - loss: 0.1175 - accuracy: 0.9735 - val_loss: 1.0956 - val_accuracy: 0.7435\n",
            "Epoch 99/100\n",
            "74/74 [==============================] - 2s 22ms/step - loss: 0.1123 - accuracy: 0.9752 - val_loss: 1.1131 - val_accuracy: 0.7345\n",
            "Epoch 100/100\n",
            "74/74 [==============================] - 2s 22ms/step - loss: 0.1144 - accuracy: 0.9743 - val_loss: 1.1074 - val_accuracy: 0.7414\n",
            "Saved model to disk  model_lstm\n",
            "Epoch 1/100\n",
            "74/74 [==============================] - 0s 5ms/step - loss: 0.8826 - accuracy: 0.6278 - val_loss: 0.8671 - val_accuracy: 0.6236\n",
            "Epoch 2/100\n",
            "74/74 [==============================] - 0s 4ms/step - loss: 0.8218 - accuracy: 0.6278 - val_loss: 0.7936 - val_accuracy: 0.6240\n",
            "Epoch 3/100\n",
            "74/74 [==============================] - 0s 4ms/step - loss: 0.7290 - accuracy: 0.6549 - val_loss: 0.7144 - val_accuracy: 0.6679\n",
            "Epoch 4/100\n",
            "74/74 [==============================] - 0s 4ms/step - loss: 0.6524 - accuracy: 0.7447 - val_loss: 0.6662 - val_accuracy: 0.7490\n",
            "Epoch 5/100\n",
            "74/74 [==============================] - 0s 4ms/step - loss: 0.5972 - accuracy: 0.7741 - val_loss: 0.6327 - val_accuracy: 0.7576\n",
            "Epoch 6/100\n",
            "74/74 [==============================] - 0s 4ms/step - loss: 0.5527 - accuracy: 0.7892 - val_loss: 0.6120 - val_accuracy: 0.7571\n",
            "Epoch 7/100\n",
            "74/74 [==============================] - 0s 4ms/step - loss: 0.5170 - accuracy: 0.7990 - val_loss: 0.5956 - val_accuracy: 0.7636\n",
            "Epoch 8/100\n",
            "74/74 [==============================] - 0s 4ms/step - loss: 0.4886 - accuracy: 0.8085 - val_loss: 0.5853 - val_accuracy: 0.7665\n",
            "Epoch 9/100\n",
            "74/74 [==============================] - 0s 5ms/step - loss: 0.4639 - accuracy: 0.8135 - val_loss: 0.5819 - val_accuracy: 0.7704\n",
            "Epoch 10/100\n",
            "74/74 [==============================] - 0s 4ms/step - loss: 0.4430 - accuracy: 0.8242 - val_loss: 0.5830 - val_accuracy: 0.7721\n",
            "Epoch 11/100\n",
            "74/74 [==============================] - 0s 4ms/step - loss: 0.4253 - accuracy: 0.8290 - val_loss: 0.5799 - val_accuracy: 0.7734\n",
            "Epoch 12/100\n",
            "74/74 [==============================] - 0s 5ms/step - loss: 0.4075 - accuracy: 0.8370 - val_loss: 0.5804 - val_accuracy: 0.7759\n",
            "Epoch 13/100\n",
            "74/74 [==============================] - 0s 4ms/step - loss: 0.3915 - accuracy: 0.8443 - val_loss: 0.5865 - val_accuracy: 0.7772\n",
            "Epoch 14/100\n",
            "74/74 [==============================] - 0s 4ms/step - loss: 0.3767 - accuracy: 0.8501 - val_loss: 0.5880 - val_accuracy: 0.7738\n",
            "Epoch 15/100\n",
            "74/74 [==============================] - 0s 4ms/step - loss: 0.3637 - accuracy: 0.8557 - val_loss: 0.5933 - val_accuracy: 0.7712\n",
            "Epoch 16/100\n",
            "74/74 [==============================] - 0s 4ms/step - loss: 0.3500 - accuracy: 0.8631 - val_loss: 0.5995 - val_accuracy: 0.7717\n",
            "Epoch 17/100\n",
            "74/74 [==============================] - 0s 4ms/step - loss: 0.3391 - accuracy: 0.8691 - val_loss: 0.6066 - val_accuracy: 0.7695\n",
            "Epoch 18/100\n",
            "74/74 [==============================] - 0s 5ms/step - loss: 0.3283 - accuracy: 0.8747 - val_loss: 0.6144 - val_accuracy: 0.7725\n",
            "Epoch 19/100\n",
            "74/74 [==============================] - 0s 4ms/step - loss: 0.3166 - accuracy: 0.8793 - val_loss: 0.6228 - val_accuracy: 0.7721\n",
            "Epoch 20/100\n",
            "74/74 [==============================] - 0s 4ms/step - loss: 0.3065 - accuracy: 0.8826 - val_loss: 0.6337 - val_accuracy: 0.7734\n",
            "Epoch 21/100\n",
            "74/74 [==============================] - 0s 4ms/step - loss: 0.2971 - accuracy: 0.8887 - val_loss: 0.6390 - val_accuracy: 0.7734\n",
            "Epoch 22/100\n",
            "74/74 [==============================] - 0s 4ms/step - loss: 0.2880 - accuracy: 0.8923 - val_loss: 0.6521 - val_accuracy: 0.7729\n",
            "Epoch 23/100\n",
            "74/74 [==============================] - 0s 4ms/step - loss: 0.2800 - accuracy: 0.8959 - val_loss: 0.6600 - val_accuracy: 0.7691\n",
            "Epoch 24/100\n",
            "74/74 [==============================] - 0s 4ms/step - loss: 0.2715 - accuracy: 0.9004 - val_loss: 0.6685 - val_accuracy: 0.7695\n",
            "Epoch 25/100\n",
            "74/74 [==============================] - 0s 4ms/step - loss: 0.2638 - accuracy: 0.9035 - val_loss: 0.6910 - val_accuracy: 0.7704\n",
            "Epoch 26/100\n",
            "74/74 [==============================] - 0s 4ms/step - loss: 0.2559 - accuracy: 0.9091 - val_loss: 0.6903 - val_accuracy: 0.7670\n",
            "Epoch 27/100\n",
            "74/74 [==============================] - 0s 4ms/step - loss: 0.2486 - accuracy: 0.9110 - val_loss: 0.7037 - val_accuracy: 0.7695\n",
            "Epoch 28/100\n",
            "74/74 [==============================] - 0s 4ms/step - loss: 0.2416 - accuracy: 0.9140 - val_loss: 0.7161 - val_accuracy: 0.7618\n",
            "Epoch 29/100\n",
            "74/74 [==============================] - 0s 4ms/step - loss: 0.2347 - accuracy: 0.9175 - val_loss: 0.7308 - val_accuracy: 0.7636\n",
            "Epoch 30/100\n",
            "74/74 [==============================] - 0s 4ms/step - loss: 0.2281 - accuracy: 0.9205 - val_loss: 0.7434 - val_accuracy: 0.7631\n",
            "Epoch 31/100\n",
            "74/74 [==============================] - 0s 4ms/step - loss: 0.2219 - accuracy: 0.9215 - val_loss: 0.7545 - val_accuracy: 0.7631\n",
            "Epoch 32/100\n",
            "74/74 [==============================] - 0s 4ms/step - loss: 0.2161 - accuracy: 0.9250 - val_loss: 0.7726 - val_accuracy: 0.7640\n",
            "Epoch 33/100\n",
            "74/74 [==============================] - 0s 4ms/step - loss: 0.2105 - accuracy: 0.9250 - val_loss: 0.7857 - val_accuracy: 0.7648\n",
            "Epoch 34/100\n",
            "74/74 [==============================] - 0s 5ms/step - loss: 0.2045 - accuracy: 0.9286 - val_loss: 0.7919 - val_accuracy: 0.7546\n",
            "Epoch 35/100\n",
            "74/74 [==============================] - 0s 4ms/step - loss: 0.1992 - accuracy: 0.9306 - val_loss: 0.8084 - val_accuracy: 0.7542\n",
            "Epoch 36/100\n",
            "74/74 [==============================] - 0s 4ms/step - loss: 0.1944 - accuracy: 0.9332 - val_loss: 0.8254 - val_accuracy: 0.7554\n",
            "Epoch 37/100\n",
            "74/74 [==============================] - 0s 4ms/step - loss: 0.1900 - accuracy: 0.9322 - val_loss: 0.8411 - val_accuracy: 0.7580\n",
            "Epoch 38/100\n",
            "74/74 [==============================] - 0s 4ms/step - loss: 0.1850 - accuracy: 0.9353 - val_loss: 0.8632 - val_accuracy: 0.7648\n",
            "Epoch 39/100\n",
            "74/74 [==============================] - 0s 4ms/step - loss: 0.1795 - accuracy: 0.9369 - val_loss: 0.8792 - val_accuracy: 0.7636\n",
            "Epoch 40/100\n",
            "74/74 [==============================] - 0s 4ms/step - loss: 0.1758 - accuracy: 0.9389 - val_loss: 0.8866 - val_accuracy: 0.7529\n",
            "Epoch 41/100\n",
            "74/74 [==============================] - 0s 4ms/step - loss: 0.1715 - accuracy: 0.9407 - val_loss: 0.9030 - val_accuracy: 0.7529\n",
            "Epoch 42/100\n",
            "74/74 [==============================] - 0s 4ms/step - loss: 0.1678 - accuracy: 0.9415 - val_loss: 0.9269 - val_accuracy: 0.7640\n",
            "Epoch 43/100\n",
            "74/74 [==============================] - 0s 4ms/step - loss: 0.1633 - accuracy: 0.9429 - val_loss: 0.9409 - val_accuracy: 0.7606\n",
            "Epoch 44/100\n",
            "74/74 [==============================] - 0s 4ms/step - loss: 0.1596 - accuracy: 0.9444 - val_loss: 0.9647 - val_accuracy: 0.7597\n",
            "Epoch 45/100\n",
            "74/74 [==============================] - 0s 4ms/step - loss: 0.1572 - accuracy: 0.9456 - val_loss: 0.9755 - val_accuracy: 0.7631\n",
            "Epoch 46/100\n",
            "74/74 [==============================] - 0s 4ms/step - loss: 0.1526 - accuracy: 0.9467 - val_loss: 0.9947 - val_accuracy: 0.7593\n",
            "Epoch 47/100\n",
            "74/74 [==============================] - 0s 4ms/step - loss: 0.1497 - accuracy: 0.9493 - val_loss: 1.0062 - val_accuracy: 0.7580\n",
            "Epoch 48/100\n",
            "74/74 [==============================] - 0s 5ms/step - loss: 0.1462 - accuracy: 0.9505 - val_loss: 1.0238 - val_accuracy: 0.7559\n",
            "Epoch 49/100\n",
            "74/74 [==============================] - 0s 5ms/step - loss: 0.1438 - accuracy: 0.9494 - val_loss: 1.0603 - val_accuracy: 0.7640\n",
            "Epoch 50/100\n",
            "74/74 [==============================] - 0s 5ms/step - loss: 0.1406 - accuracy: 0.9520 - val_loss: 1.0618 - val_accuracy: 0.7559\n",
            "Epoch 51/100\n",
            "74/74 [==============================] - 0s 4ms/step - loss: 0.1385 - accuracy: 0.9540 - val_loss: 1.0847 - val_accuracy: 0.7546\n",
            "Epoch 52/100\n",
            "74/74 [==============================] - 0s 4ms/step - loss: 0.1350 - accuracy: 0.9536 - val_loss: 1.0988 - val_accuracy: 0.7529\n",
            "Epoch 53/100\n",
            "74/74 [==============================] - 0s 4ms/step - loss: 0.1324 - accuracy: 0.9551 - val_loss: 1.1131 - val_accuracy: 0.7452\n",
            "Epoch 54/100\n",
            "74/74 [==============================] - 0s 4ms/step - loss: 0.1299 - accuracy: 0.9557 - val_loss: 1.1372 - val_accuracy: 0.7554\n",
            "Epoch 55/100\n",
            "74/74 [==============================] - 0s 4ms/step - loss: 0.1271 - accuracy: 0.9566 - val_loss: 1.1485 - val_accuracy: 0.7499\n",
            "Epoch 56/100\n",
            "74/74 [==============================] - 0s 4ms/step - loss: 0.1250 - accuracy: 0.9582 - val_loss: 1.1730 - val_accuracy: 0.7490\n",
            "Epoch 57/100\n",
            "74/74 [==============================] - 0s 4ms/step - loss: 0.1224 - accuracy: 0.9585 - val_loss: 1.1929 - val_accuracy: 0.7529\n",
            "Epoch 58/100\n",
            "74/74 [==============================] - 0s 4ms/step - loss: 0.1198 - accuracy: 0.9594 - val_loss: 1.2111 - val_accuracy: 0.7529\n",
            "Epoch 59/100\n",
            "74/74 [==============================] - 0s 4ms/step - loss: 0.1174 - accuracy: 0.9599 - val_loss: 1.2205 - val_accuracy: 0.7456\n",
            "Epoch 60/100\n",
            "74/74 [==============================] - 0s 4ms/step - loss: 0.1161 - accuracy: 0.9610 - val_loss: 1.2461 - val_accuracy: 0.7512\n",
            "Epoch 61/100\n",
            "74/74 [==============================] - 0s 4ms/step - loss: 0.1137 - accuracy: 0.9599 - val_loss: 1.2630 - val_accuracy: 0.7507\n",
            "Epoch 62/100\n",
            "74/74 [==============================] - 0s 5ms/step - loss: 0.1117 - accuracy: 0.9620 - val_loss: 1.2750 - val_accuracy: 0.7443\n",
            "Epoch 63/100\n",
            "74/74 [==============================] - 0s 4ms/step - loss: 0.1091 - accuracy: 0.9630 - val_loss: 1.2997 - val_accuracy: 0.7486\n",
            "Epoch 64/100\n",
            "74/74 [==============================] - 0s 4ms/step - loss: 0.1080 - accuracy: 0.9635 - val_loss: 1.3128 - val_accuracy: 0.7435\n",
            "Epoch 65/100\n",
            "74/74 [==============================] - 0s 4ms/step - loss: 0.1068 - accuracy: 0.9648 - val_loss: 1.3379 - val_accuracy: 0.7469\n",
            "Epoch 66/100\n",
            "74/74 [==============================] - 0s 4ms/step - loss: 0.1045 - accuracy: 0.9644 - val_loss: 1.3625 - val_accuracy: 0.7499\n",
            "Epoch 67/100\n",
            "74/74 [==============================] - 0s 4ms/step - loss: 0.1021 - accuracy: 0.9658 - val_loss: 1.3719 - val_accuracy: 0.7448\n",
            "Epoch 68/100\n",
            "74/74 [==============================] - 0s 4ms/step - loss: 0.1004 - accuracy: 0.9672 - val_loss: 1.3962 - val_accuracy: 0.7456\n",
            "Epoch 69/100\n",
            "74/74 [==============================] - 0s 4ms/step - loss: 0.0990 - accuracy: 0.9667 - val_loss: 1.4071 - val_accuracy: 0.7435\n",
            "Epoch 70/100\n",
            "74/74 [==============================] - 0s 4ms/step - loss: 0.0976 - accuracy: 0.9683 - val_loss: 1.4295 - val_accuracy: 0.7418\n",
            "Epoch 71/100\n",
            "74/74 [==============================] - 0s 5ms/step - loss: 0.0955 - accuracy: 0.9695 - val_loss: 1.4393 - val_accuracy: 0.7409\n",
            "Epoch 72/100\n",
            "74/74 [==============================] - 0s 4ms/step - loss: 0.0940 - accuracy: 0.9689 - val_loss: 1.4693 - val_accuracy: 0.7405\n",
            "Epoch 73/100\n",
            "74/74 [==============================] - 0s 4ms/step - loss: 0.0933 - accuracy: 0.9687 - val_loss: 1.4913 - val_accuracy: 0.7418\n",
            "Epoch 74/100\n",
            "74/74 [==============================] - 0s 4ms/step - loss: 0.0905 - accuracy: 0.9708 - val_loss: 1.5065 - val_accuracy: 0.7401\n",
            "Epoch 75/100\n",
            "74/74 [==============================] - 0s 4ms/step - loss: 0.0897 - accuracy: 0.9715 - val_loss: 1.5316 - val_accuracy: 0.7426\n",
            "Epoch 76/100\n",
            "74/74 [==============================] - 0s 4ms/step - loss: 0.0885 - accuracy: 0.9716 - val_loss: 1.5376 - val_accuracy: 0.7388\n",
            "Epoch 77/100\n",
            "74/74 [==============================] - 0s 4ms/step - loss: 0.0866 - accuracy: 0.9719 - val_loss: 1.5691 - val_accuracy: 0.7426\n",
            "Epoch 78/100\n",
            "74/74 [==============================] - 0s 4ms/step - loss: 0.0854 - accuracy: 0.9726 - val_loss: 1.5796 - val_accuracy: 0.7397\n",
            "Epoch 79/100\n",
            "74/74 [==============================] - 0s 4ms/step - loss: 0.0834 - accuracy: 0.9736 - val_loss: 1.5972 - val_accuracy: 0.7379\n",
            "Epoch 80/100\n",
            "74/74 [==============================] - 0s 4ms/step - loss: 0.0821 - accuracy: 0.9737 - val_loss: 1.6198 - val_accuracy: 0.7371\n",
            "Epoch 81/100\n",
            "74/74 [==============================] - 0s 5ms/step - loss: 0.0808 - accuracy: 0.9747 - val_loss: 1.6411 - val_accuracy: 0.7362\n",
            "Epoch 82/100\n",
            "74/74 [==============================] - 0s 4ms/step - loss: 0.0798 - accuracy: 0.9745 - val_loss: 1.6624 - val_accuracy: 0.7362\n",
            "Epoch 83/100\n",
            "74/74 [==============================] - 0s 4ms/step - loss: 0.0796 - accuracy: 0.9741 - val_loss: 1.6697 - val_accuracy: 0.7315\n",
            "Epoch 84/100\n",
            "74/74 [==============================] - 0s 5ms/step - loss: 0.0776 - accuracy: 0.9755 - val_loss: 1.6890 - val_accuracy: 0.7345\n",
            "Epoch 85/100\n",
            "74/74 [==============================] - 0s 4ms/step - loss: 0.0761 - accuracy: 0.9757 - val_loss: 1.7099 - val_accuracy: 0.7328\n",
            "Epoch 86/100\n",
            "74/74 [==============================] - 0s 4ms/step - loss: 0.0749 - accuracy: 0.9766 - val_loss: 1.7320 - val_accuracy: 0.7337\n",
            "Epoch 87/100\n",
            "74/74 [==============================] - 0s 4ms/step - loss: 0.0739 - accuracy: 0.9764 - val_loss: 1.7601 - val_accuracy: 0.7358\n",
            "Epoch 88/100\n",
            "74/74 [==============================] - 0s 4ms/step - loss: 0.0726 - accuracy: 0.9778 - val_loss: 1.7756 - val_accuracy: 0.7358\n",
            "Epoch 89/100\n",
            "74/74 [==============================] - 0s 4ms/step - loss: 0.0707 - accuracy: 0.9776 - val_loss: 1.7996 - val_accuracy: 0.7350\n",
            "Epoch 90/100\n",
            "74/74 [==============================] - 0s 4ms/step - loss: 0.0705 - accuracy: 0.9773 - val_loss: 1.8293 - val_accuracy: 0.7354\n",
            "Epoch 91/100\n",
            "74/74 [==============================] - 0s 4ms/step - loss: 0.0695 - accuracy: 0.9774 - val_loss: 1.8343 - val_accuracy: 0.7379\n",
            "Epoch 92/100\n",
            "74/74 [==============================] - 0s 4ms/step - loss: 0.0678 - accuracy: 0.9790 - val_loss: 1.8542 - val_accuracy: 0.7350\n",
            "Epoch 93/100\n",
            "74/74 [==============================] - 0s 4ms/step - loss: 0.0670 - accuracy: 0.9780 - val_loss: 1.8906 - val_accuracy: 0.7337\n",
            "Epoch 94/100\n",
            "74/74 [==============================] - 0s 4ms/step - loss: 0.0670 - accuracy: 0.9787 - val_loss: 1.9047 - val_accuracy: 0.7345\n",
            "Epoch 95/100\n",
            "74/74 [==============================] - 0s 4ms/step - loss: 0.0650 - accuracy: 0.9795 - val_loss: 1.9168 - val_accuracy: 0.7337\n",
            "Epoch 96/100\n",
            "74/74 [==============================] - 0s 4ms/step - loss: 0.0639 - accuracy: 0.9795 - val_loss: 1.9365 - val_accuracy: 0.7320\n",
            "Epoch 97/100\n",
            "74/74 [==============================] - 0s 4ms/step - loss: 0.0645 - accuracy: 0.9796 - val_loss: 1.9650 - val_accuracy: 0.7324\n",
            "Epoch 98/100\n",
            "74/74 [==============================] - 0s 4ms/step - loss: 0.0613 - accuracy: 0.9803 - val_loss: 1.9760 - val_accuracy: 0.7337\n",
            "Epoch 99/100\n",
            "74/74 [==============================] - 0s 5ms/step - loss: 0.0607 - accuracy: 0.9805 - val_loss: 2.0008 - val_accuracy: 0.7303\n",
            "Epoch 100/100\n",
            "74/74 [==============================] - 0s 4ms/step - loss: 0.0597 - accuracy: 0.9799 - val_loss: 2.0240 - val_accuracy: 0.7307\n",
            "Saved model to disk  model_cnn\n"
          ]
        }
      ]
    },
    {
      "cell_type": "code",
      "source": [
        "print(list_models)\n"
      ],
      "metadata": {
        "colab": {
          "base_uri": "https://localhost:8080/"
        },
        "id": "tH5EAJjJTkaD",
        "outputId": "53f1ba04-a895-4b0a-aaf6-ee084f925fcf"
      },
      "execution_count": 60,
      "outputs": [
        {
          "output_type": "stream",
          "name": "stdout",
          "text": [
            "[<keras.src.engine.functional.Functional object at 0x7f19947f1630>, <keras.src.engine.functional.Functional object at 0x7f18c3c5e5f0>, <keras.src.engine.functional.Functional object at 0x7f18c0293cd0>]\n"
          ]
        }
      ]
    },
    {
      "cell_type": "code",
      "execution_count": 61,
      "metadata": {
        "id": "dW_6MrtE9jn8"
      },
      "outputs": [],
      "source": [
        "model_path"
      ]
    },
    {
      "cell_type": "code",
      "source": [
        "#history_model_path\n",
        "list_hist_df"
      ],
      "metadata": {
        "colab": {
          "base_uri": "https://localhost:8080/"
        },
        "id": "8v2fM6aJgsTM",
        "outputId": "66e10b3a-aed2-422e-9665-fdd1a4c2180c"
      },
      "execution_count": 62,
      "outputs": [
        {
          "output_type": "execute_result",
          "data": {
            "text/plain": [
              "[        loss  accuracy  val_loss  val_accuracy\n",
              " 0   0.901903  0.627815  0.899212      0.623560\n",
              " 1   0.884173  0.627815  0.877265      0.623560\n",
              " 2   0.853061  0.627815  0.839309      0.623560\n",
              " 3   0.803750  0.628242  0.785938      0.624840\n",
              " 4   0.743136  0.640410  0.730626      0.655143\n",
              " ..       ...       ...       ...           ...\n",
              " 95  0.152495  0.948981  1.076665      0.750320\n",
              " 96  0.151063  0.949728  1.087653      0.750320\n",
              " 97  0.149517  0.950475  1.098063      0.749466\n",
              " 98  0.148245  0.950795  1.107402      0.749893\n",
              " 99  0.146857  0.951649  1.117996      0.748186\n",
              " \n",
              " [100 rows x 4 columns],\n",
              "         loss  accuracy  val_loss  val_accuracy\n",
              " 0   0.786581  0.652257  0.692030      0.709347\n",
              " 1   0.626681  0.734337  0.654974      0.760563\n",
              " 2   0.543856  0.788985  0.594837      0.768673\n",
              " 3   0.469942  0.832640  0.594525      0.769526\n",
              " 4   0.416809  0.860284  0.582242      0.785745\n",
              " ..       ...       ...       ...           ...\n",
              " 95  0.121484  0.972356  1.084603      0.738796\n",
              " 96  0.131996  0.968513  1.083874      0.738796\n",
              " 97  0.117506  0.973530  1.095587      0.743491\n",
              " 98  0.112348  0.975237  1.113071      0.734528\n",
              " 99  0.114431  0.974277  1.107382      0.741357\n",
              " \n",
              " [100 rows x 4 columns],\n",
              "         loss  accuracy  val_loss  val_accuracy\n",
              " 0   0.882648  0.627815  0.867124      0.623560\n",
              " 1   0.821756  0.627815  0.793567      0.623986\n",
              " 2   0.728996  0.654926  0.714396      0.667947\n",
              " 3   0.652364  0.744690  0.666160      0.749040\n",
              " 4   0.597223  0.774149  0.632703      0.757576\n",
              " ..       ...       ...       ...           ...\n",
              " 95  0.063926  0.979507  1.936475      0.731968\n",
              " 96  0.064488  0.979614  1.964967      0.732394\n",
              " 97  0.061288  0.980254  1.976019      0.733675\n",
              " 98  0.060674  0.980467  2.000769      0.730260\n",
              " 99  0.059690  0.979934  2.024032      0.730687\n",
              " \n",
              " [100 rows x 4 columns]]"
            ]
          },
          "metadata": {},
          "execution_count": 62
        }
      ]
    },
    {
      "cell_type": "code",
      "source": [
        "num_models=3\n",
        "fig, ax = plt.subplots(1,num_models,figsize=(16,4))\n",
        "model_names=['model_dnn','model_lstm','model_cnn']\n",
        "\n",
        "for model_val in range(num_models):\n",
        "  hist_df=list_hist_df[model_val]\n",
        "  hist_df['epoch']=np.arange(1,hist_df.shape[0]+1)\n",
        "  ax[model_val].plot(hist_df['epoch'],hist_df['accuracy'],label='train')\n",
        "  ax[model_val].plot(hist_df['epoch'],hist_df['val_accuracy'],label='val')\n",
        "  ax[model_val].set_title(model_names[model_val])\n",
        "  ax[model_val].set_xlabel('epoch')\n",
        "  ax[model_val].set_ylabel('accuracy')\n",
        "  ax[model_val].legend()\n",
        "\n",
        "fig.tight_layout()"
      ],
      "metadata": {
        "colab": {
          "base_uri": "https://localhost:8080/",
          "height": 350
        },
        "id": "DzIXe4EWncKy",
        "outputId": "f966c335-ff40-459d-f829-9177fd755016"
      },
      "execution_count": 63,
      "outputs": [
        {
          "output_type": "display_data",
          "data": {
            "text/plain": [
              "<Figure size 1600x400 with 3 Axes>"
            ],
            "image/png": "[encoded data removed]"
          },
          "metadata": {}
        }
      ]
    },
    {
      "cell_type": "markdown",
      "source": [
        "# 4.5 Adding model checkpoints and callback\n",
        "\n",
        "It is clear from the previous step that we may be overfitting the models and we should probably introduce call back to avoid some of these related issues."
      ],
      "metadata": {
        "id": "VekdaRdhcVTJ"
      }
    },
    {
      "cell_type": "markdown",
      "source": [
        "# 5. Visualize and explore trained embedding"
      ],
      "metadata": {
        "id": "LoHiTPXPV2cI"
      }
    },
    {
      "cell_type": "code",
      "source": [],
      "metadata": {
        "id": "Hcw7gOdLWBrc"
      },
      "execution_count": 63,
      "outputs": []
    },
    {
      "cell_type": "markdown",
      "source": [
        "#6. Accuracy Assessement and evaluation of models"
      ],
      "metadata": {
        "id": "dn47iQGYWCXJ"
      }
    },
    {
      "cell_type": "code",
      "source": [
        "#model_use.predict(X_test)\n",
        "y_score = model_cnn.predict(X_test)\n",
        "print(type(y_score))\n",
        "y_score.shape"
      ],
      "metadata": {
        "id": "eoDpc1GkU0aL",
        "colab": {
          "base_uri": "https://localhost:8080/"
        },
        "outputId": "ac69ceb6-29aa-4979-cc6b-f89731325608"
      },
      "execution_count": 64,
      "outputs": [
        {
          "output_type": "stream",
          "name": "stdout",
          "text": [
            "92/92 [==============================] - 0s 2ms/step\n",
            "<class 'numpy.ndarray'>\n"
          ]
        },
        {
          "output_type": "execute_result",
          "data": {
            "text/plain": [
              "(2928, 3)"
            ]
          },
          "metadata": {},
          "execution_count": 64
        }
      ]
    },
    {
      "cell_type": "code",
      "source": [
        "y_pred_test_df = pd.DataFrame(y_score)\n",
        "y_pred_test_df['y_pred_test'] = y_pred_test_df.idxmax(axis = 1) #one to go across the column for each row\n",
        "\n",
        "y_pred_test_df"
      ],
      "metadata": {
        "colab": {
          "base_uri": "https://localhost:8080/",
          "height": 423
        },
        "id": "0rOZVgARUpMK",
        "outputId": "72a03b08-431e-413d-e966-4f51725bfaf5"
      },
      "execution_count": 65,
      "outputs": [
        {
          "output_type": "execute_result",
          "data": {
            "text/plain": [
              "             0             1             2  y_pred_test\n",
              "0     0.326705  6.472442e-01  2.605093e-02            1\n",
              "1     0.526364  3.358564e-01  1.377799e-01            0\n",
              "2     1.000000  1.806550e-31  6.028875e-34            0\n",
              "3     0.999999  1.115114e-06  2.386282e-11            0\n",
              "4     1.000000  5.925864e-17  1.120632e-21            0\n",
              "...        ...           ...           ...          ...\n",
              "2923  0.998875  1.122426e-03  2.889717e-06            0\n",
              "2924  0.000005  2.101818e-02  9.789764e-01            2\n",
              "2925  1.000000  4.226941e-07  9.217112e-14            0\n",
              "2926  0.002357  9.976391e-01  3.838566e-06            1\n",
              "2927  0.000754  9.992391e-01  6.898477e-06            1\n",
              "\n",
              "[2928 rows x 4 columns]"
            ],
            "text/html": [
              "\n",
              "  <div id=\"df-b9f7f487-f24b-47f3-845f-b9137bb08e92\" class=\"colab-df-container\">\n",
              "    <div>\n",
              "<style scoped>\n",
              "    .dataframe tbody tr th:only-of-type {\n",
              "        vertical-align: middle;\n",
              "    }\n",
              "\n",
              "    .dataframe tbody tr th {\n",
              "        vertical-align: top;\n",
              "    }\n",
              "\n",
              "    .dataframe thead th {\n",
              "        text-align: right;\n",
              "    }\n",
              "</style>\n",
              "<table border=\"1\" class=\"dataframe\">\n",
              "  <thead>\n",
              "    <tr style=\"text-align: right;\">\n",
              "      <th></th>\n",
              "      <th>0</th>\n",
              "      <th>1</th>\n",
              "      <th>2</th>\n",
              "      <th>y_pred_test</th>\n",
              "    </tr>\n",
              "  </thead>\n",
              "  <tbody>\n",
              "    <tr>\n",
              "      <th>0</th>\n",
              "      <td>0.326705</td>\n",
              "      <td>6.472442e-01</td>\n",
              "      <td>2.605093e-02</td>\n",
              "      <td>1</td>\n",
              "    </tr>\n",
              "    <tr>\n",
              "      <th>1</th>\n",
              "      <td>0.526364</td>\n",
              "      <td>3.358564e-01</td>\n",
              "      <td>1.377799e-01</td>\n",
              "      <td>0</td>\n",
              "    </tr>\n",
              "    <tr>\n",
              "      <th>2</th>\n",
              "      <td>1.000000</td>\n",
              "      <td>1.806550e-31</td>\n",
              "      <td>6.028875e-34</td>\n",
              "      <td>0</td>\n",
              "    </tr>\n",
              "    <tr>\n",
              "      <th>3</th>\n",
              "      <td>0.999999</td>\n",
              "      <td>1.115114e-06</td>\n",
              "      <td>2.386282e-11</td>\n",
              "      <td>0</td>\n",
              "    </tr>\n",
              "    <tr>\n",
              "      <th>4</th>\n",
              "      <td>1.000000</td>\n",
              "      <td>5.925864e-17</td>\n",
              "      <td>1.120632e-21</td>\n",
              "      <td>0</td>\n",
              "    </tr>\n",
              "    <tr>\n",
              "      <th>...</th>\n",
              "      <td>...</td>\n",
              "      <td>...</td>\n",
              "      <td>...</td>\n",
              "      <td>...</td>\n",
              "    </tr>\n",
              "    <tr>\n",
              "      <th>2923</th>\n",
              "      <td>0.998875</td>\n",
              "      <td>1.122426e-03</td>\n",
              "      <td>2.889717e-06</td>\n",
              "      <td>0</td>\n",
              "    </tr>\n",
              "    <tr>\n",
              "      <th>2924</th>\n",
              "      <td>0.000005</td>\n",
              "      <td>2.101818e-02</td>\n",
              "      <td>9.789764e-01</td>\n",
              "      <td>2</td>\n",
              "    </tr>\n",
              "    <tr>\n",
              "      <th>2925</th>\n",
              "      <td>1.000000</td>\n",
              "      <td>4.226941e-07</td>\n",
              "      <td>9.217112e-14</td>\n",
              "      <td>0</td>\n",
              "    </tr>\n",
              "    <tr>\n",
              "      <th>2926</th>\n",
              "      <td>0.002357</td>\n",
              "      <td>9.976391e-01</td>\n",
              "      <td>3.838566e-06</td>\n",
              "      <td>1</td>\n",
              "    </tr>\n",
              "    <tr>\n",
              "      <th>2927</th>\n",
              "      <td>0.000754</td>\n",
              "      <td>9.992391e-01</td>\n",
              "      <td>6.898477e-06</td>\n",
              "      <td>1</td>\n",
              "    </tr>\n",
              "  </tbody>\n",
              "</table>\n",
              "<p>2928 rows × 4 columns</p>\n",
              "</div>\n",
              "    <div class=\"colab-df-buttons\">\n",
              "\n",
              "  <div class=\"colab-df-container\">\n",
              "    <button class=\"colab-df-convert\" onclick=\"convertToInteractive('df-b9f7f487-f24b-47f3-845f-b9137bb08e92')\"\n",
              "            title=\"Convert this dataframe to an interactive table.\"\n",
              "            style=\"display:none;\">\n",
              "\n",
              "  <svg xmlns=\"http://www.w3.org/2000/svg\" height=\"24px\" viewBox=\"0 -960 960 960\">\n",
              "    <path d=\"M120-120v-720h720v720H120Zm60-500h600v-160H180v160Zm220 220h160v-160H400v160Zm0 220h160v-160H400v160ZM180-400h160v-160H180v160Zm440 0h160v-160H620v160ZM180-180h160v-160H180v160Zm440 0h160v-160H620v160Z\"/>\n",
              "  </svg>\n",
              "    </button>\n",
              "\n",
              "  <style>\n",
              "    .colab-df-container {\n",
              "      display:flex;\n",
              "      gap: 12px;\n",
              "    }\n",
              "\n",
              "    .colab-df-convert {\n",
              "      background-color: #E8F0FE;\n",
              "      border: none;\n",
              "      border-radius: 50%;\n",
              "      cursor: pointer;\n",
              "      display: none;\n",
              "      fill: #1967D2;\n",
              "      height: 32px;\n",
              "      padding: 0 0 0 0;\n",
              "      width: 32px;\n",
              "    }\n",
              "\n",
              "    .colab-df-convert:hover {\n",
              "      background-color: #E2EBFA;\n",
              "      box-shadow: 0px 1px 2px rgba(60, 64, 67, 0.3), 0px 1px 3px 1px rgba(60, 64, 67, 0.15);\n",
              "      fill: #174EA6;\n",
              "    }\n",
              "\n",
              "    .colab-df-buttons div {\n",
              "      margin-bottom: 4px;\n",
              "    }\n",
              "\n",
              "    [theme=dark] .colab-df-convert {\n",
              "      background-color: #3B4455;\n",
              "      fill: #D2E3FC;\n",
              "    }\n",
              "\n",
              "    [theme=dark] .colab-df-convert:hover {\n",
              "      background-color: #434B5C;\n",
              "      box-shadow: 0px 1px 3px 1px rgba(0, 0, 0, 0.15);\n",
              "      filter: drop-shadow(0px 1px 2px rgba(0, 0, 0, 0.3));\n",
              "      fill: #FFFFFF;\n",
              "    }\n",
              "  </style>\n",
              "\n",
              "    <script>\n",
              "      const buttonEl =\n",
              "        document.querySelector('#df-b9f7f487-f24b-47f3-845f-b9137bb08e92 button.colab-df-convert');\n",
              "      buttonEl.style.display =\n",
              "        google.colab.kernel.accessAllowed ? 'block' : 'none';\n",
              "\n",
              "      async function convertToInteractive(key) {\n",
              "        const element = document.querySelector('#df-b9f7f487-f24b-47f3-845f-b9137bb08e92');\n",
              "        const dataTable =\n",
              "          await google.colab.kernel.invokeFunction('convertToInteractive',\n",
              "                                                    [key], {});\n",
              "        if (!dataTable) return;\n",
              "\n",
              "        const docLinkHtml = 'Like what you see? Visit the ' +\n",
              "          '<a target=\"_blank\" href=https://colab.research.google.com/notebooks/data_table.ipynb>data table notebook</a>'\n",
              "          + ' to learn more about interactive tables.';\n",
              "        element.innerHTML = '';\n",
              "        dataTable['output_type'] = 'display_data';\n",
              "        await google.colab.output.renderOutput(dataTable, element);\n",
              "        const docLink = document.createElement('div');\n",
              "        docLink.innerHTML = docLinkHtml;\n",
              "        element.appendChild(docLink);\n",
              "      }\n",
              "    </script>\n",
              "  </div>\n",
              "\n",
              "\n",
              "<div id=\"df-6e9d1b98-ea7d-404c-9fab-8a59a91766f8\">\n",
              "  <button class=\"colab-df-quickchart\" onclick=\"quickchart('df-6e9d1b98-ea7d-404c-9fab-8a59a91766f8')\"\n",
              "            title=\"Suggest charts\"\n",
              "            style=\"display:none;\">\n",
              "\n",
              "<svg xmlns=\"http://www.w3.org/2000/svg\" height=\"24px\"viewBox=\"0 0 24 24\"\n",
              "     width=\"24px\">\n",
              "    <g>\n",
              "        <path d=\"M19 3H5c-1.1 0-2 .9-2 2v14c0 1.1.9 2 2 2h14c1.1 0 2-.9 2-2V5c0-1.1-.9-2-2-2zM9 17H7v-7h2v7zm4 0h-2V7h2v10zm4 0h-2v-4h2v4z\"/>\n",
              "    </g>\n",
              "</svg>\n",
              "  </button>\n",
              "\n",
              "<style>\n",
              "  .colab-df-quickchart {\n",
              "      --bg-color: #E8F0FE;\n",
              "      --fill-color: #1967D2;\n",
              "      --hover-bg-color: #E2EBFA;\n",
              "      --hover-fill-color: #174EA6;\n",
              "      --disabled-fill-color: #AAA;\n",
              "      --disabled-bg-color: #DDD;\n",
              "  }\n",
              "\n",
              "  [theme=dark] .colab-df-quickchart {\n",
              "      --bg-color: #3B4455;\n",
              "      --fill-color: #D2E3FC;\n",
              "      --hover-bg-color: #434B5C;\n",
              "      --hover-fill-color: #FFFFFF;\n",
              "      --disabled-bg-color: #3B4455;\n",
              "      --disabled-fill-color: #666;\n",
              "  }\n",
              "\n",
              "  .colab-df-quickchart {\n",
              "    background-color: var(--bg-color);\n",
              "    border: none;\n",
              "    border-radius: 50%;\n",
              "    cursor: pointer;\n",
              "    display: none;\n",
              "    fill: var(--fill-color);\n",
              "    height: 32px;\n",
              "    padding: 0;\n",
              "    width: 32px;\n",
              "  }\n",
              "\n",
              "  .colab-df-quickchart:hover {\n",
              "    background-color: var(--hover-bg-color);\n",
              "    box-shadow: 0 1px 2px rgba(60, 64, 67, 0.3), 0 1px 3px 1px rgba(60, 64, 67, 0.15);\n",
              "    fill: var(--button-hover-fill-color);\n",
              "  }\n",
              "\n",
              "  .colab-df-quickchart-complete:disabled,\n",
              "  .colab-df-quickchart-complete:disabled:hover {\n",
              "    background-color: var(--disabled-bg-color);\n",
              "    fill: var(--disabled-fill-color);\n",
              "    box-shadow: none;\n",
              "  }\n",
              "\n",
              "  .colab-df-spinner {\n",
              "    border: 2px solid var(--fill-color);\n",
              "    border-color: transparent;\n",
              "    border-bottom-color: var(--fill-color);\n",
              "    animation:\n",
              "      spin 1s steps(1) infinite;\n",
              "  }\n",
              "\n",
              "  @keyframes spin {\n",
              "    0% {\n",
              "      border-color: transparent;\n",
              "      border-bottom-color: var(--fill-color);\n",
              "      border-left-color: var(--fill-color);\n",
              "    }\n",
              "    20% {\n",
              "      border-color: transparent;\n",
              "      border-left-color: var(--fill-color);\n",
              "      border-top-color: var(--fill-color);\n",
              "    }\n",
              "    30% {\n",
              "      border-color: transparent;\n",
              "      border-left-color: var(--fill-color);\n",
              "      border-top-color: var(--fill-color);\n",
              "      border-right-color: var(--fill-color);\n",
              "    }\n",
              "    40% {\n",
              "      border-color: transparent;\n",
              "      border-right-color: var(--fill-color);\n",
              "      border-top-color: var(--fill-color);\n",
              "    }\n",
              "    60% {\n",
              "      border-color: transparent;\n",
              "      border-right-color: var(--fill-color);\n",
              "    }\n",
              "    80% {\n",
              "      border-color: transparent;\n",
              "      border-right-color: var(--fill-color);\n",
              "      border-bottom-color: var(--fill-color);\n",
              "    }\n",
              "    90% {\n",
              "      border-color: transparent;\n",
              "      border-bottom-color: var(--fill-color);\n",
              "    }\n",
              "  }\n",
              "</style>\n",
              "\n",
              "  <script>\n",
              "    async function quickchart(key) {\n",
              "      const quickchartButtonEl =\n",
              "        document.querySelector('#' + key + ' button');\n",
              "      quickchartButtonEl.disabled = true;  // To prevent multiple clicks.\n",
              "      quickchartButtonEl.classList.add('colab-df-spinner');\n",
              "      try {\n",
              "        const charts = await google.colab.kernel.invokeFunction(\n",
              "            'suggestCharts', [key], {});\n",
              "      } catch (error) {\n",
              "        console.error('Error during call to suggestCharts:', error);\n",
              "      }\n",
              "      quickchartButtonEl.classList.remove('colab-df-spinner');\n",
              "      quickchartButtonEl.classList.add('colab-df-quickchart-complete');\n",
              "    }\n",
              "    (() => {\n",
              "      let quickchartButtonEl =\n",
              "        document.querySelector('#df-6e9d1b98-ea7d-404c-9fab-8a59a91766f8 button');\n",
              "      quickchartButtonEl.style.display =\n",
              "        google.colab.kernel.accessAllowed ? 'block' : 'none';\n",
              "    })();\n",
              "  </script>\n",
              "</div>\n",
              "\n",
              "  <div id=\"id_f4eeb555-a007-46e5-8250-58299e6eadcd\">\n",
              "    <style>\n",
              "      .colab-df-generate {\n",
              "        background-color: #E8F0FE;\n",
              "        border: none;\n",
              "        border-radius: 50%;\n",
              "        cursor: pointer;\n",
              "        display: none;\n",
              "        fill: #1967D2;\n",
              "        height: 32px;\n",
              "        padding: 0 0 0 0;\n",
              "        width: 32px;\n",
              "      }\n",
              "\n",
              "      .colab-df-generate:hover {\n",
              "        background-color: #E2EBFA;\n",
              "        box-shadow: 0px 1px 2px rgba(60, 64, 67, 0.3), 0px 1px 3px 1px rgba(60, 64, 67, 0.15);\n",
              "        fill: #174EA6;\n",
              "      }\n",
              "\n",
              "      [theme=dark] .colab-df-generate {\n",
              "        background-color: #3B4455;\n",
              "        fill: #D2E3FC;\n",
              "      }\n",
              "\n",
              "      [theme=dark] .colab-df-generate:hover {\n",
              "        background-color: #434B5C;\n",
              "        box-shadow: 0px 1px 3px 1px rgba(0, 0, 0, 0.15);\n",
              "        filter: drop-shadow(0px 1px 2px rgba(0, 0, 0, 0.3));\n",
              "        fill: #FFFFFF;\n",
              "      }\n",
              "    </style>\n",
              "    <button class=\"colab-df-generate\" onclick=\"generateWithVariable('y_pred_test_df')\"\n",
              "            title=\"Generate code using this dataframe.\"\n",
              "            style=\"display:none;\">\n",
              "\n",
              "  <svg xmlns=\"http://www.w3.org/2000/svg\" height=\"24px\"viewBox=\"0 0 24 24\"\n",
              "       width=\"24px\">\n",
              "    <path d=\"M7,19H8.4L18.45,9,17,7.55,7,17.6ZM5,21V16.75L18.45,3.32a2,2,0,0,1,2.83,0l1.4,1.43a1.91,1.91,0,0,1,.58,1.4,1.91,1.91,0,0,1-.58,1.4L9.25,21ZM18.45,9,17,7.55Zm-12,3A5.31,5.31,0,0,0,4.9,8.1,5.31,5.31,0,0,0,1,6.5,5.31,5.31,0,0,0,4.9,4.9,5.31,5.31,0,0,0,6.5,1,5.31,5.31,0,0,0,8.1,4.9,5.31,5.31,0,0,0,12,6.5,5.46,5.46,0,0,0,6.5,12Z\"/>\n",
              "  </svg>\n",
              "    </button>\n",
              "    <script>\n",
              "      (() => {\n",
              "      const buttonEl =\n",
              "        document.querySelector('#id_f4eeb555-a007-46e5-8250-58299e6eadcd button.colab-df-generate');\n",
              "      buttonEl.style.display =\n",
              "        google.colab.kernel.accessAllowed ? 'block' : 'none';\n",
              "\n",
              "      buttonEl.onclick = () => {\n",
              "        google.colab.notebook.generateWithVariable('y_pred_test_df');\n",
              "      }\n",
              "      })();\n",
              "    </script>\n",
              "  </div>\n",
              "\n",
              "    </div>\n",
              "  </div>\n"
            ]
          },
          "metadata": {},
          "execution_count": 65
        }
      ]
    },
    {
      "cell_type": "code",
      "source": [
        "#from sklearn.metrics import classification_report\n",
        "#from sklearn.metrics import confusion_matrix\n",
        "y_pred_test = y_pred_test_df['y_pred_test']\n",
        "report_dict=classification_report(y_test,\n",
        "                                      y_pred_test,\n",
        "                                      output_dict=True)\n",
        "report_df = pd.DataFrame(report_dict).transpose()\n",
        "confusion_matrix_val = confusion_matrix(y_test,y_pred_test)\n",
        "\n",
        "fig, ax = plt.subplots(figsize=(16,16))\n",
        "ax.matshow(confusion_matrix_val,cmap=plt.cm.Blues,alpha=0.3)\n",
        "for i in range(confusion_matrix_val.shape[0]):\n",
        "  for j in range(confusion_matrix_val.shape[1]):\n",
        "    ax.text(x=j,y=i,\n",
        "               s=confusion_matrix_val[i,j],\n",
        "               va='center',\n",
        "               ha='center')\n",
        "    plt.xlabel('Predicted Label')\n",
        "    plt.ylabel('True label')"
      ],
      "metadata": {
        "colab": {
          "base_uri": "https://localhost:8080/",
          "height": 1000
        },
        "id": "Bj7o0jlMUukH",
        "outputId": "708e2f57-95ea-4e9f-928b-484e40c99c5b"
      },
      "execution_count": 66,
      "outputs": [
        {
          "output_type": "display_data",
          "data": {
            "text/plain": [
              "<Figure size 1600x1600 with 1 Axes>"
            ],
            "image/png": "[encoded data removed]"
          },
          "metadata": {}
        }
      ]
    },
    {
      "cell_type": "code",
      "source": [
        "report_df"
      ],
      "metadata": {
        "colab": {
          "base_uri": "https://localhost:8080/",
          "height": 237
        },
        "id": "f9a1X65FU0bY",
        "outputId": "e2450921-0f71-40bc-cc80-1e4ebcad8082"
      },
      "execution_count": 67,
      "outputs": [
        {
          "output_type": "execute_result",
          "data": {
            "text/plain": [
              "              precision    recall  f1-score      support\n",
              "0              0.824552  0.827248  0.825898  1835.000000\n",
              "1              0.491228  0.541935  0.515337   620.000000\n",
              "2              0.642680  0.547569  0.591324   473.000000\n",
              "accuracy       0.721653  0.721653  0.721653     0.721653\n",
              "macro avg      0.652820  0.638917  0.644186  2928.000000\n",
              "weighted avg   0.724591  0.721653  0.722243  2928.000000"
            ],
            "text/html": [
              "\n",
              "  <div id=\"df-1fa4956d-5127-4645-aa25-9d277558b6f4\" class=\"colab-df-container\">\n",
              "    <div>\n",
              "<style scoped>\n",
              "    .dataframe tbody tr th:only-of-type {\n",
              "        vertical-align: middle;\n",
              "    }\n",
              "\n",
              "    .dataframe tbody tr th {\n",
              "        vertical-align: top;\n",
              "    }\n",
              "\n",
              "    .dataframe thead th {\n",
              "        text-align: right;\n",
              "    }\n",
              "</style>\n",
              "<table border=\"1\" class=\"dataframe\">\n",
              "  <thead>\n",
              "    <tr style=\"text-align: right;\">\n",
              "      <th></th>\n",
              "      <th>precision</th>\n",
              "      <th>recall</th>\n",
              "      <th>f1-score</th>\n",
              "      <th>support</th>\n",
              "    </tr>\n",
              "  </thead>\n",
              "  <tbody>\n",
              "    <tr>\n",
              "      <th>0</th>\n",
              "      <td>0.824552</td>\n",
              "      <td>0.827248</td>\n",
              "      <td>0.825898</td>\n",
              "      <td>1835.000000</td>\n",
              "    </tr>\n",
              "    <tr>\n",
              "      <th>1</th>\n",
              "      <td>0.491228</td>\n",
              "      <td>0.541935</td>\n",
              "      <td>0.515337</td>\n",
              "      <td>620.000000</td>\n",
              "    </tr>\n",
              "    <tr>\n",
              "      <th>2</th>\n",
              "      <td>0.642680</td>\n",
              "      <td>0.547569</td>\n",
              "      <td>0.591324</td>\n",
              "      <td>473.000000</td>\n",
              "    </tr>\n",
              "    <tr>\n",
              "      <th>accuracy</th>\n",
              "      <td>0.721653</td>\n",
              "      <td>0.721653</td>\n",
              "      <td>0.721653</td>\n",
              "      <td>0.721653</td>\n",
              "    </tr>\n",
              "    <tr>\n",
              "      <th>macro avg</th>\n",
              "      <td>0.652820</td>\n",
              "      <td>0.638917</td>\n",
              "      <td>0.644186</td>\n",
              "      <td>2928.000000</td>\n",
              "    </tr>\n",
              "    <tr>\n",
              "      <th>weighted avg</th>\n",
              "      <td>0.724591</td>\n",
              "      <td>0.721653</td>\n",
              "      <td>0.722243</td>\n",
              "      <td>2928.000000</td>\n",
              "    </tr>\n",
              "  </tbody>\n",
              "</table>\n",
              "</div>\n",
              "    <div class=\"colab-df-buttons\">\n",
              "\n",
              "  <div class=\"colab-df-container\">\n",
              "    <button class=\"colab-df-convert\" onclick=\"convertToInteractive('df-1fa4956d-5127-4645-aa25-9d277558b6f4')\"\n",
              "            title=\"Convert this dataframe to an interactive table.\"\n",
              "            style=\"display:none;\">\n",
              "\n",
              "  <svg xmlns=\"http://www.w3.org/2000/svg\" height=\"24px\" viewBox=\"0 -960 960 960\">\n",
              "    <path d=\"M120-120v-720h720v720H120Zm60-500h600v-160H180v160Zm220 220h160v-160H400v160Zm0 220h160v-160H400v160ZM180-400h160v-160H180v160Zm440 0h160v-160H620v160ZM180-180h160v-160H180v160Zm440 0h160v-160H620v160Z\"/>\n",
              "  </svg>\n",
              "    </button>\n",
              "\n",
              "  <style>\n",
              "    .colab-df-container {\n",
              "      display:flex;\n",
              "      gap: 12px;\n",
              "    }\n",
              "\n",
              "    .colab-df-convert {\n",
              "      background-color: #E8F0FE;\n",
              "      border: none;\n",
              "      border-radius: 50%;\n",
              "      cursor: pointer;\n",
              "      display: none;\n",
              "      fill: #1967D2;\n",
              "      height: 32px;\n",
              "      padding: 0 0 0 0;\n",
              "      width: 32px;\n",
              "    }\n",
              "\n",
              "    .colab-df-convert:hover {\n",
              "      background-color: #E2EBFA;\n",
              "      box-shadow: 0px 1px 2px rgba(60, 64, 67, 0.3), 0px 1px 3px 1px rgba(60, 64, 67, 0.15);\n",
              "      fill: #174EA6;\n",
              "    }\n",
              "\n",
              "    .colab-df-buttons div {\n",
              "      margin-bottom: 4px;\n",
              "    }\n",
              "\n",
              "    [theme=dark] .colab-df-convert {\n",
              "      background-color: #3B4455;\n",
              "      fill: #D2E3FC;\n",
              "    }\n",
              "\n",
              "    [theme=dark] .colab-df-convert:hover {\n",
              "      background-color: #434B5C;\n",
              "      box-shadow: 0px 1px 3px 1px rgba(0, 0, 0, 0.15);\n",
              "      filter: drop-shadow(0px 1px 2px rgba(0, 0, 0, 0.3));\n",
              "      fill: #FFFFFF;\n",
              "    }\n",
              "  </style>\n",
              "\n",
              "    <script>\n",
              "      const buttonEl =\n",
              "        document.querySelector('#df-1fa4956d-5127-4645-aa25-9d277558b6f4 button.colab-df-convert');\n",
              "      buttonEl.style.display =\n",
              "        google.colab.kernel.accessAllowed ? 'block' : 'none';\n",
              "\n",
              "      async function convertToInteractive(key) {\n",
              "        const element = document.querySelector('#df-1fa4956d-5127-4645-aa25-9d277558b6f4');\n",
              "        const dataTable =\n",
              "          await google.colab.kernel.invokeFunction('convertToInteractive',\n",
              "                                                    [key], {});\n",
              "        if (!dataTable) return;\n",
              "\n",
              "        const docLinkHtml = 'Like what you see? Visit the ' +\n",
              "          '<a target=\"_blank\" href=https://colab.research.google.com/notebooks/data_table.ipynb>data table notebook</a>'\n",
              "          + ' to learn more about interactive tables.';\n",
              "        element.innerHTML = '';\n",
              "        dataTable['output_type'] = 'display_data';\n",
              "        await google.colab.output.renderOutput(dataTable, element);\n",
              "        const docLink = document.createElement('div');\n",
              "        docLink.innerHTML = docLinkHtml;\n",
              "        element.appendChild(docLink);\n",
              "      }\n",
              "    </script>\n",
              "  </div>\n",
              "\n",
              "\n",
              "<div id=\"df-b59e38e8-f138-46de-891d-d8f35437b6b6\">\n",
              "  <button class=\"colab-df-quickchart\" onclick=\"quickchart('df-b59e38e8-f138-46de-891d-d8f35437b6b6')\"\n",
              "            title=\"Suggest charts\"\n",
              "            style=\"display:none;\">\n",
              "\n",
              "<svg xmlns=\"http://www.w3.org/2000/svg\" height=\"24px\"viewBox=\"0 0 24 24\"\n",
              "     width=\"24px\">\n",
              "    <g>\n",
              "        <path d=\"M19 3H5c-1.1 0-2 .9-2 2v14c0 1.1.9 2 2 2h14c1.1 0 2-.9 2-2V5c0-1.1-.9-2-2-2zM9 17H7v-7h2v7zm4 0h-2V7h2v10zm4 0h-2v-4h2v4z\"/>\n",
              "    </g>\n",
              "</svg>\n",
              "  </button>\n",
              "\n",
              "<style>\n",
              "  .colab-df-quickchart {\n",
              "      --bg-color: #E8F0FE;\n",
              "      --fill-color: #1967D2;\n",
              "      --hover-bg-color: #E2EBFA;\n",
              "      --hover-fill-color: #174EA6;\n",
              "      --disabled-fill-color: #AAA;\n",
              "      --disabled-bg-color: #DDD;\n",
              "  }\n",
              "\n",
              "  [theme=dark] .colab-df-quickchart {\n",
              "      --bg-color: #3B4455;\n",
              "      --fill-color: #D2E3FC;\n",
              "      --hover-bg-color: #434B5C;\n",
              "      --hover-fill-color: #FFFFFF;\n",
              "      --disabled-bg-color: #3B4455;\n",
              "      --disabled-fill-color: #666;\n",
              "  }\n",
              "\n",
              "  .colab-df-quickchart {\n",
              "    background-color: var(--bg-color);\n",
              "    border: none;\n",
              "    border-radius: 50%;\n",
              "    cursor: pointer;\n",
              "    display: none;\n",
              "    fill: var(--fill-color);\n",
              "    height: 32px;\n",
              "    padding: 0;\n",
              "    width: 32px;\n",
              "  }\n",
              "\n",
              "  .colab-df-quickchart:hover {\n",
              "    background-color: var(--hover-bg-color);\n",
              "    box-shadow: 0 1px 2px rgba(60, 64, 67, 0.3), 0 1px 3px 1px rgba(60, 64, 67, 0.15);\n",
              "    fill: var(--button-hover-fill-color);\n",
              "  }\n",
              "\n",
              "  .colab-df-quickchart-complete:disabled,\n",
              "  .colab-df-quickchart-complete:disabled:hover {\n",
              "    background-color: var(--disabled-bg-color);\n",
              "    fill: var(--disabled-fill-color);\n",
              "    box-shadow: none;\n",
              "  }\n",
              "\n",
              "  .colab-df-spinner {\n",
              "    border: 2px solid var(--fill-color);\n",
              "    border-color: transparent;\n",
              "    border-bottom-color: var(--fill-color);\n",
              "    animation:\n",
              "      spin 1s steps(1) infinite;\n",
              "  }\n",
              "\n",
              "  @keyframes spin {\n",
              "    0% {\n",
              "      border-color: transparent;\n",
              "      border-bottom-color: var(--fill-color);\n",
              "      border-left-color: var(--fill-color);\n",
              "    }\n",
              "    20% {\n",
              "      border-color: transparent;\n",
              "      border-left-color: var(--fill-color);\n",
              "      border-top-color: var(--fill-color);\n",
              "    }\n",
              "    30% {\n",
              "      border-color: transparent;\n",
              "      border-left-color: var(--fill-color);\n",
              "      border-top-color: var(--fill-color);\n",
              "      border-right-color: var(--fill-color);\n",
              "    }\n",
              "    40% {\n",
              "      border-color: transparent;\n",
              "      border-right-color: var(--fill-color);\n",
              "      border-top-color: var(--fill-color);\n",
              "    }\n",
              "    60% {\n",
              "      border-color: transparent;\n",
              "      border-right-color: var(--fill-color);\n",
              "    }\n",
              "    80% {\n",
              "      border-color: transparent;\n",
              "      border-right-color: var(--fill-color);\n",
              "      border-bottom-color: var(--fill-color);\n",
              "    }\n",
              "    90% {\n",
              "      border-color: transparent;\n",
              "      border-bottom-color: var(--fill-color);\n",
              "    }\n",
              "  }\n",
              "</style>\n",
              "\n",
              "  <script>\n",
              "    async function quickchart(key) {\n",
              "      const quickchartButtonEl =\n",
              "        document.querySelector('#' + key + ' button');\n",
              "      quickchartButtonEl.disabled = true;  // To prevent multiple clicks.\n",
              "      quickchartButtonEl.classList.add('colab-df-spinner');\n",
              "      try {\n",
              "        const charts = await google.colab.kernel.invokeFunction(\n",
              "            'suggestCharts', [key], {});\n",
              "      } catch (error) {\n",
              "        console.error('Error during call to suggestCharts:', error);\n",
              "      }\n",
              "      quickchartButtonEl.classList.remove('colab-df-spinner');\n",
              "      quickchartButtonEl.classList.add('colab-df-quickchart-complete');\n",
              "    }\n",
              "    (() => {\n",
              "      let quickchartButtonEl =\n",
              "        document.querySelector('#df-b59e38e8-f138-46de-891d-d8f35437b6b6 button');\n",
              "      quickchartButtonEl.style.display =\n",
              "        google.colab.kernel.accessAllowed ? 'block' : 'none';\n",
              "    })();\n",
              "  </script>\n",
              "</div>\n",
              "\n",
              "  <div id=\"id_fa10aa2d-6b7a-43f8-ae23-a4f2cfa8b770\">\n",
              "    <style>\n",
              "      .colab-df-generate {\n",
              "        background-color: #E8F0FE;\n",
              "        border: none;\n",
              "        border-radius: 50%;\n",
              "        cursor: pointer;\n",
              "        display: none;\n",
              "        fill: #1967D2;\n",
              "        height: 32px;\n",
              "        padding: 0 0 0 0;\n",
              "        width: 32px;\n",
              "      }\n",
              "\n",
              "      .colab-df-generate:hover {\n",
              "        background-color: #E2EBFA;\n",
              "        box-shadow: 0px 1px 2px rgba(60, 64, 67, 0.3), 0px 1px 3px 1px rgba(60, 64, 67, 0.15);\n",
              "        fill: #174EA6;\n",
              "      }\n",
              "\n",
              "      [theme=dark] .colab-df-generate {\n",
              "        background-color: #3B4455;\n",
              "        fill: #D2E3FC;\n",
              "      }\n",
              "\n",
              "      [theme=dark] .colab-df-generate:hover {\n",
              "        background-color: #434B5C;\n",
              "        box-shadow: 0px 1px 3px 1px rgba(0, 0, 0, 0.15);\n",
              "        filter: drop-shadow(0px 1px 2px rgba(0, 0, 0, 0.3));\n",
              "        fill: #FFFFFF;\n",
              "      }\n",
              "    </style>\n",
              "    <button class=\"colab-df-generate\" onclick=\"generateWithVariable('report_df')\"\n",
              "            title=\"Generate code using this dataframe.\"\n",
              "            style=\"display:none;\">\n",
              "\n",
              "  <svg xmlns=\"http://www.w3.org/2000/svg\" height=\"24px\"viewBox=\"0 0 24 24\"\n",
              "       width=\"24px\">\n",
              "    <path d=\"M7,19H8.4L18.45,9,17,7.55,7,17.6ZM5,21V16.75L18.45,3.32a2,2,0,0,1,2.83,0l1.4,1.43a1.91,1.91,0,0,1,.58,1.4,1.91,1.91,0,0,1-.58,1.4L9.25,21ZM18.45,9,17,7.55Zm-12,3A5.31,5.31,0,0,0,4.9,8.1,5.31,5.31,0,0,0,1,6.5,5.31,5.31,0,0,0,4.9,4.9,5.31,5.31,0,0,0,6.5,1,5.31,5.31,0,0,0,8.1,4.9,5.31,5.31,0,0,0,12,6.5,5.46,5.46,0,0,0,6.5,12Z\"/>\n",
              "  </svg>\n",
              "    </button>\n",
              "    <script>\n",
              "      (() => {\n",
              "      const buttonEl =\n",
              "        document.querySelector('#id_fa10aa2d-6b7a-43f8-ae23-a4f2cfa8b770 button.colab-df-generate');\n",
              "      buttonEl.style.display =\n",
              "        google.colab.kernel.accessAllowed ? 'block' : 'none';\n",
              "\n",
              "      buttonEl.onclick = () => {\n",
              "        google.colab.notebook.generateWithVariable('report_df');\n",
              "      }\n",
              "      })();\n",
              "    </script>\n",
              "  </div>\n",
              "\n",
              "    </div>\n",
              "  </div>\n"
            ]
          },
          "metadata": {},
          "execution_count": 67
        }
      ]
    },
    {
      "cell_type": "code",
      "source": [
        "list_report_df = []\n",
        "class_names=['negative','neutral','positive']\n",
        "for model in list_models:\n",
        "  report_df = generate_accuracy(model,y_test,X_test,class_names=class_names )\n",
        "  list_report_df.append(report_df)\n",
        "#list_report_df\n",
        "\n",
        "from functools import reduce\n",
        "report_df = reduce(lambda df1,df2: df1.merge(df2,\"outer\"),list_report_df)\n",
        "report_df"
      ],
      "metadata": {
        "colab": {
          "base_uri": "https://localhost:8080/",
          "height": 289
        },
        "id": "moVbsD_RU6DB",
        "outputId": "e6feb230-0181-4f2a-8db4-8ac9516d7dbd"
      },
      "execution_count": 68,
      "outputs": [
        {
          "output_type": "stream",
          "name": "stdout",
          "text": [
            "92/92 [==============================] - 0s 1ms/step\n",
            "92/92 [==============================] - 1s 4ms/step\n",
            "92/92 [==============================] - 0s 2ms/step\n"
          ]
        },
        {
          "output_type": "execute_result",
          "data": {
            "text/plain": [
              "      metric  negative   neutral  positive  accuracy  model_name  num_param\n",
              "0  precision  0.837493  0.556098  0.665116  0.753074   model_dnn      80163\n",
              "1     recall  0.859401  0.551613  0.604651  0.753074   model_dnn      80163\n",
              "2  precision  0.836324  0.547287  0.675676  0.748292  model_lstm      80827\n",
              "3     recall  0.838147  0.569355  0.634249  0.748292  model_lstm      80827\n",
              "4  precision  0.824552  0.491228  0.642680  0.721653   model_cnn      81347\n",
              "5     recall  0.827248  0.541935  0.547569  0.721653   model_cnn      81347"
            ],
            "text/html": [
              "\n",
              "  <div id=\"df-43b7cbbb-0972-4cbc-971d-8af3de65c9f8\" class=\"colab-df-container\">\n",
              "    <div>\n",
              "<style scoped>\n",
              "    .dataframe tbody tr th:only-of-type {\n",
              "        vertical-align: middle;\n",
              "    }\n",
              "\n",
              "    .dataframe tbody tr th {\n",
              "        vertical-align: top;\n",
              "    }\n",
              "\n",
              "    .dataframe thead th {\n",
              "        text-align: right;\n",
              "    }\n",
              "</style>\n",
              "<table border=\"1\" class=\"dataframe\">\n",
              "  <thead>\n",
              "    <tr style=\"text-align: right;\">\n",
              "      <th></th>\n",
              "      <th>metric</th>\n",
              "      <th>negative</th>\n",
              "      <th>neutral</th>\n",
              "      <th>positive</th>\n",
              "      <th>accuracy</th>\n",
              "      <th>model_name</th>\n",
              "      <th>num_param</th>\n",
              "    </tr>\n",
              "  </thead>\n",
              "  <tbody>\n",
              "    <tr>\n",
              "      <th>0</th>\n",
              "      <td>precision</td>\n",
              "      <td>0.837493</td>\n",
              "      <td>0.556098</td>\n",
              "      <td>0.665116</td>\n",
              "      <td>0.753074</td>\n",
              "      <td>model_dnn</td>\n",
              "      <td>80163</td>\n",
              "    </tr>\n",
              "    <tr>\n",
              "      <th>1</th>\n",
              "      <td>recall</td>\n",
              "      <td>0.859401</td>\n",
              "      <td>0.551613</td>\n",
              "      <td>0.604651</td>\n",
              "      <td>0.753074</td>\n",
              "      <td>model_dnn</td>\n",
              "      <td>80163</td>\n",
              "    </tr>\n",
              "    <tr>\n",
              "      <th>2</th>\n",
              "      <td>precision</td>\n",
              "      <td>0.836324</td>\n",
              "      <td>0.547287</td>\n",
              "      <td>0.675676</td>\n",
              "      <td>0.748292</td>\n",
              "      <td>model_lstm</td>\n",
              "      <td>80827</td>\n",
              "    </tr>\n",
              "    <tr>\n",
              "      <th>3</th>\n",
              "      <td>recall</td>\n",
              "      <td>0.838147</td>\n",
              "      <td>0.569355</td>\n",
              "      <td>0.634249</td>\n",
              "      <td>0.748292</td>\n",
              "      <td>model_lstm</td>\n",
              "      <td>80827</td>\n",
              "    </tr>\n",
              "    <tr>\n",
              "      <th>4</th>\n",
              "      <td>precision</td>\n",
              "      <td>0.824552</td>\n",
              "      <td>0.491228</td>\n",
              "      <td>0.642680</td>\n",
              "      <td>0.721653</td>\n",
              "      <td>model_cnn</td>\n",
              "      <td>81347</td>\n",
              "    </tr>\n",
              "    <tr>\n",
              "      <th>5</th>\n",
              "      <td>recall</td>\n",
              "      <td>0.827248</td>\n",
              "      <td>0.541935</td>\n",
              "      <td>0.547569</td>\n",
              "      <td>0.721653</td>\n",
              "      <td>model_cnn</td>\n",
              "      <td>81347</td>\n",
              "    </tr>\n",
              "  </tbody>\n",
              "</table>\n",
              "</div>\n",
              "    <div class=\"colab-df-buttons\">\n",
              "\n",
              "  <div class=\"colab-df-container\">\n",
              "    <button class=\"colab-df-convert\" onclick=\"convertToInteractive('df-43b7cbbb-0972-4cbc-971d-8af3de65c9f8')\"\n",
              "            title=\"Convert this dataframe to an interactive table.\"\n",
              "            style=\"display:none;\">\n",
              "\n",
              "  <svg xmlns=\"http://www.w3.org/2000/svg\" height=\"24px\" viewBox=\"0 -960 960 960\">\n",
              "    <path d=\"M120-120v-720h720v720H120Zm60-500h600v-160H180v160Zm220 220h160v-160H400v160Zm0 220h160v-160H400v160ZM180-400h160v-160H180v160Zm440 0h160v-160H620v160ZM180-180h160v-160H180v160Zm440 0h160v-160H620v160Z\"/>\n",
              "  </svg>\n",
              "    </button>\n",
              "\n",
              "  <style>\n",
              "    .colab-df-container {\n",
              "      display:flex;\n",
              "      gap: 12px;\n",
              "    }\n",
              "\n",
              "    .colab-df-convert {\n",
              "      background-color: #E8F0FE;\n",
              "      border: none;\n",
              "      border-radius: 50%;\n",
              "      cursor: pointer;\n",
              "      display: none;\n",
              "      fill: #1967D2;\n",
              "      height: 32px;\n",
              "      padding: 0 0 0 0;\n",
              "      width: 32px;\n",
              "    }\n",
              "\n",
              "    .colab-df-convert:hover {\n",
              "      background-color: #E2EBFA;\n",
              "      box-shadow: 0px 1px 2px rgba(60, 64, 67, 0.3), 0px 1px 3px 1px rgba(60, 64, 67, 0.15);\n",
              "      fill: #174EA6;\n",
              "    }\n",
              "\n",
              "    .colab-df-buttons div {\n",
              "      margin-bottom: 4px;\n",
              "    }\n",
              "\n",
              "    [theme=dark] .colab-df-convert {\n",
              "      background-color: #3B4455;\n",
              "      fill: #D2E3FC;\n",
              "    }\n",
              "\n",
              "    [theme=dark] .colab-df-convert:hover {\n",
              "      background-color: #434B5C;\n",
              "      box-shadow: 0px 1px 3px 1px rgba(0, 0, 0, 0.15);\n",
              "      filter: drop-shadow(0px 1px 2px rgba(0, 0, 0, 0.3));\n",
              "      fill: #FFFFFF;\n",
              "    }\n",
              "  </style>\n",
              "\n",
              "    <script>\n",
              "      const buttonEl =\n",
              "        document.querySelector('#df-43b7cbbb-0972-4cbc-971d-8af3de65c9f8 button.colab-df-convert');\n",
              "      buttonEl.style.display =\n",
              "        google.colab.kernel.accessAllowed ? 'block' : 'none';\n",
              "\n",
              "      async function convertToInteractive(key) {\n",
              "        const element = document.querySelector('#df-43b7cbbb-0972-4cbc-971d-8af3de65c9f8');\n",
              "        const dataTable =\n",
              "          await google.colab.kernel.invokeFunction('convertToInteractive',\n",
              "                                                    [key], {});\n",
              "        if (!dataTable) return;\n",
              "\n",
              "        const docLinkHtml = 'Like what you see? Visit the ' +\n",
              "          '<a target=\"_blank\" href=https://colab.research.google.com/notebooks/data_table.ipynb>data table notebook</a>'\n",
              "          + ' to learn more about interactive tables.';\n",
              "        element.innerHTML = '';\n",
              "        dataTable['output_type'] = 'display_data';\n",
              "        await google.colab.output.renderOutput(dataTable, element);\n",
              "        const docLink = document.createElement('div');\n",
              "        docLink.innerHTML = docLinkHtml;\n",
              "        element.appendChild(docLink);\n",
              "      }\n",
              "    </script>\n",
              "  </div>\n",
              "\n",
              "\n",
              "<div id=\"df-bec9df08-d1dd-47f6-bca2-044b5e52edfb\">\n",
              "  <button class=\"colab-df-quickchart\" onclick=\"quickchart('df-bec9df08-d1dd-47f6-bca2-044b5e52edfb')\"\n",
              "            title=\"Suggest charts\"\n",
              "            style=\"display:none;\">\n",
              "\n",
              "<svg xmlns=\"http://www.w3.org/2000/svg\" height=\"24px\"viewBox=\"0 0 24 24\"\n",
              "     width=\"24px\">\n",
              "    <g>\n",
              "        <path d=\"M19 3H5c-1.1 0-2 .9-2 2v14c0 1.1.9 2 2 2h14c1.1 0 2-.9 2-2V5c0-1.1-.9-2-2-2zM9 17H7v-7h2v7zm4 0h-2V7h2v10zm4 0h-2v-4h2v4z\"/>\n",
              "    </g>\n",
              "</svg>\n",
              "  </button>\n",
              "\n",
              "<style>\n",
              "  .colab-df-quickchart {\n",
              "      --bg-color: #E8F0FE;\n",
              "      --fill-color: #1967D2;\n",
              "      --hover-bg-color: #E2EBFA;\n",
              "      --hover-fill-color: #174EA6;\n",
              "      --disabled-fill-color: #AAA;\n",
              "      --disabled-bg-color: #DDD;\n",
              "  }\n",
              "\n",
              "  [theme=dark] .colab-df-quickchart {\n",
              "      --bg-color: #3B4455;\n",
              "      --fill-color: #D2E3FC;\n",
              "      --hover-bg-color: #434B5C;\n",
              "      --hover-fill-color: #FFFFFF;\n",
              "      --disabled-bg-color: #3B4455;\n",
              "      --disabled-fill-color: #666;\n",
              "  }\n",
              "\n",
              "  .colab-df-quickchart {\n",
              "    background-color: var(--bg-color);\n",
              "    border: none;\n",
              "    border-radius: 50%;\n",
              "    cursor: pointer;\n",
              "    display: none;\n",
              "    fill: var(--fill-color);\n",
              "    height: 32px;\n",
              "    padding: 0;\n",
              "    width: 32px;\n",
              "  }\n",
              "\n",
              "  .colab-df-quickchart:hover {\n",
              "    background-color: var(--hover-bg-color);\n",
              "    box-shadow: 0 1px 2px rgba(60, 64, 67, 0.3), 0 1px 3px 1px rgba(60, 64, 67, 0.15);\n",
              "    fill: var(--button-hover-fill-color);\n",
              "  }\n",
              "\n",
              "  .colab-df-quickchart-complete:disabled,\n",
              "  .colab-df-quickchart-complete:disabled:hover {\n",
              "    background-color: var(--disabled-bg-color);\n",
              "    fill: var(--disabled-fill-color);\n",
              "    box-shadow: none;\n",
              "  }\n",
              "\n",
              "  .colab-df-spinner {\n",
              "    border: 2px solid var(--fill-color);\n",
              "    border-color: transparent;\n",
              "    border-bottom-color: var(--fill-color);\n",
              "    animation:\n",
              "      spin 1s steps(1) infinite;\n",
              "  }\n",
              "\n",
              "  @keyframes spin {\n",
              "    0% {\n",
              "      border-color: transparent;\n",
              "      border-bottom-color: var(--fill-color);\n",
              "      border-left-color: var(--fill-color);\n",
              "    }\n",
              "    20% {\n",
              "      border-color: transparent;\n",
              "      border-left-color: var(--fill-color);\n",
              "      border-top-color: var(--fill-color);\n",
              "    }\n",
              "    30% {\n",
              "      border-color: transparent;\n",
              "      border-left-color: var(--fill-color);\n",
              "      border-top-color: var(--fill-color);\n",
              "      border-right-color: var(--fill-color);\n",
              "    }\n",
              "    40% {\n",
              "      border-color: transparent;\n",
              "      border-right-color: var(--fill-color);\n",
              "      border-top-color: var(--fill-color);\n",
              "    }\n",
              "    60% {\n",
              "      border-color: transparent;\n",
              "      border-right-color: var(--fill-color);\n",
              "    }\n",
              "    80% {\n",
              "      border-color: transparent;\n",
              "      border-right-color: var(--fill-color);\n",
              "      border-bottom-color: var(--fill-color);\n",
              "    }\n",
              "    90% {\n",
              "      border-color: transparent;\n",
              "      border-bottom-color: var(--fill-color);\n",
              "    }\n",
              "  }\n",
              "</style>\n",
              "\n",
              "  <script>\n",
              "    async function quickchart(key) {\n",
              "      const quickchartButtonEl =\n",
              "        document.querySelector('#' + key + ' button');\n",
              "      quickchartButtonEl.disabled = true;  // To prevent multiple clicks.\n",
              "      quickchartButtonEl.classList.add('colab-df-spinner');\n",
              "      try {\n",
              "        const charts = await google.colab.kernel.invokeFunction(\n",
              "            'suggestCharts', [key], {});\n",
              "      } catch (error) {\n",
              "        console.error('Error during call to suggestCharts:', error);\n",
              "      }\n",
              "      quickchartButtonEl.classList.remove('colab-df-spinner');\n",
              "      quickchartButtonEl.classList.add('colab-df-quickchart-complete');\n",
              "    }\n",
              "    (() => {\n",
              "      let quickchartButtonEl =\n",
              "        document.querySelector('#df-bec9df08-d1dd-47f6-bca2-044b5e52edfb button');\n",
              "      quickchartButtonEl.style.display =\n",
              "        google.colab.kernel.accessAllowed ? 'block' : 'none';\n",
              "    })();\n",
              "  </script>\n",
              "</div>\n",
              "\n",
              "  <div id=\"id_e121b6be-a1cf-4e7f-8e26-353abd6cd1ec\">\n",
              "    <style>\n",
              "      .colab-df-generate {\n",
              "        background-color: #E8F0FE;\n",
              "        border: none;\n",
              "        border-radius: 50%;\n",
              "        cursor: pointer;\n",
              "        display: none;\n",
              "        fill: #1967D2;\n",
              "        height: 32px;\n",
              "        padding: 0 0 0 0;\n",
              "        width: 32px;\n",
              "      }\n",
              "\n",
              "      .colab-df-generate:hover {\n",
              "        background-color: #E2EBFA;\n",
              "        box-shadow: 0px 1px 2px rgba(60, 64, 67, 0.3), 0px 1px 3px 1px rgba(60, 64, 67, 0.15);\n",
              "        fill: #174EA6;\n",
              "      }\n",
              "\n",
              "      [theme=dark] .colab-df-generate {\n",
              "        background-color: #3B4455;\n",
              "        fill: #D2E3FC;\n",
              "      }\n",
              "\n",
              "      [theme=dark] .colab-df-generate:hover {\n",
              "        background-color: #434B5C;\n",
              "        box-shadow: 0px 1px 3px 1px rgba(0, 0, 0, 0.15);\n",
              "        filter: drop-shadow(0px 1px 2px rgba(0, 0, 0, 0.3));\n",
              "        fill: #FFFFFF;\n",
              "      }\n",
              "    </style>\n",
              "    <button class=\"colab-df-generate\" onclick=\"generateWithVariable('report_df')\"\n",
              "            title=\"Generate code using this dataframe.\"\n",
              "            style=\"display:none;\">\n",
              "\n",
              "  <svg xmlns=\"http://www.w3.org/2000/svg\" height=\"24px\"viewBox=\"0 0 24 24\"\n",
              "       width=\"24px\">\n",
              "    <path d=\"M7,19H8.4L18.45,9,17,7.55,7,17.6ZM5,21V16.75L18.45,3.32a2,2,0,0,1,2.83,0l1.4,1.43a1.91,1.91,0,0,1,.58,1.4,1.91,1.91,0,0,1-.58,1.4L9.25,21ZM18.45,9,17,7.55Zm-12,3A5.31,5.31,0,0,0,4.9,8.1,5.31,5.31,0,0,0,1,6.5,5.31,5.31,0,0,0,4.9,4.9,5.31,5.31,0,0,0,6.5,1,5.31,5.31,0,0,0,8.1,4.9,5.31,5.31,0,0,0,12,6.5,5.46,5.46,0,0,0,6.5,12Z\"/>\n",
              "  </svg>\n",
              "    </button>\n",
              "    <script>\n",
              "      (() => {\n",
              "      const buttonEl =\n",
              "        document.querySelector('#id_e121b6be-a1cf-4e7f-8e26-353abd6cd1ec button.colab-df-generate');\n",
              "      buttonEl.style.display =\n",
              "        google.colab.kernel.accessAllowed ? 'block' : 'none';\n",
              "\n",
              "      buttonEl.onclick = () => {\n",
              "        google.colab.notebook.generateWithVariable('report_df');\n",
              "      }\n",
              "      })();\n",
              "    </script>\n",
              "  </div>\n",
              "\n",
              "    </div>\n",
              "  </div>\n"
            ]
          },
          "metadata": {},
          "execution_count": 68
        }
      ]
    },
    {
      "cell_type": "markdown",
      "metadata": {
        "id": "3MwFGFyQHA36"
      },
      "source": [
        "#7.Conclusions\n",
        "\n",
        "\n",
        "\n",
        "\n",
        "\n"
      ]
    },
    {
      "cell_type": "code",
      "source": [],
      "metadata": {
        "id": "8ytP6D2BY8VR"
      },
      "execution_count": 68,
      "outputs": []
    },
    {
      "cell_type": "code",
      "execution_count": 69,
      "metadata": {
        "id": "-KuNbMaQD41Y"
      },
      "outputs": [],
      "source": [
        "############################# END OF SCRIPT ###################################"
      ]
    }
  ],
  "metadata": {
    "accelerator": "GPU",
    "colab": {
      "machine_shape": "hm",
      "provenance": [],
      "gpuType": "A100"
    },
    "kernelspec": {
      "display_name": "Python 3",
      "name": "python3"
    },
    "language_info": {
      "codemirror_mode": {
        "name": "ipython",
        "version": 3
      },
      "file_extension": ".py",
      "mimetype": "text/x-python",
      "name": "python",
      "nbconvert_exporter": "python",
      "pygments_lexer": "ipython3",
      "version": "3.8.5"
    }
  },
  "nbformat": 4,
  "nbformat_minor": 0
}