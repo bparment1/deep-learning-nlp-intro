{
  "cells": [
    {
      "cell_type": "markdown",
      "metadata": {
        "id": "dp5KjlfSST7m"
      },
      "source": [
        "# Dense Neural Network and embedding for NLP\n",
        "\n",
        "In this exercise, I explore the use of Dense Neural Network applied to NLP.\n",
        "The goal is to provide an example of NLP classification in the form of sentiment\n",
        "analysis using tensorflow. The general workflow is the same as in the previous exercise but with the addition of embedding. We will look into:\n",
        "\n",
        "- preprocessing\n",
        "- vectorization\n",
        "- embedding\n",
        "- feature extraction and classification using DNN\n",
        "\n",
        "## Preprocessing\n",
        "\n",
        "Text often contains unecessary information or things we want to mofidy.  A common preprocessing setps is to remove punctuation and lower casing. Removing stop words is another common steps. Stop words are wors that are not useful in the process of classification (the or is for instance in English).\n",
        "The preprocess stepts vary and can be  define before the text vectorization or as part of the vectorization. If it is done as part of the vectorization, we can pass a function or set specific parameters.\n",
        "\n",
        "## Vectorization\n",
        "\n",
        "Before using any ML method, we must first convert the text into numerical values. This is the process of tokenization or vectorization. We can choose different levels for the tokens of the text: characters, words or sentences. In this exercise, we will use word tokenization and will explore sentence tokenization later.\n",
        "\n",
        "The output of this step is typically tensor/matrix with document in the row and tokens as columns. There are multiple variation of the matrix (count, frequency, tfidf). In the case of one hot encoding vectorization, the matrix shows the presence of a token for a document. In the case of the frequency count vectorization matrix, it shows the frequency of each words in a document. In most cases, the matrix/tensor is usually sparse and is processed to reduce its dimension.\n",
        "\n",
        "## Embedding\n",
        "\n",
        "Embedding provides a way to represent text using continuous vector values. It can represent tokens relationship or semantic relations in more efficient way. Vectorization can produce very large sparse and embedding provides more useful ways to represent words in reduced size space. Example of typical embedding include Wordtovect and GLOVE. These embeddings were created on very large text dataset and often called pre-trained embedding space. In this exercise, we create our own embedding layer in the deep learning model using the text corpus we have.\n",
        "\n",
        "The text vectorization and embedding steps are sometimes called encoding.\n",
        "\n",
        "## Dense Neural Network: features and classification\n",
        "\n",
        "Embedding layers will feed into intermediary layers that will create features of relevance to the classification. This usually called the feature extractor (backbone) of the DL neural network. The top or head of the network contains the classifier: the neural network corresponding to a binary or multiple category classification.\n",
        "\n",
        "## Dataset\n",
        "\n",
        "In this exercise, we use the Twitter US airline sentiment dataset. It is a public dataset published used in the Kaggle competition published in 2015. It contains about 16k reviews classified into three sentiment categories: negative, neutral and positive.\n",
        "\n",
        "Useful links:\n",
        "\n",
        "- twitter sentiment airlines data:\n",
        "\n",
        "https://www.kaggle.com/datasets/crowdflower/twitter-airline-sentiment\n"
      ]
    },
    {
      "cell_type": "markdown",
      "metadata": {
        "id": "P0i8hhRib6AU"
      },
      "source": [
        "# Set up environment and load libraries\n",
        "\n",
        "- load libraries\n",
        "- install packages and tools\n",
        "- authenticate to google drive and gcp account"
      ]
    },
    {
      "cell_type": "code",
      "execution_count": 1,
      "metadata": {
        "id": "4ZJ_11wkD408"
      },
      "outputs": [],
      "source": [
        "###### Library used in this script\n",
        "import matplotlib.pyplot as plt\n",
        "import seaborn as sns\n",
        "import numpy as np\n",
        "import pandas as pd\n",
        "import os, glob\n",
        "\n",
        "#ML imports\n",
        "import sklearn\n",
        "from sklearn import metrics\n",
        "from sklearn.metrics import roc_auc_score\n",
        "from sklearn.metrics import roc_curve\n",
        "from sklearn.metrics import classification_report\n",
        "from sklearn.metrics import confusion_matrix\n",
        "from sklearn.model_selection import train_test_split\n",
        "from sklearn.decomposition import PCA\n",
        "from sklearn.preprocessing import StandardScaler\n",
        "\n",
        "\n",
        "#Keras import\n",
        "from tensorflow import keras\n",
        "#from keras.models import Model\n",
        "import tensorflow as tf\n",
        "\n",
        "from tensorflow.keras.optimizers import Adam\n",
        "from tensorflow.keras import layers\n",
        "from tensorflow.keras.layers import Input, Conv2D, Concatenate, Activation, MaxPool2D, UpSampling2D, Conv2DTranspose\n",
        "from tensorflow.keras import models\n",
        "from tensorflow.keras.models import Model\n",
        "from tensorflow.keras.utils import plot_model\n",
        "\n",
        "\n",
        "from keras.utils import np_utils\n",
        "sns.set_style('darkgrid')\n",
        "pd.set_option('display.max_colwidth', None)"
      ]
    },
    {
      "cell_type": "code",
      "source": [
        "import seaborn as sns\n",
        "import matplotlib.pyplot as plt\n",
        "import nltk\n",
        "from nltk.tokenize import sent_tokenize, word_tokenize\n",
        "from nltk.corpus import stopwords\n",
        "from nltk.stem import WordNetLemmatizer\n",
        "from collections import Counter\n",
        "\n",
        "import warnings\n",
        "warnings.filterwarnings(\"ignore\")\n",
        "plt.rcParams[\"figure.figsize\"] = (10,6)\n",
        "pd.set_option('display.max_columns', 50)\n",
        "\n",
        "#Please download the below also. This will resolve your issue:\n",
        "\n",
        "nltk.download('punkt')\n",
        "nltk.download('wordnet')\n",
        "nltk.download('stopwords')\n",
        "\n",
        "#nltk.download('omw-1.4'*)"
      ],
      "metadata": {
        "colab": {
          "base_uri": "https://localhost:8080/"
        },
        "id": "loohcADPvP7t",
        "outputId": "e7e2e8fe-3f92-49fd-cdd6-8e838ff0ed2f"
      },
      "execution_count": 2,
      "outputs": [
        {
          "output_type": "stream",
          "name": "stderr",
          "text": [
            "[nltk_data] Downloading package punkt to /root/nltk_data...\n",
            "[nltk_data]   Unzipping tokenizers/punkt.zip.\n",
            "[nltk_data] Downloading package wordnet to /root/nltk_data...\n",
            "[nltk_data] Downloading package stopwords to /root/nltk_data...\n",
            "[nltk_data]   Unzipping corpora/stopwords.zip.\n"
          ]
        },
        {
          "output_type": "execute_result",
          "data": {
            "text/plain": [
              "True"
            ]
          },
          "metadata": {},
          "execution_count": 2
        }
      ]
    },
    {
      "cell_type": "code",
      "execution_count": 3,
      "metadata": {
        "id": "MSU4mlwHcTLl",
        "colab": {
          "base_uri": "https://localhost:8080/"
        },
        "outputId": "7d0943f0-c361-49cc-d9d3-e6d3d59b4d55"
      },
      "outputs": [
        {
          "output_type": "stream",
          "name": "stdout",
          "text": [
            "Authenticated\n"
          ]
        }
      ],
      "source": [
        "#GCP account authentification\n",
        "from google.colab import auth\n",
        "auth.authenticate_user()\n",
        "print('Authenticated')"
      ]
    },
    {
      "cell_type": "code",
      "execution_count": 4,
      "metadata": {
        "id": "meyKA4hlcblK",
        "colab": {
          "base_uri": "https://localhost:8080/"
        },
        "outputId": "cc39de8a-4b38-465e-cdb0-c5c8e5209a3c"
      },
      "outputs": [
        {
          "output_type": "stream",
          "name": "stdout",
          "text": [
            "Mounted at /content/gdrive\n"
          ]
        }
      ],
      "source": [
        "from google.colab import drive\n",
        "\n",
        "drive.mount('/content/gdrive')"
      ]
    },
    {
      "cell_type": "markdown",
      "metadata": {
        "id": "Vmy-IfpCD409"
      },
      "source": [
        "# Functions\n",
        "In the next part of the script, we declare all the functions used in the sripts.  It is good practice to place functions at the beginning of a script or in an external source file. Here are the 13 functions used:\n",
        "\n",
        "* **create_dir_and_check_existence**:  create and output directory given a path. The output directory will be the working directory throughout the analysis.\n"
      ]
    },
    {
      "cell_type": "code",
      "source": [
        "def create_dir_and_check_existence(path):\n",
        "\n",
        "    #Create a new directory\n",
        "    try:\n",
        "        os.makedirs(path)\n",
        "    except:\n",
        "        print (\"directory already exists\")\n",
        "\n",
        "from matplotlib import pyplot"
      ],
      "metadata": {
        "id": "OKA3HyN4gFXT"
      },
      "execution_count": 5,
      "outputs": []
    },
    {
      "cell_type": "code",
      "source": [
        "def clean_text(data):\n",
        "\n",
        "    import re\n",
        "\n",
        "    #1. Removing URLS\n",
        "    data = re.sub('http\\S+', '', data).strip()\n",
        "    data = re.sub('www\\S+', '', data).strip()\n",
        "\n",
        "    #2. Removing Tags\n",
        "    data = re.sub('#\\S+', '', data).strip()\n",
        "\n",
        "    #3. Removing Mentions\n",
        "    data = re.sub('@\\S+', '', data).strip()\n",
        "\n",
        "    #4. Removing upper brackets to keep negative auxiliary verbs in text\n",
        "    data = data.replace(\"'\", \"\")\n",
        "\n",
        "    #5. Tokenize\n",
        "    text_tokens = word_tokenize(data.lower())\n",
        "\n",
        "    #6. Remove Puncs and number\n",
        "    tokens_without_punc = [w for w in text_tokens if w.isalpha()]\n",
        "\n",
        "    #7. Removing Stopwords\n",
        "    stop_words = stopwords.words('english')\n",
        "    for i in [\"not\", \"no\"]:\n",
        "            stop_words.remove(i)\n",
        "    tokens_without_sw = [t for t in tokens_without_punc if t not in stop_words]\n",
        "\n",
        "    #8. lemma\n",
        "    text_cleaned = [WordNetLemmatizer().lemmatize(t) for t in tokens_without_sw]\n",
        "\n",
        "\n",
        "    #joining\n",
        "    return \" \".join(text_cleaned)"
      ],
      "metadata": {
        "id": "IcjPFFLpu6us"
      },
      "execution_count": 6,
      "outputs": []
    },
    {
      "cell_type": "code",
      "source": [
        "#pulled from tensorflow tutorial and more\n",
        "#https://stackoverflow.com/questions/70854665/tensorflow-textvectorization-convert-the-predicted-text-back-to-a-human-readabl\n",
        "\n",
        "def custom_standardization(input_data):\n",
        "  lowercase = tf.strings.lower(input_data)\n",
        "  stripped_html = tf.strings.regex_replace(lowercase, '<\\b>' ,' ')\n",
        "  return tf.strings.regex_replace(stripped_html,'[%s#@]' % re.escape(string.punctuation),'')\n",
        "\n",
        "def normalize(text):\n",
        "  remove_regex = f'[{re.escape(string.punctuation)}]'\n",
        "  space_regex = '...'\n",
        "  result = tf.strings.lower(text)\n",
        "  result = tf.strings.regex_replace(result, remove_regex, '')\n",
        "  result = tf.strings.regex_replace(result, space_regex, ' ')\n",
        "  return result"
      ],
      "metadata": {
        "id": "4raQR8sNMfPU"
      },
      "execution_count": 7,
      "outputs": []
    },
    {
      "cell_type": "markdown",
      "metadata": {
        "id": "dYroYeO_D41D"
      },
      "source": [
        "# Parameters and Arguments\n",
        "\n",
        "It is good practice to set all parameters and input arguments at the beginning of the script. This allows for better control and can make modifications of the scripts for other applications easier. Some arguments relate to path directories, input files and general parameters for use in the analyses (e.g. proportion of hold out).\n"
      ]
    },
    {
      "cell_type": "code",
      "execution_count": 8,
      "metadata": {
        "id": "NcV0IwF3NR1N"
      },
      "outputs": [],
      "source": [
        "############################################################################\n",
        "#####  Parameters and argument set up ###########\n",
        "\n",
        "#ARG 1\n",
        "in_dir = '/content/gdrive/MyDrive/Colab Notebooks/deep-learning-nlp-intro/DNN_and_embedding_nlp/data'\n",
        "out_dir = '/content/gdrive/MyDrive/Colab Notebooks/deep-learning-nlp-intro/DNN_and_embedding_nlp/'\n",
        "\n",
        "in_filename = 'Tweets.csv'\n",
        "out_suffix = 'DNN_embedding_nlp_2024-01-11'\n",
        "test_proportion = 0.2\n",
        "random_seed= 42\n",
        "create_out_dir = True\n",
        "\n",
        "#ARG 7\n",
        "## Input data\n",
        "data_dir = '/content/drive/MyDrive/Colab Notebooks/deep-learning-nlp-intro/DNN_embedding_nlp/data/'\n",
        "#ARG 8\n",
        "run_model = False #if True, model is trained, note this may take several hours.\n",
        "\n",
        "#ARG 9\n",
        "# Use pre-trained model if run_model is False\n",
        "model_path = None\n",
        "#model_path ='/content/drive/MyDrive/Colab Notebooks/deep-learning-nlp-intro/DNN_embedding_nlp/'\n",
        "#ARG 10\n",
        "epoch_val = 100\n",
        "#ARG 11\n"
      ]
    },
    {
      "cell_type": "code",
      "execution_count": 9,
      "metadata": {
        "id": "cwwPBkLGD41D",
        "colab": {
          "base_uri": "https://localhost:8080/"
        },
        "outputId": "43f3039d-5948-4580-f887-d896687994ce"
      },
      "outputs": [
        {
          "output_type": "stream",
          "name": "stdout",
          "text": [
            "directory already exists\n"
          ]
        }
      ],
      "source": [
        "################# START SCRIPT ###############################\n",
        "\n",
        "######### PART 0: Set up the output dir ################\n",
        "\n",
        "#set up the working directory\n",
        "#Create output directory\n",
        "\n",
        "if create_out_dir==True:\n",
        "    out_dir_new = \"output_data_\"+out_suffix\n",
        "    out_dir = os.path.join(out_dir,\"outputs\",out_dir_new)\n",
        "    create_dir_and_check_existence(out_dir)\n",
        "    os.chdir(out_dir)        #set working directory\n",
        "else:\n",
        "    os.chdir(out_dir) #use working dir defined earlier\n"
      ]
    },
    {
      "cell_type": "code",
      "execution_count": 10,
      "metadata": {
        "id": "l52WCqGVD41E",
        "colab": {
          "base_uri": "https://localhost:8080/"
        },
        "outputId": "6000fb96-181d-4293-e847-ed422cd89403"
      },
      "outputs": [
        {
          "output_type": "stream",
          "name": "stdout",
          "text": [
            "/content/gdrive/MyDrive/Colab Notebooks/deep-learning-nlp-intro/DNN_and_embedding_nlp/outputs/output_data_DNN_embedding_nlp_2024-01-11\n"
          ]
        }
      ],
      "source": [
        "print(out_dir)"
      ]
    },
    {
      "cell_type": "code",
      "source": [
        "!pwd"
      ],
      "metadata": {
        "colab": {
          "base_uri": "https://localhost:8080/"
        },
        "id": "ysgioixoy0j0",
        "outputId": "712a86f4-3d71-484e-d2eb-b98d4777efe9"
      },
      "execution_count": 11,
      "outputs": [
        {
          "output_type": "stream",
          "name": "stdout",
          "text": [
            "/content/gdrive/MyDrive/Colab Notebooks/deep-learning-nlp-intro/DNN_and_embedding_nlp/outputs/output_data_DNN_embedding_nlp_2024-01-11\n"
          ]
        }
      ]
    },
    {
      "cell_type": "markdown",
      "metadata": {
        "id": "F0pxrb-ZxIHl"
      },
      "source": [
        "#0.Workflow/pipeline\n",
        "\n",
        "We describe here the modeling pipelin we set up for this exercise:\n",
        "1. **Load and explore data**\n",
        "- Obtain data from the website or link provided\n",
        "- Quick exploration\n",
        "2. **Intro to Textvectorization and Embedding: tensorflow**\n",
        "- defining layers\n",
        "- hyper parameters\n",
        "3. **Train test split**\n",
        "- create test test split\n",
        "4. **Build and train models**\n",
        "- set up baseline model (random forest)\n",
        "- build DNN model\n",
        "5. **Visualize and Explore fitted embedding**\n",
        "- dimension reduction\n",
        "- visualization\n",
        "6. **Accuracy Assessment**\n",
        "- AUC ROC and precision recall curves\n",
        "- precisions recal metrics\n",
        "- IOU metric\n",
        "7. **Conclusions**\n"
      ]
    },
    {
      "cell_type": "markdown",
      "metadata": {
        "id": "9YAAEKBBST7s"
      },
      "source": [
        "# 1.Load and explore data\n",
        "\n",
        "We used the airlines review sentiment data tweets from Kaggle. There are 14,640 tweets labeled with three sentiment categories:\n",
        "\n",
        "- negative\n",
        "- neutral\n",
        "- positive\n",
        "\n",
        "There were 15 columns including airline name and confidence in the label. Here are the most relevant columns for the modeling:\n",
        "\n",
        "- text: column: contains the tweet text\n",
        "- airline_sentiment: contains the labeled sentiment categories."
      ]
    },
    {
      "cell_type": "code",
      "source": [
        "# Check for GPU\n",
        "!nvidia-smi -L"
      ],
      "metadata": {
        "colab": {
          "base_uri": "https://localhost:8080/"
        },
        "id": "O69cF891Hu-b",
        "outputId": "f0cfc1aa-9b87-45f6-83ef-74542da4bf31"
      },
      "execution_count": 12,
      "outputs": [
        {
          "output_type": "stream",
          "name": "stdout",
          "text": [
            "/bin/bash: line 1: nvidia-smi: command not found\n"
          ]
        }
      ]
    },
    {
      "cell_type": "code",
      "source": [
        "import tensorflow as tf\n",
        "print(tf.__version__) #should use higher tensorflow!!!"
      ],
      "metadata": {
        "colab": {
          "base_uri": "https://localhost:8080/"
        },
        "id": "_m2qO_S8ohHi",
        "outputId": "8530345c-9338-4e16-9124-d218c9066895"
      },
      "execution_count": 13,
      "outputs": [
        {
          "output_type": "stream",
          "name": "stdout",
          "text": [
            "2.12.0\n"
          ]
        }
      ]
    },
    {
      "cell_type": "code",
      "execution_count": 14,
      "metadata": {
        "id": "zy8IdI2Hjcpo",
        "colab": {
          "base_uri": "https://localhost:8080/",
          "height": 1000
        },
        "outputId": "0775fc5d-c787-439d-facb-a0ed5c92b036"
      },
      "outputs": [
        {
          "output_type": "stream",
          "name": "stdout",
          "text": [
            "(14640, 15)\n",
            "Index(['tweet_id', 'airline_sentiment', 'airline_sentiment_confidence',\n",
            "       'negativereason', 'negativereason_confidence', 'airline',\n",
            "       'airline_sentiment_gold', 'name', 'negativereason_gold',\n",
            "       'retweet_count', 'text', 'tweet_coord', 'tweet_created',\n",
            "       'tweet_location', 'user_timezone'],\n",
            "      dtype='object')\n"
          ]
        },
        {
          "output_type": "execute_result",
          "data": {
            "text/plain": [
              "                 tweet_id airline_sentiment  airline_sentiment_confidence  \\\n",
              "0      570306133677760513           neutral                        1.0000   \n",
              "1      570301130888122368          positive                        0.3486   \n",
              "2      570301083672813571           neutral                        0.6837   \n",
              "3      570301031407624196          negative                        1.0000   \n",
              "4      570300817074462722          negative                        1.0000   \n",
              "...                   ...               ...                           ...   \n",
              "14635  569587686496825344          positive                        0.3487   \n",
              "14636  569587371693355008          negative                        1.0000   \n",
              "14637  569587242672398336           neutral                        1.0000   \n",
              "14638  569587188687634433          negative                        1.0000   \n",
              "14639  569587140490866689           neutral                        0.6771   \n",
              "\n",
              "               negativereason  negativereason_confidence         airline  \\\n",
              "0                         NaN                        NaN  Virgin America   \n",
              "1                         NaN                     0.0000  Virgin America   \n",
              "2                         NaN                        NaN  Virgin America   \n",
              "3                  Bad Flight                     0.7033  Virgin America   \n",
              "4                  Can't Tell                     1.0000  Virgin America   \n",
              "...                       ...                        ...             ...   \n",
              "14635                     NaN                     0.0000        American   \n",
              "14636  Customer Service Issue                     1.0000        American   \n",
              "14637                     NaN                        NaN        American   \n",
              "14638  Customer Service Issue                     0.6659        American   \n",
              "14639                     NaN                     0.0000        American   \n",
              "\n",
              "      airline_sentiment_gold             name negativereason_gold  \\\n",
              "0                        NaN          cairdin                 NaN   \n",
              "1                        NaN         jnardino                 NaN   \n",
              "2                        NaN       yvonnalynn                 NaN   \n",
              "3                        NaN         jnardino                 NaN   \n",
              "4                        NaN         jnardino                 NaN   \n",
              "...                      ...              ...                 ...   \n",
              "14635                    NaN  KristenReenders                 NaN   \n",
              "14636                    NaN         itsropes                 NaN   \n",
              "14637                    NaN         sanyabun                 NaN   \n",
              "14638                    NaN       SraJackson                 NaN   \n",
              "14639                    NaN        daviddtwu                 NaN   \n",
              "\n",
              "       retweet_count  \\\n",
              "0                  0   \n",
              "1                  0   \n",
              "2                  0   \n",
              "3                  0   \n",
              "4                  0   \n",
              "...              ...   \n",
              "14635              0   \n",
              "14636              0   \n",
              "14637              0   \n",
              "14638              0   \n",
              "14639              0   \n",
              "\n",
              "                                                                                                                                                         text  \\\n",
              "0                                                                                                                         @VirginAmerica What @dhepburn said.   \n",
              "1                                                                                    @VirginAmerica plus you've added commercials to the experience... tacky.   \n",
              "2                                                                                     @VirginAmerica I didn't today... Must mean I need to take another trip!   \n",
              "3                              @VirginAmerica it's really aggressive to blast obnoxious \"entertainment\" in your guests' faces &amp; they have little recourse   \n",
              "4                                                                                                     @VirginAmerica and it's a really big bad thing about it   \n",
              "...                                                                                                                                                       ...   \n",
              "14635                                                                                         @AmericanAir thank you we got on a different flight to Chicago.   \n",
              "14636  @AmericanAir leaving over 20 minutes Late Flight. No warnings or communication until we were 15 minutes Late Flight. That's called shitty customer svc   \n",
              "14637                                                                                            @AmericanAir Please bring American Airlines to #BlackBerry10   \n",
              "14638                 @AmericanAir you have my money, you change my flight, and don't answer your phones! Any other suggestions so I can make my commitment??   \n",
              "14639              @AmericanAir we have 8 ppl so we need 2 know how many seats are on the next flight. Plz put us on standby for 4 people on the next flight?   \n",
              "\n",
              "      tweet_coord              tweet_created tweet_location  \\\n",
              "0             NaN  2015-02-24 11:35:52 -0800            NaN   \n",
              "1             NaN  2015-02-24 11:15:59 -0800            NaN   \n",
              "2             NaN  2015-02-24 11:15:48 -0800      Lets Play   \n",
              "3             NaN  2015-02-24 11:15:36 -0800            NaN   \n",
              "4             NaN  2015-02-24 11:14:45 -0800            NaN   \n",
              "...           ...                        ...            ...   \n",
              "14635         NaN  2015-02-22 12:01:01 -0800            NaN   \n",
              "14636         NaN  2015-02-22 11:59:46 -0800          Texas   \n",
              "14637         NaN  2015-02-22 11:59:15 -0800  Nigeria,lagos   \n",
              "14638         NaN  2015-02-22 11:59:02 -0800     New Jersey   \n",
              "14639         NaN  2015-02-22 11:58:51 -0800     dallas, TX   \n",
              "\n",
              "                    user_timezone  \n",
              "0      Eastern Time (US & Canada)  \n",
              "1      Pacific Time (US & Canada)  \n",
              "2      Central Time (US & Canada)  \n",
              "3      Pacific Time (US & Canada)  \n",
              "4      Pacific Time (US & Canada)  \n",
              "...                           ...  \n",
              "14635                         NaN  \n",
              "14636                         NaN  \n",
              "14637                         NaN  \n",
              "14638  Eastern Time (US & Canada)  \n",
              "14639                         NaN  \n",
              "\n",
              "[14640 rows x 15 columns]"
            ],
            "text/html": [
              "\n",
              "  <div id=\"df-d5ddc94b-53c5-4f03-99a0-abeb8beefcfc\" class=\"colab-df-container\">\n",
              "    <div>\n",
              "<style scoped>\n",
              "    .dataframe tbody tr th:only-of-type {\n",
              "        vertical-align: middle;\n",
              "    }\n",
              "\n",
              "    .dataframe tbody tr th {\n",
              "        vertical-align: top;\n",
              "    }\n",
              "\n",
              "    .dataframe thead th {\n",
              "        text-align: right;\n",
              "    }\n",
              "</style>\n",
              "<table border=\"1\" class=\"dataframe\">\n",
              "  <thead>\n",
              "    <tr style=\"text-align: right;\">\n",
              "      <th></th>\n",
              "      <th>tweet_id</th>\n",
              "      <th>airline_sentiment</th>\n",
              "      <th>airline_sentiment_confidence</th>\n",
              "      <th>negativereason</th>\n",
              "      <th>negativereason_confidence</th>\n",
              "      <th>airline</th>\n",
              "      <th>airline_sentiment_gold</th>\n",
              "      <th>name</th>\n",
              "      <th>negativereason_gold</th>\n",
              "      <th>retweet_count</th>\n",
              "      <th>text</th>\n",
              "      <th>tweet_coord</th>\n",
              "      <th>tweet_created</th>\n",
              "      <th>tweet_location</th>\n",
              "      <th>user_timezone</th>\n",
              "    </tr>\n",
              "  </thead>\n",
              "  <tbody>\n",
              "    <tr>\n",
              "      <th>0</th>\n",
              "      <td>570306133677760513</td>\n",
              "      <td>neutral</td>\n",
              "      <td>1.0000</td>\n",
              "      <td>NaN</td>\n",
              "      <td>NaN</td>\n",
              "      <td>Virgin America</td>\n",
              "      <td>NaN</td>\n",
              "      <td>cairdin</td>\n",
              "      <td>NaN</td>\n",
              "      <td>0</td>\n",
              "      <td>@VirginAmerica What @dhepburn said.</td>\n",
              "      <td>NaN</td>\n",
              "      <td>2015-02-24 11:35:52 -0800</td>\n",
              "      <td>NaN</td>\n",
              "      <td>Eastern Time (US &amp; Canada)</td>\n",
              "    </tr>\n",
              "    <tr>\n",
              "      <th>1</th>\n",
              "      <td>570301130888122368</td>\n",
              "      <td>positive</td>\n",
              "      <td>0.3486</td>\n",
              "      <td>NaN</td>\n",
              "      <td>0.0000</td>\n",
              "      <td>Virgin America</td>\n",
              "      <td>NaN</td>\n",
              "      <td>jnardino</td>\n",
              "      <td>NaN</td>\n",
              "      <td>0</td>\n",
              "      <td>@VirginAmerica plus you've added commercials to the experience... tacky.</td>\n",
              "      <td>NaN</td>\n",
              "      <td>2015-02-24 11:15:59 -0800</td>\n",
              "      <td>NaN</td>\n",
              "      <td>Pacific Time (US &amp; Canada)</td>\n",
              "    </tr>\n",
              "    <tr>\n",
              "      <th>2</th>\n",
              "      <td>570301083672813571</td>\n",
              "      <td>neutral</td>\n",
              "      <td>0.6837</td>\n",
              "      <td>NaN</td>\n",
              "      <td>NaN</td>\n",
              "      <td>Virgin America</td>\n",
              "      <td>NaN</td>\n",
              "      <td>yvonnalynn</td>\n",
              "      <td>NaN</td>\n",
              "      <td>0</td>\n",
              "      <td>@VirginAmerica I didn't today... Must mean I need to take another trip!</td>\n",
              "      <td>NaN</td>\n",
              "      <td>2015-02-24 11:15:48 -0800</td>\n",
              "      <td>Lets Play</td>\n",
              "      <td>Central Time (US &amp; Canada)</td>\n",
              "    </tr>\n",
              "    <tr>\n",
              "      <th>3</th>\n",
              "      <td>570301031407624196</td>\n",
              "      <td>negative</td>\n",
              "      <td>1.0000</td>\n",
              "      <td>Bad Flight</td>\n",
              "      <td>0.7033</td>\n",
              "      <td>Virgin America</td>\n",
              "      <td>NaN</td>\n",
              "      <td>jnardino</td>\n",
              "      <td>NaN</td>\n",
              "      <td>0</td>\n",
              "      <td>@VirginAmerica it's really aggressive to blast obnoxious \"entertainment\" in your guests' faces &amp;amp; they have little recourse</td>\n",
              "      <td>NaN</td>\n",
              "      <td>2015-02-24 11:15:36 -0800</td>\n",
              "      <td>NaN</td>\n",
              "      <td>Pacific Time (US &amp; Canada)</td>\n",
              "    </tr>\n",
              "    <tr>\n",
              "      <th>4</th>\n",
              "      <td>570300817074462722</td>\n",
              "      <td>negative</td>\n",
              "      <td>1.0000</td>\n",
              "      <td>Can't Tell</td>\n",
              "      <td>1.0000</td>\n",
              "      <td>Virgin America</td>\n",
              "      <td>NaN</td>\n",
              "      <td>jnardino</td>\n",
              "      <td>NaN</td>\n",
              "      <td>0</td>\n",
              "      <td>@VirginAmerica and it's a really big bad thing about it</td>\n",
              "      <td>NaN</td>\n",
              "      <td>2015-02-24 11:14:45 -0800</td>\n",
              "      <td>NaN</td>\n",
              "      <td>Pacific Time (US &amp; Canada)</td>\n",
              "    </tr>\n",
              "    <tr>\n",
              "      <th>...</th>\n",
              "      <td>...</td>\n",
              "      <td>...</td>\n",
              "      <td>...</td>\n",
              "      <td>...</td>\n",
              "      <td>...</td>\n",
              "      <td>...</td>\n",
              "      <td>...</td>\n",
              "      <td>...</td>\n",
              "      <td>...</td>\n",
              "      <td>...</td>\n",
              "      <td>...</td>\n",
              "      <td>...</td>\n",
              "      <td>...</td>\n",
              "      <td>...</td>\n",
              "      <td>...</td>\n",
              "    </tr>\n",
              "    <tr>\n",
              "      <th>14635</th>\n",
              "      <td>569587686496825344</td>\n",
              "      <td>positive</td>\n",
              "      <td>0.3487</td>\n",
              "      <td>NaN</td>\n",
              "      <td>0.0000</td>\n",
              "      <td>American</td>\n",
              "      <td>NaN</td>\n",
              "      <td>KristenReenders</td>\n",
              "      <td>NaN</td>\n",
              "      <td>0</td>\n",
              "      <td>@AmericanAir thank you we got on a different flight to Chicago.</td>\n",
              "      <td>NaN</td>\n",
              "      <td>2015-02-22 12:01:01 -0800</td>\n",
              "      <td>NaN</td>\n",
              "      <td>NaN</td>\n",
              "    </tr>\n",
              "    <tr>\n",
              "      <th>14636</th>\n",
              "      <td>569587371693355008</td>\n",
              "      <td>negative</td>\n",
              "      <td>1.0000</td>\n",
              "      <td>Customer Service Issue</td>\n",
              "      <td>1.0000</td>\n",
              "      <td>American</td>\n",
              "      <td>NaN</td>\n",
              "      <td>itsropes</td>\n",
              "      <td>NaN</td>\n",
              "      <td>0</td>\n",
              "      <td>@AmericanAir leaving over 20 minutes Late Flight. No warnings or communication until we were 15 minutes Late Flight. That's called shitty customer svc</td>\n",
              "      <td>NaN</td>\n",
              "      <td>2015-02-22 11:59:46 -0800</td>\n",
              "      <td>Texas</td>\n",
              "      <td>NaN</td>\n",
              "    </tr>\n",
              "    <tr>\n",
              "      <th>14637</th>\n",
              "      <td>569587242672398336</td>\n",
              "      <td>neutral</td>\n",
              "      <td>1.0000</td>\n",
              "      <td>NaN</td>\n",
              "      <td>NaN</td>\n",
              "      <td>American</td>\n",
              "      <td>NaN</td>\n",
              "      <td>sanyabun</td>\n",
              "      <td>NaN</td>\n",
              "      <td>0</td>\n",
              "      <td>@AmericanAir Please bring American Airlines to #BlackBerry10</td>\n",
              "      <td>NaN</td>\n",
              "      <td>2015-02-22 11:59:15 -0800</td>\n",
              "      <td>Nigeria,lagos</td>\n",
              "      <td>NaN</td>\n",
              "    </tr>\n",
              "    <tr>\n",
              "      <th>14638</th>\n",
              "      <td>569587188687634433</td>\n",
              "      <td>negative</td>\n",
              "      <td>1.0000</td>\n",
              "      <td>Customer Service Issue</td>\n",
              "      <td>0.6659</td>\n",
              "      <td>American</td>\n",
              "      <td>NaN</td>\n",
              "      <td>SraJackson</td>\n",
              "      <td>NaN</td>\n",
              "      <td>0</td>\n",
              "      <td>@AmericanAir you have my money, you change my flight, and don't answer your phones! Any other suggestions so I can make my commitment??</td>\n",
              "      <td>NaN</td>\n",
              "      <td>2015-02-22 11:59:02 -0800</td>\n",
              "      <td>New Jersey</td>\n",
              "      <td>Eastern Time (US &amp; Canada)</td>\n",
              "    </tr>\n",
              "    <tr>\n",
              "      <th>14639</th>\n",
              "      <td>569587140490866689</td>\n",
              "      <td>neutral</td>\n",
              "      <td>0.6771</td>\n",
              "      <td>NaN</td>\n",
              "      <td>0.0000</td>\n",
              "      <td>American</td>\n",
              "      <td>NaN</td>\n",
              "      <td>daviddtwu</td>\n",
              "      <td>NaN</td>\n",
              "      <td>0</td>\n",
              "      <td>@AmericanAir we have 8 ppl so we need 2 know how many seats are on the next flight. Plz put us on standby for 4 people on the next flight?</td>\n",
              "      <td>NaN</td>\n",
              "      <td>2015-02-22 11:58:51 -0800</td>\n",
              "      <td>dallas, TX</td>\n",
              "      <td>NaN</td>\n",
              "    </tr>\n",
              "  </tbody>\n",
              "</table>\n",
              "<p>14640 rows × 15 columns</p>\n",
              "</div>\n",
              "    <div class=\"colab-df-buttons\">\n",
              "\n",
              "  <div class=\"colab-df-container\">\n",
              "    <button class=\"colab-df-convert\" onclick=\"convertToInteractive('df-d5ddc94b-53c5-4f03-99a0-abeb8beefcfc')\"\n",
              "            title=\"Convert this dataframe to an interactive table.\"\n",
              "            style=\"display:none;\">\n",
              "\n",
              "  <svg xmlns=\"http://www.w3.org/2000/svg\" height=\"24px\" viewBox=\"0 -960 960 960\">\n",
              "    <path d=\"M120-120v-720h720v720H120Zm60-500h600v-160H180v160Zm220 220h160v-160H400v160Zm0 220h160v-160H400v160ZM180-400h160v-160H180v160Zm440 0h160v-160H620v160ZM180-180h160v-160H180v160Zm440 0h160v-160H620v160Z\"/>\n",
              "  </svg>\n",
              "    </button>\n",
              "\n",
              "  <style>\n",
              "    .colab-df-container {\n",
              "      display:flex;\n",
              "      gap: 12px;\n",
              "    }\n",
              "\n",
              "    .colab-df-convert {\n",
              "      background-color: #E8F0FE;\n",
              "      border: none;\n",
              "      border-radius: 50%;\n",
              "      cursor: pointer;\n",
              "      display: none;\n",
              "      fill: #1967D2;\n",
              "      height: 32px;\n",
              "      padding: 0 0 0 0;\n",
              "      width: 32px;\n",
              "    }\n",
              "\n",
              "    .colab-df-convert:hover {\n",
              "      background-color: #E2EBFA;\n",
              "      box-shadow: 0px 1px 2px rgba(60, 64, 67, 0.3), 0px 1px 3px 1px rgba(60, 64, 67, 0.15);\n",
              "      fill: #174EA6;\n",
              "    }\n",
              "\n",
              "    .colab-df-buttons div {\n",
              "      margin-bottom: 4px;\n",
              "    }\n",
              "\n",
              "    [theme=dark] .colab-df-convert {\n",
              "      background-color: #3B4455;\n",
              "      fill: #D2E3FC;\n",
              "    }\n",
              "\n",
              "    [theme=dark] .colab-df-convert:hover {\n",
              "      background-color: #434B5C;\n",
              "      box-shadow: 0px 1px 3px 1px rgba(0, 0, 0, 0.15);\n",
              "      filter: drop-shadow(0px 1px 2px rgba(0, 0, 0, 0.3));\n",
              "      fill: #FFFFFF;\n",
              "    }\n",
              "  </style>\n",
              "\n",
              "    <script>\n",
              "      const buttonEl =\n",
              "        document.querySelector('#df-d5ddc94b-53c5-4f03-99a0-abeb8beefcfc button.colab-df-convert');\n",
              "      buttonEl.style.display =\n",
              "        google.colab.kernel.accessAllowed ? 'block' : 'none';\n",
              "\n",
              "      async function convertToInteractive(key) {\n",
              "        const element = document.querySelector('#df-d5ddc94b-53c5-4f03-99a0-abeb8beefcfc');\n",
              "        const dataTable =\n",
              "          await google.colab.kernel.invokeFunction('convertToInteractive',\n",
              "                                                    [key], {});\n",
              "        if (!dataTable) return;\n",
              "\n",
              "        const docLinkHtml = 'Like what you see? Visit the ' +\n",
              "          '<a target=\"_blank\" href=https://colab.research.google.com/notebooks/data_table.ipynb>data table notebook</a>'\n",
              "          + ' to learn more about interactive tables.';\n",
              "        element.innerHTML = '';\n",
              "        dataTable['output_type'] = 'display_data';\n",
              "        await google.colab.output.renderOutput(dataTable, element);\n",
              "        const docLink = document.createElement('div');\n",
              "        docLink.innerHTML = docLinkHtml;\n",
              "        element.appendChild(docLink);\n",
              "      }\n",
              "    </script>\n",
              "  </div>\n",
              "\n",
              "\n",
              "<div id=\"df-d10e2221-61d8-41a8-9c45-d73e965735b9\">\n",
              "  <button class=\"colab-df-quickchart\" onclick=\"quickchart('df-d10e2221-61d8-41a8-9c45-d73e965735b9')\"\n",
              "            title=\"Suggest charts\"\n",
              "            style=\"display:none;\">\n",
              "\n",
              "<svg xmlns=\"http://www.w3.org/2000/svg\" height=\"24px\"viewBox=\"0 0 24 24\"\n",
              "     width=\"24px\">\n",
              "    <g>\n",
              "        <path d=\"M19 3H5c-1.1 0-2 .9-2 2v14c0 1.1.9 2 2 2h14c1.1 0 2-.9 2-2V5c0-1.1-.9-2-2-2zM9 17H7v-7h2v7zm4 0h-2V7h2v10zm4 0h-2v-4h2v4z\"/>\n",
              "    </g>\n",
              "</svg>\n",
              "  </button>\n",
              "\n",
              "<style>\n",
              "  .colab-df-quickchart {\n",
              "      --bg-color: #E8F0FE;\n",
              "      --fill-color: #1967D2;\n",
              "      --hover-bg-color: #E2EBFA;\n",
              "      --hover-fill-color: #174EA6;\n",
              "      --disabled-fill-color: #AAA;\n",
              "      --disabled-bg-color: #DDD;\n",
              "  }\n",
              "\n",
              "  [theme=dark] .colab-df-quickchart {\n",
              "      --bg-color: #3B4455;\n",
              "      --fill-color: #D2E3FC;\n",
              "      --hover-bg-color: #434B5C;\n",
              "      --hover-fill-color: #FFFFFF;\n",
              "      --disabled-bg-color: #3B4455;\n",
              "      --disabled-fill-color: #666;\n",
              "  }\n",
              "\n",
              "  .colab-df-quickchart {\n",
              "    background-color: var(--bg-color);\n",
              "    border: none;\n",
              "    border-radius: 50%;\n",
              "    cursor: pointer;\n",
              "    display: none;\n",
              "    fill: var(--fill-color);\n",
              "    height: 32px;\n",
              "    padding: 0;\n",
              "    width: 32px;\n",
              "  }\n",
              "\n",
              "  .colab-df-quickchart:hover {\n",
              "    background-color: var(--hover-bg-color);\n",
              "    box-shadow: 0 1px 2px rgba(60, 64, 67, 0.3), 0 1px 3px 1px rgba(60, 64, 67, 0.15);\n",
              "    fill: var(--button-hover-fill-color);\n",
              "  }\n",
              "\n",
              "  .colab-df-quickchart-complete:disabled,\n",
              "  .colab-df-quickchart-complete:disabled:hover {\n",
              "    background-color: var(--disabled-bg-color);\n",
              "    fill: var(--disabled-fill-color);\n",
              "    box-shadow: none;\n",
              "  }\n",
              "\n",
              "  .colab-df-spinner {\n",
              "    border: 2px solid var(--fill-color);\n",
              "    border-color: transparent;\n",
              "    border-bottom-color: var(--fill-color);\n",
              "    animation:\n",
              "      spin 1s steps(1) infinite;\n",
              "  }\n",
              "\n",
              "  @keyframes spin {\n",
              "    0% {\n",
              "      border-color: transparent;\n",
              "      border-bottom-color: var(--fill-color);\n",
              "      border-left-color: var(--fill-color);\n",
              "    }\n",
              "    20% {\n",
              "      border-color: transparent;\n",
              "      border-left-color: var(--fill-color);\n",
              "      border-top-color: var(--fill-color);\n",
              "    }\n",
              "    30% {\n",
              "      border-color: transparent;\n",
              "      border-left-color: var(--fill-color);\n",
              "      border-top-color: var(--fill-color);\n",
              "      border-right-color: var(--fill-color);\n",
              "    }\n",
              "    40% {\n",
              "      border-color: transparent;\n",
              "      border-right-color: var(--fill-color);\n",
              "      border-top-color: var(--fill-color);\n",
              "    }\n",
              "    60% {\n",
              "      border-color: transparent;\n",
              "      border-right-color: var(--fill-color);\n",
              "    }\n",
              "    80% {\n",
              "      border-color: transparent;\n",
              "      border-right-color: var(--fill-color);\n",
              "      border-bottom-color: var(--fill-color);\n",
              "    }\n",
              "    90% {\n",
              "      border-color: transparent;\n",
              "      border-bottom-color: var(--fill-color);\n",
              "    }\n",
              "  }\n",
              "</style>\n",
              "\n",
              "  <script>\n",
              "    async function quickchart(key) {\n",
              "      const quickchartButtonEl =\n",
              "        document.querySelector('#' + key + ' button');\n",
              "      quickchartButtonEl.disabled = true;  // To prevent multiple clicks.\n",
              "      quickchartButtonEl.classList.add('colab-df-spinner');\n",
              "      try {\n",
              "        const charts = await google.colab.kernel.invokeFunction(\n",
              "            'suggestCharts', [key], {});\n",
              "      } catch (error) {\n",
              "        console.error('Error during call to suggestCharts:', error);\n",
              "      }\n",
              "      quickchartButtonEl.classList.remove('colab-df-spinner');\n",
              "      quickchartButtonEl.classList.add('colab-df-quickchart-complete');\n",
              "    }\n",
              "    (() => {\n",
              "      let quickchartButtonEl =\n",
              "        document.querySelector('#df-d10e2221-61d8-41a8-9c45-d73e965735b9 button');\n",
              "      quickchartButtonEl.style.display =\n",
              "        google.colab.kernel.accessAllowed ? 'block' : 'none';\n",
              "    })();\n",
              "  </script>\n",
              "</div>\n",
              "\n",
              "  <div id=\"id_a9cde8f6-cca3-4f89-a13a-d73c6d7fcc28\">\n",
              "    <style>\n",
              "      .colab-df-generate {\n",
              "        background-color: #E8F0FE;\n",
              "        border: none;\n",
              "        border-radius: 50%;\n",
              "        cursor: pointer;\n",
              "        display: none;\n",
              "        fill: #1967D2;\n",
              "        height: 32px;\n",
              "        padding: 0 0 0 0;\n",
              "        width: 32px;\n",
              "      }\n",
              "\n",
              "      .colab-df-generate:hover {\n",
              "        background-color: #E2EBFA;\n",
              "        box-shadow: 0px 1px 2px rgba(60, 64, 67, 0.3), 0px 1px 3px 1px rgba(60, 64, 67, 0.15);\n",
              "        fill: #174EA6;\n",
              "      }\n",
              "\n",
              "      [theme=dark] .colab-df-generate {\n",
              "        background-color: #3B4455;\n",
              "        fill: #D2E3FC;\n",
              "      }\n",
              "\n",
              "      [theme=dark] .colab-df-generate:hover {\n",
              "        background-color: #434B5C;\n",
              "        box-shadow: 0px 1px 3px 1px rgba(0, 0, 0, 0.15);\n",
              "        filter: drop-shadow(0px 1px 2px rgba(0, 0, 0, 0.3));\n",
              "        fill: #FFFFFF;\n",
              "      }\n",
              "    </style>\n",
              "    <button class=\"colab-df-generate\" onclick=\"generateWithVariable('df')\"\n",
              "            title=\"Generate code using this dataframe.\"\n",
              "            style=\"display:none;\">\n",
              "\n",
              "  <svg xmlns=\"http://www.w3.org/2000/svg\" height=\"24px\"viewBox=\"0 0 24 24\"\n",
              "       width=\"24px\">\n",
              "    <path d=\"M7,19H8.4L18.45,9,17,7.55,7,17.6ZM5,21V16.75L18.45,3.32a2,2,0,0,1,2.83,0l1.4,1.43a1.91,1.91,0,0,1,.58,1.4,1.91,1.91,0,0,1-.58,1.4L9.25,21ZM18.45,9,17,7.55Zm-12,3A5.31,5.31,0,0,0,4.9,8.1,5.31,5.31,0,0,0,1,6.5,5.31,5.31,0,0,0,4.9,4.9,5.31,5.31,0,0,0,6.5,1,5.31,5.31,0,0,0,8.1,4.9,5.31,5.31,0,0,0,12,6.5,5.46,5.46,0,0,0,6.5,12Z\"/>\n",
              "  </svg>\n",
              "    </button>\n",
              "    <script>\n",
              "      (() => {\n",
              "      const buttonEl =\n",
              "        document.querySelector('#id_a9cde8f6-cca3-4f89-a13a-d73c6d7fcc28 button.colab-df-generate');\n",
              "      buttonEl.style.display =\n",
              "        google.colab.kernel.accessAllowed ? 'block' : 'none';\n",
              "\n",
              "      buttonEl.onclick = () => {\n",
              "        google.colab.notebook.generateWithVariable('df');\n",
              "      }\n",
              "      })();\n",
              "    </script>\n",
              "  </div>\n",
              "\n",
              "    </div>\n",
              "  </div>\n"
            ]
          },
          "metadata": {},
          "execution_count": 14
        }
      ],
      "source": [
        "df = pd.read_csv(os.path.join(in_dir,in_filename))\n",
        "print(df.shape)\n",
        "print(df.columns)\n",
        "df"
      ]
    },
    {
      "cell_type": "code",
      "source": [
        "print(df['text'].head())"
      ],
      "metadata": {
        "colab": {
          "base_uri": "https://localhost:8080/"
        },
        "id": "xCBbSHXAh5SY",
        "outputId": "cde56e62-7c83-42fb-9ae8-de5887ba838b"
      },
      "execution_count": 15,
      "outputs": [
        {
          "output_type": "stream",
          "name": "stdout",
          "text": [
            "0                                                                                               @VirginAmerica What @dhepburn said.\n",
            "1                                                          @VirginAmerica plus you've added commercials to the experience... tacky.\n",
            "2                                                           @VirginAmerica I didn't today... Must mean I need to take another trip!\n",
            "3    @VirginAmerica it's really aggressive to blast obnoxious \"entertainment\" in your guests' faces &amp; they have little recourse\n",
            "4                                                                           @VirginAmerica and it's a really big bad thing about it\n",
            "Name: text, dtype: object\n"
          ]
        }
      ]
    },
    {
      "cell_type": "code",
      "source": [
        "print(df['airline_sentiment'].value_counts())\n",
        "print(df['airline_sentiment'].value_counts(normalize=True))\n"
      ],
      "metadata": {
        "colab": {
          "base_uri": "https://localhost:8080/"
        },
        "id": "SNevEt9WJ1it",
        "outputId": "2578ec3e-c876-40f1-c46c-9938435c18a2"
      },
      "execution_count": 16,
      "outputs": [
        {
          "output_type": "stream",
          "name": "stdout",
          "text": [
            "negative    9178\n",
            "neutral     3099\n",
            "positive    2363\n",
            "Name: airline_sentiment, dtype: int64\n",
            "negative    0.626913\n",
            "neutral     0.211680\n",
            "positive    0.161407\n",
            "Name: airline_sentiment, dtype: float64\n"
          ]
        }
      ]
    },
    {
      "cell_type": "markdown",
      "source": [
        "The dataset is clearly unbalanced with a majority of tweets being negative (close to 63%)."
      ],
      "metadata": {
        "id": "7O0PucoF-J73"
      }
    },
    {
      "cell_type": "markdown",
      "source": [
        "#2. **Intro to Textvectorization and Embedding: tensorflow**\n",
        "\n",
        "We will first explore the textvectorization and embedding layers provided in tensorflow keras using a mock up dataset (see corpus below).\n",
        "\n",
        "We'll take a look at:\n",
        "\n",
        "- defining layers: instantiate layers for exploration and fit\n",
        "\n",
        "- hyper parameters: parameters that can be set when using the layers."
      ],
      "metadata": {
        "id": "Y9unQN18pqae"
      }
    },
    {
      "cell_type": "code",
      "source": [
        "corpus = [\n",
        "'Food service was slow and the food was bad and late.',\n",
        "'@airlineZ The flight was very delayed.',\n",
        "'#airlineZ Food was cold and very late.',\n",
        "'I asked for water and coffee but it never came'\n",
        "]"
      ],
      "metadata": {
        "id": "6WLuINdXoFh5"
      },
      "execution_count": 17,
      "outputs": []
    },
    {
      "cell_type": "markdown",
      "source": [
        "The mock up dataset consists in 4 sentences with a variety of length with some unusual characters (# and @)."
      ],
      "metadata": {
        "id": "YM9R7Q48MLWj"
      }
    },
    {
      "cell_type": "markdown",
      "source": [
        "## 2.1 Textvectorization"
      ],
      "metadata": {
        "id": "PbSBmYr2mkK7"
      }
    },
    {
      "cell_type": "markdown",
      "source": [
        "Let's use the default parameter values first to explore the vectorization layer. Here is a short description of the main parameters:\n",
        "\n",
        "- max_tokens: maximum number of token to consider for the modeling. It will take most frequen tokens up to the maximum number.\n",
        "- standardize: preprocessing for the input text, this can be a specific option ('lower', 'lower_and_strip_punctuation') or custom function.\n",
        "\n",
        "\n",
        "Intersesting links:\n",
        "- https://jonathan-hui.medium.com/tensorflow-keras-preprocessing-layers-dataset-performance-considera-e9fc11de7bc7: good overview of textvectorization layer\n",
        "\n",
        "- https://discuss.tensorflow.org/t/nlp-textvectorization-tokenizer/12505/3"
      ],
      "metadata": {
        "id": "BFJe8BmpDYzA"
      }
    },
    {
      "cell_type": "code",
      "source": [
        "#import tensorflow as tf\n",
        "from tensorflow.keras.layers import TextVectorization\n",
        "\n",
        "vectorizer = TextVectorization(max_tokens=None,\n",
        "                              standardize=\"lower_and_strip_punctuation\",\n",
        "                              split=\"whitespace\",\n",
        "                              ngrams=None,\n",
        "                              output_mode=\"int\",\n",
        "                              output_sequence_length=None,\n",
        "                              pad_to_max_tokens=False,\n",
        "                              #vocabulary=corpus,\n",
        "                              idf_weights=None)\n",
        "print(vectorizer)"
      ],
      "metadata": {
        "id": "Q9YfB23FzjMm",
        "colab": {
          "base_uri": "https://localhost:8080/"
        },
        "outputId": "3626f3e7-87a0-4db1-ee47-5ddbeee96717"
      },
      "execution_count": 18,
      "outputs": [
        {
          "output_type": "stream",
          "name": "stdout",
          "text": [
            "<keras.layers.preprocessing.text_vectorization.TextVectorization object at 0x7efc32341720>\n"
          ]
        }
      ]
    },
    {
      "cell_type": "code",
      "source": [],
      "metadata": {
        "id": "jT-GAO7IljgH"
      },
      "execution_count": 18,
      "outputs": []
    },
    {
      "cell_type": "code",
      "source": [
        "vectorizer.adapt(corpus) #fit corpus data\n",
        "#https://towardsdatascience.com/you-should-try-the-new-tensorflows-textvectorization-layer-a80b3c6b00ee5\n",
        "print(vectorizer(corpus)) # you can see the padding here..\n",
        "\n",
        "#a good ref:\n",
        "#https://jonathan-hui.medium.com/tensorflow-keras-preprocessing-layers-dataset-performance-considera-e9fc11de7bc7\n",
        "#Note:\n",
        "#int 0: is used for padding i.e. \" \"\n",
        "#int 1: is used for OOV i.e. 'UNK'\n",
        "#int 2: is the first digit used for the most frequent token (in this case 'was')\n",
        "#int 3: is the next digit used for the next most frequent token (in this case'and')"
      ],
      "metadata": {
        "id": "8e-Vjg6YGRzu",
        "colab": {
          "base_uri": "https://localhost:8080/"
        },
        "outputId": "4a8d1b3b-3d94-4b19-9389-89d90255b385"
      },
      "execution_count": 19,
      "outputs": [
        {
          "output_type": "stream",
          "name": "stdout",
          "text": [
            "tf.Tensor(\n",
            "[[ 4 11  2 10  3  6  4  2 22  3  7]\n",
            " [ 8  6 16  2  5 17  0  0  0  0  0]\n",
            " [ 8  4  2 18  3  5  7  0  0  0  0]\n",
            " [14 23 15  9  3 19 21 13 12 20  0]], shape=(4, 11), dtype=int64)\n"
          ]
        }
      ]
    },
    {
      "cell_type": "code",
      "source": [
        "# Create sample sentence and tokenize it\n",
        "sample_sentence = \"Food was bad\"\n",
        "vectorizer([sample_sentence])"
      ],
      "metadata": {
        "colab": {
          "base_uri": "https://localhost:8080/"
        },
        "id": "YK_tzBrPvLym",
        "outputId": "6cf3b7b2-cb38-4512-83c7-1717fd4506a4"
      },
      "execution_count": 20,
      "outputs": [
        {
          "output_type": "execute_result",
          "data": {
            "text/plain": [
              "<tf.Tensor: shape=(1, 3), dtype=int64, numpy=array([[ 4,  2, 22]])>"
            ]
          },
          "metadata": {},
          "execution_count": 20
        }
      ]
    },
    {
      "cell_type": "code",
      "source": [
        "#prints count of unique values\n",
        "vocab_unprocessed = set((' '.join(corpus)).split(\" \"))\n",
        "print(\"Count- \", len(vocab_unprocessed))\n",
        "vectorizer.vocabulary_size() #there are 23 unique words"
      ],
      "metadata": {
        "colab": {
          "base_uri": "https://localhost:8080/"
        },
        "id": "FBTv7ixWK-BM",
        "outputId": "914347f9-a2ca-4453-ca39-df44924f7773"
      },
      "execution_count": 21,
      "outputs": [
        {
          "output_type": "stream",
          "name": "stdout",
          "text": [
            "Count-  25\n"
          ]
        },
        {
          "output_type": "execute_result",
          "data": {
            "text/plain": [
              "24"
            ]
          },
          "metadata": {},
          "execution_count": 21
        }
      ]
    },
    {
      "cell_type": "code",
      "source": [
        "vocab = vectorizer.get_vocabulary()\n",
        "vocab2 = vectorizer.get_vocabulary(include_special_tokens=False)\n",
        "print(vocab[:10])\n",
        "print(vocab2[:10])\n",
        "print(vocab[-10:])\n",
        "print(vocab2[-10:])"
      ],
      "metadata": {
        "colab": {
          "base_uri": "https://localhost:8080/"
        },
        "id": "jbWZ1mAOKong",
        "outputId": "454762a1-1b36-4d95-c7ea-8bc508974c28"
      },
      "execution_count": 22,
      "outputs": [
        {
          "output_type": "stream",
          "name": "stdout",
          "text": [
            "['', '[UNK]', 'was', 'and', 'food', 'very', 'the', 'late', 'airlinez', 'water']\n",
            "['was', 'and', 'food', 'very', 'the', 'late', 'airlinez', 'water', 'slow', 'service']\n",
            "['i', 'for', 'flight', 'delayed', 'cold', 'coffee', 'came', 'but', 'bad', 'asked']\n",
            "['i', 'for', 'flight', 'delayed', 'cold', 'coffee', 'came', 'but', 'bad', 'asked']\n"
          ]
        }
      ]
    },
    {
      "cell_type": "code",
      "source": [
        "vocab, vocab_unprocessed"
      ],
      "metadata": {
        "colab": {
          "base_uri": "https://localhost:8080/"
        },
        "id": "x9YwdERLikDH",
        "outputId": "e13767a4-5f1e-428a-9aeb-89263a56b43d"
      },
      "execution_count": 23,
      "outputs": [
        {
          "output_type": "execute_result",
          "data": {
            "text/plain": [
              "(['',\n",
              "  '[UNK]',\n",
              "  'was',\n",
              "  'and',\n",
              "  'food',\n",
              "  'very',\n",
              "  'the',\n",
              "  'late',\n",
              "  'airlinez',\n",
              "  'water',\n",
              "  'slow',\n",
              "  'service',\n",
              "  'never',\n",
              "  'it',\n",
              "  'i',\n",
              "  'for',\n",
              "  'flight',\n",
              "  'delayed',\n",
              "  'cold',\n",
              "  'coffee',\n",
              "  'came',\n",
              "  'but',\n",
              "  'bad',\n",
              "  'asked'],\n",
              " {'#airlineZ',\n",
              "  '@airlineZ',\n",
              "  'Food',\n",
              "  'I',\n",
              "  'The',\n",
              "  'and',\n",
              "  'asked',\n",
              "  'bad',\n",
              "  'but',\n",
              "  'came',\n",
              "  'coffee',\n",
              "  'cold',\n",
              "  'delayed.',\n",
              "  'flight',\n",
              "  'food',\n",
              "  'for',\n",
              "  'it',\n",
              "  'late.',\n",
              "  'never',\n",
              "  'service',\n",
              "  'slow',\n",
              "  'the',\n",
              "  'very',\n",
              "  'was',\n",
              "  'water'})"
            ]
          },
          "metadata": {},
          "execution_count": 23
        }
      ]
    },
    {
      "cell_type": "markdown",
      "source": [
        "In the top 10, we have 'was' which appears twice in the corpus. Note that the tokens '' and 'UNK' are also present in the top. This is because the textvectorization layer will put padding '' and the OOV 'UNK' in the list. This implies that these are the most frequent but in fact '' are always put at the top of the list by default. To remove them you can\n",
        "\n",
        "https://github.com/keras-team/keras/blob/v2.13.1/keras/layers/preprocessing/index_lookup.py#L370\n",
        "\n",
        "https://stackoverflow.com/questions/68440502/why-is-unk-word-the-first-in-word2vec-vocabulary\n",
        "\n",
        "\n",
        "TALK ABOUT padding (or mask) and OOV: out of vocabulary"
      ],
      "metadata": {
        "id": "xSEvXZtAd_7L"
      }
    },
    {
      "cell_type": "code",
      "source": [
        "set((' '.join(corpus)).split(\" \")) #note that @ was removed"
      ],
      "metadata": {
        "colab": {
          "base_uri": "https://localhost:8080/"
        },
        "id": "hWP9eejcdKZ3",
        "outputId": "2830bdc2-33d6-4cc7-93e3-32b50ce94b05"
      },
      "execution_count": 24,
      "outputs": [
        {
          "output_type": "execute_result",
          "data": {
            "text/plain": [
              "{'#airlineZ',\n",
              " '@airlineZ',\n",
              " 'Food',\n",
              " 'I',\n",
              " 'The',\n",
              " 'and',\n",
              " 'asked',\n",
              " 'bad',\n",
              " 'but',\n",
              " 'came',\n",
              " 'coffee',\n",
              " 'cold',\n",
              " 'delayed.',\n",
              " 'flight',\n",
              " 'food',\n",
              " 'for',\n",
              " 'it',\n",
              " 'late.',\n",
              " 'never',\n",
              " 'service',\n",
              " 'slow',\n",
              " 'the',\n",
              " 'very',\n",
              " 'was',\n",
              " 'water'}"
            ]
          },
          "metadata": {},
          "execution_count": 24
        }
      ]
    },
    {
      "cell_type": "code",
      "source": [
        "# Get the unique words in the vocabulary\n",
        "words_in_vocab = vectorizer.get_vocabulary()\n",
        "top_5_words = words_in_vocab[:5] # most common tokens (notice the [UNK] token for \"unknown\" words)\n",
        "bottom_5_words = words_in_vocab[-5:] # least common tokens\n",
        "print(f\"Number of words in vocab: {len(words_in_vocab)}\")\n",
        "print(f\"Top 5 most common words: {top_5_words}\")\n",
        "print(f\"Bottom 5 least common words: {bottom_5_words}\")"
      ],
      "metadata": {
        "colab": {
          "base_uri": "https://localhost:8080/"
        },
        "id": "BWUgJCfMzBJU",
        "outputId": "d6fb3ff1-c93f-4d44-fe41-d59cb257c8c6"
      },
      "execution_count": 25,
      "outputs": [
        {
          "output_type": "stream",
          "name": "stdout",
          "text": [
            "Number of words in vocab: 24\n",
            "Top 5 most common words: ['', '[UNK]', 'was', 'and', 'food']\n",
            "Bottom 5 least common words: ['coffee', 'came', 'but', 'bad', 'asked']\n"
          ]
        }
      ]
    },
    {
      "cell_type": "code",
      "source": [
        "vectorizer.name\n",
        "vectorizer.get_config()\n",
        "#if output sequence length is None it will be set to the length of the longest sequence in the input text. This may mean a lot of padding."
      ],
      "metadata": {
        "id": "lEfamb_jIrdP",
        "colab": {
          "base_uri": "https://localhost:8080/"
        },
        "outputId": "c2acf974-87ed-49bd-afe3-43875ebda947"
      },
      "execution_count": 26,
      "outputs": [
        {
          "output_type": "execute_result",
          "data": {
            "text/plain": [
              "{'name': 'text_vectorization',\n",
              " 'trainable': True,\n",
              " 'dtype': 'string',\n",
              " 'batch_input_shape': (None,),\n",
              " 'max_tokens': None,\n",
              " 'standardize': 'lower_and_strip_punctuation',\n",
              " 'split': 'whitespace',\n",
              " 'ngrams': None,\n",
              " 'output_mode': 'int',\n",
              " 'output_sequence_length': None,\n",
              " 'pad_to_max_tokens': False,\n",
              " 'sparse': False,\n",
              " 'ragged': False,\n",
              " 'vocabulary': None,\n",
              " 'idf_weights': None,\n",
              " 'encoding': 'utf-8',\n",
              " 'vocabulary_size': 24}"
            ]
          },
          "metadata": {},
          "execution_count": 26
        }
      ]
    },
    {
      "cell_type": "code",
      "source": [
        "[len(sentence.split(\" \")) for sentence in corpus] #this means the output_sequence_length will be set to 11"
      ],
      "metadata": {
        "colab": {
          "base_uri": "https://localhost:8080/"
        },
        "id": "1AhIKBFIniNe",
        "outputId": "afe8566a-ff30-4fde-cffb-f5c1a6b8f3b3"
      },
      "execution_count": 27,
      "outputs": [
        {
          "output_type": "execute_result",
          "data": {
            "text/plain": [
              "[11, 6, 7, 10]"
            ]
          },
          "metadata": {},
          "execution_count": 27
        }
      ]
    },
    {
      "cell_type": "code",
      "source": [
        "# Create sample sentence and tokenize it\n",
        "sample_sentence = corpus[2]\n",
        "vectorizer([sample_sentence])"
      ],
      "metadata": {
        "colab": {
          "base_uri": "https://localhost:8080/"
        },
        "id": "j4nWSpOGzTiO",
        "outputId": "67b2d6a2-ae8b-481a-98e0-97b555f84d2a"
      },
      "execution_count": 28,
      "outputs": [
        {
          "output_type": "execute_result",
          "data": {
            "text/plain": [
              "<tf.Tensor: shape=(1, 7), dtype=int64, numpy=array([[ 8,  4,  2, 18,  3,  5,  7]])>"
            ]
          },
          "metadata": {},
          "execution_count": 28
        }
      ]
    },
    {
      "cell_type": "markdown",
      "source": [
        "## 2.2 Embedding"
      ],
      "metadata": {
        "id": "aSuJ1RnQmrrJ"
      }
    },
    {
      "cell_type": "markdown",
      "source": [
        "There are two required input parameters:\n",
        "- input_dim : size of the vocabulary (number of unique tokens)\n",
        "- output_dim: size of the output embedding space\n",
        "\n",
        "The other arguments have default values. Some important one to know about:\n",
        "- embeddings_initializer: set to uniform by default\n",
        "\n",
        "Useful links to consider:\n",
        "\n",
        "- https://www.tensorflow.org/text/guide/word_embeddings\n",
        "- https://www.tensorflow.org/tutorials/keras/text_classification_with_hub: use pre-trained word embedding\n",
        "- classify text/sentiment with BERT: https://www.tensorflow.org/text/tutorials/classify_text_with_bert\n",
        "- https://towardsdatascience.com/sentiment-analysis-in-10-minutes-with-bert-and-hugging-face-294e8a04b671\n",
        "- pytorch bert fine tuning: https://medium.com/@Mirza_Yusuf/using-a-bert-model-for-sentiment-analysis-6c6fcc106843\n"
      ],
      "metadata": {
        "id": "B0stsiaxzjyP"
      }
    },
    {
      "cell_type": "code",
      "source": [
        "vocab_size = 24\n",
        "embedding_size = 8\n",
        "embedding = tf.keras.layers.Embedding(\n",
        "               input_dim=vocab_size ,\n",
        "              output_dim=embedding_size,\n",
        "    embeddings_initializer='uniform'\n",
        ")"
      ],
      "metadata": {
        "id": "pvSjYTrUzkzO"
      },
      "execution_count": 29,
      "outputs": []
    },
    {
      "cell_type": "code",
      "source": [
        "print(embedding(tf.constant([10,4,5,9])).shape)\n",
        "print(embedding(tf.constant([10,4,5,9])))\n",
        "#embeding takes input integer values"
      ],
      "metadata": {
        "colab": {
          "base_uri": "https://localhost:8080/"
        },
        "id": "zRmQYKIDVgkD",
        "outputId": "7f1e12bc-43e8-41ae-b2f1-78da6898a712"
      },
      "execution_count": 30,
      "outputs": [
        {
          "output_type": "stream",
          "name": "stdout",
          "text": [
            "(4, 8)\n",
            "tf.Tensor(\n",
            "[[ 2.8990570e-02  3.3195246e-02 -4.1550957e-02  2.5699127e-02\n",
            "   3.8005281e-02 -3.4454726e-02  4.9829874e-02 -1.3718031e-02]\n",
            " [ 6.8822391e-03 -4.0784813e-02  2.9579177e-03  4.5764554e-02\n",
            "   3.8947489e-02 -3.6732733e-02 -2.2172976e-02  3.2199349e-02]\n",
            " [-2.0334793e-02 -8.9954585e-05  2.1882143e-02  2.5167290e-02\n",
            "  -3.2461882e-03  5.1987655e-03 -4.5087993e-02  2.0286951e-02]\n",
            " [ 5.9703104e-03  2.9722895e-02  2.4226833e-02 -3.8385499e-02\n",
            "  -4.4888772e-02  2.0072971e-02  3.8799074e-02  9.6265301e-03]], shape=(4, 8), dtype=float32)\n"
          ]
        }
      ]
    },
    {
      "cell_type": "markdown",
      "source": [
        "Now let's pass the corpus:"
      ],
      "metadata": {
        "id": "v4G3B2zjV-Le"
      }
    },
    {
      "cell_type": "code",
      "source": [
        "x = embedding(vectorizer(corpus))\n",
        "print(x.shape)\n",
        "print(x[0].shape)\n",
        "print(x[0])\n",
        "print(corpus[0]) #11 tokens (words) with 8 dimensional embedding space"
      ],
      "metadata": {
        "colab": {
          "base_uri": "https://localhost:8080/"
        },
        "id": "S7NXMln1Uz01",
        "outputId": "1892becc-7573-4f2c-f9f3-0827ff25349a"
      },
      "execution_count": 31,
      "outputs": [
        {
          "output_type": "stream",
          "name": "stdout",
          "text": [
            "(4, 11, 8)\n",
            "(11, 8)\n",
            "tf.Tensor(\n",
            "[[ 0.00688224 -0.04078481  0.00295792  0.04576455  0.03894749 -0.03673273\n",
            "  -0.02217298  0.03219935]\n",
            " [-0.04317215 -0.00332087 -0.02747892 -0.03301944 -0.03302094 -0.01733086\n",
            "   0.02500268 -0.02539468]\n",
            " [ 0.03357805 -0.00074716 -0.04997317  0.00379242 -0.02255189  0.03543749\n",
            "  -0.00951461 -0.00370295]\n",
            " [ 0.02899057  0.03319525 -0.04155096  0.02569913  0.03800528 -0.03445473\n",
            "   0.04982987 -0.01371803]\n",
            " [-0.03285947 -0.041954   -0.02800494  0.02481366 -0.03622916 -0.0479422\n",
            "   0.03275916 -0.01632224]\n",
            " [ 0.01118533  0.02758301 -0.04644134  0.0213796  -0.02434178 -0.03139525\n",
            "  -0.01149981  0.02209104]\n",
            " [ 0.00688224 -0.04078481  0.00295792  0.04576455  0.03894749 -0.03673273\n",
            "  -0.02217298  0.03219935]\n",
            " [ 0.03357805 -0.00074716 -0.04997317  0.00379242 -0.02255189  0.03543749\n",
            "  -0.00951461 -0.00370295]\n",
            " [ 0.00557834 -0.04960307  0.01229755 -0.01618     0.03242833 -0.00335643\n",
            "   0.03475258  0.03976322]\n",
            " [-0.03285947 -0.041954   -0.02800494  0.02481366 -0.03622916 -0.0479422\n",
            "   0.03275916 -0.01632224]\n",
            " [-0.04891977 -0.00300348 -0.03722342 -0.02019156  0.01719743 -0.03780526\n",
            "   0.04418171 -0.01205831]], shape=(11, 8), dtype=float32)\n",
            "Food service was slow and the food was bad and late.\n"
          ]
        }
      ]
    },
    {
      "cell_type": "markdown",
      "source": [
        "#3. **Train test split and fitting text vectorizer and embedding**\n",
        "\n",
        "Next, we split the airlines tweet data into training and testing. We will also fit the text vectorizer to the training set and create the embedding layer."
      ],
      "metadata": {
        "id": "xyRn8ZX0CSEH"
      }
    },
    {
      "cell_type": "markdown",
      "source": [
        "## 3.1 Generate train test split"
      ],
      "metadata": {
        "id": "MjnMovRQNAm2"
      }
    },
    {
      "cell_type": "code",
      "source": [
        "cleaned_txt = df[\"text\"].apply(clean_text) #need to fix this step\n",
        "df[\"text_cleaned\"] = cleaned_txt\n",
        "df[\"text_cleaned\"].head()\n",
        "\n"
      ],
      "metadata": {
        "colab": {
          "base_uri": "https://localhost:8080/"
        },
        "id": "dat9KCrGCHRP",
        "outputId": "b9f2a4c3-28c3-49b1-e663-23cff8613806"
      },
      "execution_count": 32,
      "outputs": [
        {
          "output_type": "execute_result",
          "data": {
            "text/plain": [
              "0                                                                              said\n",
              "1                                      plus youve added commercial experience tacky\n",
              "2                                      didnt today must mean need take another trip\n",
              "3    really aggressive blast obnoxious entertainment guest face amp little recourse\n",
              "4                                                              really big bad thing\n",
              "Name: text_cleaned, dtype: object"
            ]
          },
          "metadata": {},
          "execution_count": 32
        }
      ]
    },
    {
      "cell_type": "code",
      "source": [
        "del cleaned_txt\n",
        "from sklearn.model_selection import train_test_split\n",
        "#X = df['text_cleaned']\n",
        "X = df['text_cleaned']\n",
        "df[\"target\"] = df[\"airline_sentiment\"].map({\"positive\": 2, \"neutral\": 1, \"negative\": 0}) #we need to recode the string to int\n",
        "\n",
        "y = df['target']\n",
        "X_train, X_test, y_train, y_test = train_test_split(X,\n",
        "                                                    y,\n",
        "                                                    test_size=0.2,\n",
        "                                                    stratify=y,\n",
        "                                                    random_state=42)"
      ],
      "metadata": {
        "id": "8sxZwh-LCWZM"
      },
      "execution_count": 33,
      "outputs": []
    },
    {
      "cell_type": "code",
      "source": [
        "df.dtypes"
      ],
      "metadata": {
        "colab": {
          "base_uri": "https://localhost:8080/"
        },
        "id": "EbhIfOyt5Z4m",
        "outputId": "b7f2adde-abf3-4bca-c308-fd51814ac22f"
      },
      "execution_count": 34,
      "outputs": [
        {
          "output_type": "execute_result",
          "data": {
            "text/plain": [
              "tweet_id                          int64\n",
              "airline_sentiment                object\n",
              "airline_sentiment_confidence    float64\n",
              "negativereason                   object\n",
              "negativereason_confidence       float64\n",
              "airline                          object\n",
              "airline_sentiment_gold           object\n",
              "name                             object\n",
              "negativereason_gold              object\n",
              "retweet_count                     int64\n",
              "text                             object\n",
              "tweet_coord                      object\n",
              "tweet_created                    object\n",
              "tweet_location                   object\n",
              "user_timezone                    object\n",
              "text_cleaned                     object\n",
              "target                            int64\n",
              "dtype: object"
            ]
          },
          "metadata": {},
          "execution_count": 34
        }
      ]
    },
    {
      "cell_type": "code",
      "source": [
        "df['airline_sentiment'].value_counts(dropna=False)"
      ],
      "metadata": {
        "colab": {
          "base_uri": "https://localhost:8080/"
        },
        "id": "2WOnRMZM6yoT",
        "outputId": "1887a8f3-772b-49ba-8fa6-b2920fb93dd3"
      },
      "execution_count": 35,
      "outputs": [
        {
          "output_type": "execute_result",
          "data": {
            "text/plain": [
              "negative    9178\n",
              "neutral     3099\n",
              "positive    2363\n",
              "Name: airline_sentiment, dtype: int64"
            ]
          },
          "metadata": {},
          "execution_count": 35
        }
      ]
    },
    {
      "cell_type": "code",
      "source": [
        "print(X_train.shape)\n",
        "print(X_test.shape)\n",
        "print(y_train.shape)\n",
        "print(y_test.shape)"
      ],
      "metadata": {
        "colab": {
          "base_uri": "https://localhost:8080/"
        },
        "id": "tnb55TkiCZrQ",
        "outputId": "e4111aea-71c1-4718-bb75-7f8ccf340c58"
      },
      "execution_count": 36,
      "outputs": [
        {
          "output_type": "stream",
          "name": "stdout",
          "text": [
            "(11712,)\n",
            "(2928,)\n",
            "(11712,)\n",
            "(2928,)\n"
          ]
        }
      ]
    },
    {
      "cell_type": "code",
      "source": [
        "X_train"
      ],
      "metadata": {
        "colab": {
          "base_uri": "https://localhost:8080/"
        },
        "id": "PWq1EX_ZCbKS",
        "outputId": "b53f4986-284a-417e-abb2-3218e1b3c213"
      },
      "execution_count": 37,
      "outputs": [
        {
          "output_type": "execute_result",
          "data": {
            "text/plain": [
              "1262                                                                                           would cost\n",
              "10772                              used get email snack time check got neither tomorrow trip not get sent\n",
              "4204     no flight cancelled flightlations one due weather one mechanical paid hotel bag held transfer no\n",
              "5491                                                                not frustrated idea great crew thanks\n",
              "12096                                                                 narrowly made standby lot snag trip\n",
              "                                                       ...                                               \n",
              "305                          flight booking problem section website seems broken chrome might wan na look\n",
              "10579                      thanks hour flight pit phx zero entertainment guess quarter million mile delta\n",
              "4514                        assigned seating cousin amp probably cant sit together flight tomorrow thanks\n",
              "7131                                                                           enough stop flying jetblue\n",
              "4927                                                                  beautiful fleet perfect evening fly\n",
              "Name: text_cleaned, Length: 11712, dtype: object"
            ]
          },
          "metadata": {},
          "execution_count": 37
        }
      ]
    },
    {
      "cell_type": "code",
      "source": [],
      "metadata": {
        "id": "nniMzcWE5YLX"
      },
      "execution_count": 37,
      "outputs": []
    },
    {
      "cell_type": "markdown",
      "source": [
        "## 3.2 Fit text vectorizer on training samples"
      ],
      "metadata": {
        "id": "Gv7O_ePWEN4l"
      }
    },
    {
      "cell_type": "code",
      "source": [
        "\n",
        "#import tensorflow as tf\n",
        "from tensorflow.keras.layers import TextVectorization\n",
        "\n",
        "#max_tokens = 15000\n",
        "vectorizer = TextVectorization(max_tokens=None,\n",
        "                              standardize=\"lower_and_strip_punctuation\",\n",
        "                              split=\"whitespace\",\n",
        "                              ngrams=None,\n",
        "                              output_mode=\"int\",\n",
        "                              output_sequence_length=None,\n",
        "                              pad_to_max_tokens=False,\n",
        "                              #vocabulary=corpus,\n",
        "                              idf_weights=None)\n",
        "print(vectorizer)"
      ],
      "metadata": {
        "colab": {
          "base_uri": "https://localhost:8080/"
        },
        "id": "30IdUMxAM1HM",
        "outputId": "7595d1e5-9164-4f79-d318-b6678f8782b1"
      },
      "execution_count": 38,
      "outputs": [
        {
          "output_type": "stream",
          "name": "stdout",
          "text": [
            "<keras.layers.preprocessing.text_vectorization.TextVectorization object at 0x7efc322b81c0>\n"
          ]
        }
      ]
    },
    {
      "cell_type": "code",
      "source": [
        "# Fit the text vectorizer to the training text\n",
        "vectorizer.adapt(X_train)"
      ],
      "metadata": {
        "id": "-EXlAE_LMpeJ"
      },
      "execution_count": 39,
      "outputs": []
    },
    {
      "cell_type": "code",
      "source": [
        "# Get the unique words in the vocabulary\n",
        "words_in_vocab = vectorizer.get_vocabulary()\n",
        "top_5_words = words_in_vocab[:5] # most common tokens (notice the [UNK] token for \"unknown\" words)\n",
        "bottom_5_words = words_in_vocab[-5:] # least common tokens\n",
        "print(f\"Number of words in vocab: {len(words_in_vocab)}\")\n",
        "print(f\"Top 5 most common words: {top_5_words}\")\n",
        "print(f\"Bottom 5 least common words: {bottom_5_words}\")"
      ],
      "metadata": {
        "colab": {
          "base_uri": "https://localhost:8080/"
        },
        "id": "4GieUs0NPqXw",
        "outputId": "7f4fe3b1-cab5-42e5-ad59-561ae6ba0b65"
      },
      "execution_count": 40,
      "outputs": [
        {
          "output_type": "stream",
          "name": "stdout",
          "text": [
            "Number of words in vocab: 7777\n",
            "Top 5 most common words: ['', '[UNK]', 'flight', 'not', 'no']\n",
            "Bottom 5 least common words: ['ab', 'aaron', 'aal', 'aadavantage', 'aaaand']\n"
          ]
        }
      ]
    },
    {
      "cell_type": "code",
      "source": [
        "print(np.mean([len(x_val) for x_val in X_train]))\n",
        "print(np.median([len(x_val) for x_val in X_train]))\n",
        "print(np.max([len(x_val) for x_val in X_train]))\n",
        "print(np.min([len(x_val) for x_val in X_train]))"
      ],
      "metadata": {
        "colab": {
          "base_uri": "https://localhost:8080/"
        },
        "id": "sljYWCMgReE2",
        "outputId": "11e62a2a-a055-4810-da8f-537fc7fe29ec"
      },
      "execution_count": 41,
      "outputs": [
        {
          "output_type": "stream",
          "name": "stdout",
          "text": [
            "53.98753415300546\n",
            "57.0\n",
            "129\n",
            "0\n"
          ]
        }
      ]
    },
    {
      "cell_type": "code",
      "source": [
        "#import tensorflow as tf\n",
        "from tensorflow.keras.layers import TextVectorization\n",
        "\n",
        "max_vocab = 5000\n",
        "sequence_length = 60\n",
        "vectorizer = TextVectorization(max_tokens=max_vocab,\n",
        "                              standardize=\"lower_and_strip_punctuation\",\n",
        "                              split=\"whitespace\",\n",
        "                              ngrams=None,\n",
        "                              output_mode=\"int\",\n",
        "                              output_sequence_length=sequence_length,\n",
        "                              pad_to_max_tokens=False,\n",
        "                              idf_weights=None)\n",
        "print(vectorizer)"
      ],
      "metadata": {
        "colab": {
          "base_uri": "https://localhost:8080/"
        },
        "id": "ZhMXaApXROhI",
        "outputId": "1b8004d0-469a-4639-fb15-5b4329a77a2c"
      },
      "execution_count": 42,
      "outputs": [
        {
          "output_type": "stream",
          "name": "stdout",
          "text": [
            "<keras.layers.preprocessing.text_vectorization.TextVectorization object at 0x7efb0c1776d0>\n"
          ]
        }
      ]
    },
    {
      "cell_type": "code",
      "source": [
        "# Fit the text vectorizer to the training text\n",
        "vectorizer.adapt(X_train)\n",
        "# Get the unique words in the vocabulary\n",
        "words_in_vocab = vectorizer.get_vocabulary()\n",
        "top_5_words = words_in_vocab[:5] # most common tokens (notice the [UNK] token for \"unknown\" words)\n",
        "bottom_5_words = words_in_vocab[-5:] # least common tokens\n",
        "print(f\"Number of words in vocab: {len(words_in_vocab)}\")\n",
        "print(f\"Top 5 most common words: {top_5_words}\")\n",
        "print(f\"Bottom 5 least common words: {bottom_5_words}\")"
      ],
      "metadata": {
        "colab": {
          "base_uri": "https://localhost:8080/"
        },
        "id": "oAX00k8sTJTk",
        "outputId": "ffce95d5-d6e1-4796-bbeb-734d9a6160fc"
      },
      "execution_count": 43,
      "outputs": [
        {
          "output_type": "stream",
          "name": "stdout",
          "text": [
            "Number of words in vocab: 5000\n",
            "Top 5 most common words: ['', '[UNK]', 'flight', 'not', 'no']\n",
            "Bottom 5 least common words: ['skyw', 'skycap', 'skipper', 'skip', 'skillful']\n"
          ]
        }
      ]
    },
    {
      "cell_type": "markdown",
      "source": [],
      "metadata": {
        "id": "YS0pkvd0TiRu"
      }
    },
    {
      "cell_type": "markdown",
      "source": [
        "#4. **Build and train model**\n",
        "- set up baseline model (random forest)\n",
        "- build DNN model"
      ],
      "metadata": {
        "id": "1MRBvNkaps41"
      }
    },
    {
      "cell_type": "markdown",
      "source": [
        "Let's define model 1 which is a simple fully connected neural network using the dense keras tensorflow layer."
      ],
      "metadata": {
        "id": "_Qm1z6YrWWWV"
      }
    },
    {
      "cell_type": "code",
      "source": [
        "#base line mode?"
      ],
      "metadata": {
        "id": "XPKxYwpiTwFg"
      },
      "execution_count": 44,
      "outputs": []
    },
    {
      "cell_type": "markdown",
      "source": [
        "# 4.1 Dense model"
      ],
      "metadata": {
        "id": "KsjCBGBnGuql"
      }
    },
    {
      "cell_type": "code",
      "source": [
        "vocab_size = max_vocab\n",
        "embedding_size = 16\n",
        "num_classes = 3"
      ],
      "metadata": {
        "id": "8eJy9-daWtQK"
      },
      "execution_count": 45,
      "outputs": []
    },
    {
      "cell_type": "code",
      "source": [
        "\n",
        "inputs = layers.Input(shape=(1,), dtype=\"string\")\n",
        "x = vectorizer(inputs)\n",
        "x = layers.Embedding(input_dim = vocab_size,\n",
        "                     output_dim = embedding_size,\n",
        "                     name = \"embedding1\")(x)\n",
        "x = layers.Dense(8,activation='relu')(x)\n",
        "x = layers.GlobalAveragePooling1D()(x)\n",
        "outputs = layers.Dense(num_classes, activation=\"softmax\")(x) # create the output layer, want binary outputs so use sigmoid activation\n",
        "model_dnn = tf.keras.Model(inputs, outputs, name= \"dnn_model1\") # construct the model\n",
        "\n",
        "'''\n",
        "tensorboard_callback = tf.keras.callbacks.TensorBoard(log_dir=\"logs\")\n",
        "'''\n",
        "\n",
        "model_dnn._name = 'model_lstm' # set keras model name\n",
        "\n",
        "## Compile model\n",
        "model_dnn.compile(optimizer=tf.keras.optimizers.Adam(),\n",
        "              loss=tf.keras.losses.SparseCategoricalCrossentropy(),\n",
        "              metrics=['accuracy'])\n"
      ],
      "metadata": {
        "id": "qH9NA7yOWRLe"
      },
      "execution_count": 46,
      "outputs": []
    },
    {
      "cell_type": "code",
      "source": [
        "model_dnn.summary()"
      ],
      "metadata": {
        "colab": {
          "base_uri": "https://localhost:8080/"
        },
        "id": "IRNsmAOzUIg9",
        "outputId": "3480b9e4-59ba-40e9-c3d6-b99b4f566dab"
      },
      "execution_count": 47,
      "outputs": [
        {
          "output_type": "stream",
          "name": "stdout",
          "text": [
            "Model: \"model_lstm\"\n",
            "_________________________________________________________________\n",
            " Layer (type)                Output Shape              Param #   \n",
            "=================================================================\n",
            " input_1 (InputLayer)        [(None, 1)]               0         \n",
            "                                                                 \n",
            " text_vectorization_2 (TextV  (None, 60)               0         \n",
            " ectorization)                                                   \n",
            "                                                                 \n",
            " embedding1 (Embedding)      (None, 60, 16)            80000     \n",
            "                                                                 \n",
            " dense (Dense)               (None, 60, 8)             136       \n",
            "                                                                 \n",
            " global_average_pooling1d (G  (None, 8)                0         \n",
            " lobalAveragePooling1D)                                          \n",
            "                                                                 \n",
            " dense_1 (Dense)             (None, 3)                 27        \n",
            "                                                                 \n",
            "=================================================================\n",
            "Total params: 80,163\n",
            "Trainable params: 80,163\n",
            "Non-trainable params: 0\n",
            "_________________________________________________________________\n"
          ]
        }
      ]
    },
    {
      "cell_type": "code",
      "source": [
        "# Fit model: takes between 50 and 60 minutes for epoch 10, about 10-12 minutes for 2 epochs\n",
        "\n",
        "batch_size = 128\n",
        "epochs = 2\n",
        "# Fit the model\n",
        "#https://stackoverflow.com/questions/40186722/cast-string-to-float-is-not-supported-in-linear-model\n",
        "model_dnn_history = model_dnn.fit(X_train, # input sentences can be a list of strings due to text preprocessing layer built-in model\n",
        "                              y_train,\n",
        "                              batch_size=batch_size,\n",
        "                              epochs=epochs)#,\n",
        "                              #validation_data=(val_sentences, val_labels),\n",
        "                              #callbacks=[create_tensorboard_callback(dir_name=SAVE_DIR,\n",
        "                              #                                       experiment_name=\"simple_dense_model\")])\n"
      ],
      "metadata": {
        "colab": {
          "base_uri": "https://localhost:8080/"
        },
        "id": "ucpd6PLcYJUX",
        "outputId": "82356829-2df1-465b-9fad-ae7504e7ebd5"
      },
      "execution_count": 48,
      "outputs": [
        {
          "output_type": "stream",
          "name": "stdout",
          "text": [
            "Epoch 1/2\n",
            "92/92 [==============================] - 1s 3ms/step - loss: 1.0203 - accuracy: 0.6219\n",
            "Epoch 2/2\n",
            "92/92 [==============================] - 0s 3ms/step - loss: 0.9161 - accuracy: 0.6270\n"
          ]
        }
      ]
    },
    {
      "cell_type": "markdown",
      "source": [
        "## 4.2 Recurrent LSTM model"
      ],
      "metadata": {
        "id": "uVuiYRhdG4_F"
      }
    },
    {
      "cell_type": "code",
      "source": [
        "vocab_size = max_vocab\n",
        "embedding_size = 16\n",
        "num_classes = 3"
      ],
      "metadata": {
        "id": "AWTnQ28eIdkx"
      },
      "execution_count": 49,
      "outputs": []
    },
    {
      "cell_type": "code",
      "execution_count": 50,
      "metadata": {
        "id": "6svuCq0P6Hr5"
      },
      "outputs": [],
      "source": [
        "inputs = layers.Input(shape=(1,), dtype=\"string\")\n",
        "x = vectorizer(inputs)\n",
        "x = layers.Embedding(input_dim = vocab_size,\n",
        "                     output_dim = embedding_size,\n",
        "                     name = \"embedding2\")(x)\n",
        "                     # x = layers.LSTM(64, return_sequences=True)(x) # return vector for each word in the Tweet (you can stack RNN cells as long as return_sequences=True)\n",
        "#x = layers.LSTM(64)(x) # return vector for whole sequence\n",
        "\n",
        "x = layers.LSTM(8,return_sequences=True)(x)\n",
        "x = layers.GlobalAveragePooling1D()(x)\n",
        "outputs = layers.Dense(num_classes, activation=\"softmax\")(x) # create the output layer, want binary outputs so use sigmoid activation\n",
        "model_lstm = tf.keras.Model(inputs, outputs, name= \"lstm_model\") # construct the model\n",
        "\n",
        "model_lstm._name = 'model_lstm' # set keras model name\n",
        "\n",
        "## Compile model\n",
        "model_lstm.compile(optimizer=tf.keras.optimizers.Adam(),\n",
        "              loss=tf.keras.losses.SparseCategoricalCrossentropy(),\n",
        "              metrics=['accuracy'])\n"
      ]
    },
    {
      "cell_type": "code",
      "source": [
        "model_lstm.summary()"
      ],
      "metadata": {
        "colab": {
          "base_uri": "https://localhost:8080/"
        },
        "id": "BmLI3odkIjMf",
        "outputId": "e8c99071-a2e5-455c-cd89-cfcf6be9c111"
      },
      "execution_count": 51,
      "outputs": [
        {
          "output_type": "stream",
          "name": "stdout",
          "text": [
            "Model: \"model_lstm\"\n",
            "_________________________________________________________________\n",
            " Layer (type)                Output Shape              Param #   \n",
            "=================================================================\n",
            " input_2 (InputLayer)        [(None, 1)]               0         \n",
            "                                                                 \n",
            " text_vectorization_2 (TextV  (None, 60)               0         \n",
            " ectorization)                                                   \n",
            "                                                                 \n",
            " embedding2 (Embedding)      (None, 60, 16)            80000     \n",
            "                                                                 \n",
            " lstm (LSTM)                 (None, 60, 8)             800       \n",
            "                                                                 \n",
            " global_average_pooling1d_1   (None, 8)                0         \n",
            " (GlobalAveragePooling1D)                                        \n",
            "                                                                 \n",
            " dense_2 (Dense)             (None, 3)                 27        \n",
            "                                                                 \n",
            "=================================================================\n",
            "Total params: 80,827\n",
            "Trainable params: 80,827\n",
            "Non-trainable params: 0\n",
            "_________________________________________________________________\n"
          ]
        }
      ]
    },
    {
      "cell_type": "code",
      "source": [
        "# Fit model\n",
        "batch_size =128\n",
        "epochs = 2\n",
        "# Fit model: takes between 50 and 60 minutes for epoch 10, about 10-12 minutes for 2 epochs\n",
        "\n",
        "lstm_history = model_lstm.fit(X_train,\n",
        "                y_train,\n",
        "                batch_size=batch_size,\n",
        "                epochs=epochs,\n",
        "                validation_split = 0.2,\n",
        "                shuffle=True)"
      ],
      "metadata": {
        "colab": {
          "base_uri": "https://localhost:8080/"
        },
        "id": "BAgFicYDOP0c",
        "outputId": "03b31a64-0c7e-4471-d655-b09bd61434f7"
      },
      "execution_count": 52,
      "outputs": [
        {
          "output_type": "stream",
          "name": "stdout",
          "text": [
            "Epoch 1/2\n",
            "74/74 [==============================] - 4s 30ms/step - loss: 1.0258 - accuracy: 0.6207 - val_loss: 0.9517 - val_accuracy: 0.6236\n",
            "Epoch 2/2\n",
            "74/74 [==============================] - 2s 23ms/step - loss: 0.9139 - accuracy: 0.6278 - val_loss: 0.9028 - val_accuracy: 0.6236\n"
          ]
        }
      ]
    },
    {
      "cell_type": "markdown",
      "source": [
        "## 4.3 CNN model"
      ],
      "metadata": {
        "id": "OkCkT_NuLMFK"
      }
    },
    {
      "cell_type": "code",
      "source": [
        "\n",
        "inputs = layers.Input(shape=(1,), dtype=\"string\")\n",
        "x = vectorizer(inputs)\n",
        "x = layers.Embedding(input_dim = vocab_size,\n",
        "                     output_dim = embedding_size,\n",
        "                     name = \"embedding3\")(x)\n",
        "x = layers.Conv1D(16,kernel_size=5,activation='relu')(x)\n",
        "x = layers.GlobalAveragePooling1D()(x)\n",
        "outputs = layers.Dense(num_classes, activation=\"softmax\")(x) # create the output layer, want binary outputs so use sigmoid activation\n",
        "model_cnn = tf.keras.Model(inputs, outputs, name= \"model_cnn\") # construct the model\n",
        "\n",
        "model_cnn._name = 'model_cnn' # set keras model name\n",
        "\n",
        "## Compile model\n",
        "model_cnn.compile(optimizer=tf.keras.optimizers.Adam(),\n",
        "              loss=tf.keras.losses.SparseCategoricalCrossentropy(),\n",
        "              metrics=['accuracy'])"
      ],
      "metadata": {
        "id": "f5qf_capWVE1"
      },
      "execution_count": 53,
      "outputs": []
    },
    {
      "cell_type": "code",
      "source": [
        "model_cnn.summary()"
      ],
      "metadata": {
        "id": "NX9MPWm0W2ye",
        "colab": {
          "base_uri": "https://localhost:8080/"
        },
        "outputId": "6e47a00a-c8a5-4fac-f71a-281d392af2f4"
      },
      "execution_count": 54,
      "outputs": [
        {
          "output_type": "stream",
          "name": "stdout",
          "text": [
            "Model: \"model_cnn\"\n",
            "_________________________________________________________________\n",
            " Layer (type)                Output Shape              Param #   \n",
            "=================================================================\n",
            " input_3 (InputLayer)        [(None, 1)]               0         \n",
            "                                                                 \n",
            " text_vectorization_2 (TextV  (None, 60)               0         \n",
            " ectorization)                                                   \n",
            "                                                                 \n",
            " embedding3 (Embedding)      (None, 60, 16)            80000     \n",
            "                                                                 \n",
            " conv1d (Conv1D)             (None, 56, 16)            1296      \n",
            "                                                                 \n",
            " global_average_pooling1d_2   (None, 16)               0         \n",
            " (GlobalAveragePooling1D)                                        \n",
            "                                                                 \n",
            " dense_3 (Dense)             (None, 3)                 51        \n",
            "                                                                 \n",
            "=================================================================\n",
            "Total params: 81,347\n",
            "Trainable params: 81,347\n",
            "Non-trainable params: 0\n",
            "_________________________________________________________________\n"
          ]
        }
      ]
    },
    {
      "cell_type": "code",
      "source": [
        "# Fit model\n",
        "batch_size =128\n",
        "epochs = 2\n",
        "# Fit model: takes between 50 and 60 minutes for epoch 10, about 10-12 minutes for 2 epochs\n",
        "\n",
        "cnn_history = model_cnn.fit(X_train,\n",
        "                y_train,\n",
        "                batch_size=batch_size,\n",
        "                epochs=epochs,\n",
        "                validation_split = 0.2,\n",
        "                shuffle=True)"
      ],
      "metadata": {
        "colab": {
          "base_uri": "https://localhost:8080/"
        },
        "id": "gsPk6fJ_T8jm",
        "outputId": "ffc1b2c3-a1d1-492a-fff7-9f0ec1ab3b26"
      },
      "execution_count": 55,
      "outputs": [
        {
          "output_type": "stream",
          "name": "stdout",
          "text": [
            "Epoch 1/2\n",
            "74/74 [==============================] - 1s 8ms/step - loss: 1.0202 - accuracy: 0.6106 - val_loss: 0.9380 - val_accuracy: 0.6236\n",
            "Epoch 2/2\n",
            "74/74 [==============================] - 0s 5ms/step - loss: 0.9167 - accuracy: 0.6278 - val_loss: 0.9122 - val_accuracy: 0.6236\n"
          ]
        }
      ]
    },
    {
      "cell_type": "markdown",
      "source": [
        "## 4.4 Training models created"
      ],
      "metadata": {
        "id": "8mGmP2-oSnjw"
      }
    },
    {
      "cell_type": "code",
      "source": [
        "## Loop through this\n",
        "run_model = True\n",
        "list_models=[model_dnn,model_lstm,model_cnn] #use the model\n",
        "\n",
        "list_hist_df=[]\n",
        "epochs = 10\n",
        "batch_size = 128\n",
        "\n",
        "if run_model==True:\n",
        "\n",
        "  for model in list_models:\n",
        "  #if run_model=True then train model and store weights and history\n",
        "\n",
        "    # Fit model: takes between 50 and 60 minutes\n",
        "\n",
        "    model_name = model._name\n",
        "    history_model = model.fit(X_train,\n",
        "                y_train,\n",
        "                batch_size=batch_size,\n",
        "                epochs=epochs,\n",
        "                validation_split = 0.2,\n",
        "                shuffle=True)\n",
        "\n",
        "    hist_df = pd.DataFrame(history_model.history)\n",
        "\n",
        "    # save to json:\n",
        "    hist_json_file = 'history_'+model_name+'_'+out_suffix+'.json'\n",
        "    with open(hist_json_file, mode='w') as f:\n",
        "        hist_df.to_json(f)\n",
        "    # save to csv:\n",
        "    hist_csv_file = 'history_'+model_name+'_'+out_suffix+'.csv'\n",
        "    with open(hist_csv_file, mode='w') as f:\n",
        "        hist_df.to_csv(f)\n",
        "    # serialize weights to HDF5\n",
        "    #model.save_weights(model_name+'_'+out_suffix+'.h5')\n",
        "    #model.save_weights(model_name+'_'+out_suffix+'.h5')\n",
        "    #Passing save_format='tf' to save()\n",
        "    #model.save(model_name+'_'+out_suffix+'.keras')\n",
        "    model.save(model_name+'_'+out_suffix,save_format='tf')\n",
        "    list_hist_df.append(hist_df)\n",
        "    print(\"Saved model to disk \", model_name)\n",
        "\n",
        "  #if run_model=False then load models weights and loss history from h5 file\n",
        "if run_model==False:\n",
        "  if model_path is None:\n",
        "    model_path = out_dir #classified\n",
        "    print('Set model path to output directory')\n",
        "\n",
        "  model_names=['model_dnn','model_lstm','model_cnn']\n",
        "  i=0\n",
        "  for model_name in model_names:\n",
        "    print(i)\n",
        "    print(model_name)\n",
        "    fileglob =\"*\"+model_name+\"*.h5\"\n",
        "    model_path_filename= os.path.join(model_path,fileglob) #classified\n",
        "    model_path_filename = glob.glob(model_path_filename,recursive=False)[0]\n",
        "    model=list_models[i]\n",
        "    model.summary()\n",
        "    print('This is the model path ',model_path_filename)\n",
        "    model.load_weights(model_path_filename)\n",
        "    fileglob ='*'+model_name+\"*.csv\"\n",
        "    history_model_path = os.path.join(model_path,fileglob) #classified\n",
        "    history_model_path = glob.glob(history_model_path,recursive=False)[0]\n",
        "    hist_df = pd.read_csv(history_model_path)\n",
        "    list_models[i]=model #put the updated model with weights in the list\n",
        "    list_hist_df.append(hist_df)\n",
        "    i=i+1\n",
        "\n",
        "#https://www.tensorflow.org/tutorials/keras/save_and_load"
      ],
      "metadata": {
        "colab": {
          "base_uri": "https://localhost:8080/"
        },
        "id": "FMJvDYUBSnBb",
        "outputId": "e3ed7ca9-38af-4598-8478-6cbe360a078d"
      },
      "execution_count": 56,
      "outputs": [
        {
          "output_type": "stream",
          "name": "stdout",
          "text": [
            "Epoch 1/10\n",
            "74/74 [==============================] - 0s 7ms/step - loss: 0.8984 - accuracy: 0.6278 - val_loss: 0.8951 - val_accuracy: 0.6236\n",
            "Epoch 2/10\n",
            "74/74 [==============================] - 0s 4ms/step - loss: 0.8802 - accuracy: 0.6279 - val_loss: 0.8734 - val_accuracy: 0.6236\n",
            "Epoch 3/10\n",
            "74/74 [==============================] - 0s 4ms/step - loss: 0.8517 - accuracy: 0.6279 - val_loss: 0.8409 - val_accuracy: 0.6240\n",
            "Epoch 4/10\n",
            "74/74 [==============================] - 0s 4ms/step - loss: 0.8078 - accuracy: 0.6314 - val_loss: 0.7921 - val_accuracy: 0.6376\n",
            "Epoch 5/10\n",
            "74/74 [==============================] - 0s 4ms/step - loss: 0.7511 - accuracy: 0.6516 - val_loss: 0.7349 - val_accuracy: 0.6560\n",
            "Epoch 6/10\n",
            "74/74 [==============================] - 0s 4ms/step - loss: 0.6875 - accuracy: 0.6812 - val_loss: 0.6785 - val_accuracy: 0.6948\n",
            "Epoch 7/10\n",
            "74/74 [==============================] - 0s 4ms/step - loss: 0.6293 - accuracy: 0.7241 - val_loss: 0.6325 - val_accuracy: 0.7439\n",
            "Epoch 8/10\n",
            "74/74 [==============================] - 0s 4ms/step - loss: 0.5821 - accuracy: 0.7650 - val_loss: 0.5987 - val_accuracy: 0.7670\n",
            "Epoch 9/10\n",
            "74/74 [==============================] - 0s 4ms/step - loss: 0.5457 - accuracy: 0.7877 - val_loss: 0.5764 - val_accuracy: 0.7742\n",
            "Epoch 10/10\n",
            "74/74 [==============================] - 0s 4ms/step - loss: 0.5175 - accuracy: 0.8047 - val_loss: 0.5667 - val_accuracy: 0.7682\n"
          ]
        },
        {
          "output_type": "stream",
          "name": "stderr",
          "text": [
            "WARNING:absl:Found untraced functions such as _update_step_xla while saving (showing 1 of 1). These functions will not be directly callable after loading.\n"
          ]
        },
        {
          "output_type": "stream",
          "name": "stdout",
          "text": [
            "Saved model to disk  model_lstm\n",
            "Epoch 1/10\n",
            "74/74 [==============================] - 2s 23ms/step - loss: 0.8249 - accuracy: 0.6439 - val_loss: 0.7198 - val_accuracy: 0.6778\n",
            "Epoch 2/10\n",
            "74/74 [==============================] - 2s 21ms/step - loss: 0.6575 - accuracy: 0.7153 - val_loss: 0.6878 - val_accuracy: 0.7004\n",
            "Epoch 3/10\n",
            "74/74 [==============================] - 2s 22ms/step - loss: 0.6036 - accuracy: 0.7388 - val_loss: 0.6992 - val_accuracy: 0.7017\n",
            "Epoch 4/10\n",
            "74/74 [==============================] - 2s 22ms/step - loss: 0.5823 - accuracy: 0.7401 - val_loss: 0.6759 - val_accuracy: 0.6970\n",
            "Epoch 5/10\n",
            "74/74 [==============================] - 2s 22ms/step - loss: 0.5446 - accuracy: 0.7573 - val_loss: 0.6635 - val_accuracy: 0.6978\n",
            "Epoch 6/10\n",
            "74/74 [==============================] - 2s 22ms/step - loss: 0.5148 - accuracy: 0.7671 - val_loss: 0.6584 - val_accuracy: 0.6965\n",
            "Epoch 7/10\n",
            "74/74 [==============================] - 2s 22ms/step - loss: 0.4952 - accuracy: 0.7722 - val_loss: 0.6717 - val_accuracy: 0.6940\n",
            "Epoch 8/10\n",
            "74/74 [==============================] - 2s 22ms/step - loss: 0.4731 - accuracy: 0.7780 - val_loss: 0.6998 - val_accuracy: 0.6889\n",
            "Epoch 9/10\n",
            "74/74 [==============================] - 2s 22ms/step - loss: 0.4586 - accuracy: 0.7839 - val_loss: 0.6914 - val_accuracy: 0.6872\n",
            "Epoch 10/10\n",
            "74/74 [==============================] - 2s 22ms/step - loss: 0.4427 - accuracy: 0.7867 - val_loss: 0.6849 - val_accuracy: 0.6953\n"
          ]
        },
        {
          "output_type": "stream",
          "name": "stderr",
          "text": [
            "WARNING:absl:Found untraced functions such as _update_step_xla, lstm_cell_layer_call_fn, lstm_cell_layer_call_and_return_conditional_losses while saving (showing 3 of 3). These functions will not be directly callable after loading.\n"
          ]
        },
        {
          "output_type": "stream",
          "name": "stdout",
          "text": [
            "Saved model to disk  model_lstm\n",
            "Epoch 1/10\n",
            "74/74 [==============================] - 0s 6ms/step - loss: 0.8938 - accuracy: 0.6278 - val_loss: 0.8845 - val_accuracy: 0.6236\n",
            "Epoch 2/10\n",
            "74/74 [==============================] - 0s 5ms/step - loss: 0.8502 - accuracy: 0.6278 - val_loss: 0.8369 - val_accuracy: 0.6236\n",
            "Epoch 3/10\n",
            "74/74 [==============================] - 0s 5ms/step - loss: 0.7832 - accuracy: 0.6339 - val_loss: 0.7725 - val_accuracy: 0.6389\n",
            "Epoch 4/10\n",
            "74/74 [==============================] - 0s 5ms/step - loss: 0.7130 - accuracy: 0.6662 - val_loss: 0.7215 - val_accuracy: 0.6628\n",
            "Epoch 5/10\n",
            "74/74 [==============================] - 0s 5ms/step - loss: 0.6620 - accuracy: 0.6966 - val_loss: 0.6878 - val_accuracy: 0.6983\n",
            "Epoch 6/10\n",
            "74/74 [==============================] - 0s 5ms/step - loss: 0.6157 - accuracy: 0.7303 - val_loss: 0.6650 - val_accuracy: 0.7047\n",
            "Epoch 7/10\n",
            "74/74 [==============================] - 0s 5ms/step - loss: 0.5797 - accuracy: 0.7557 - val_loss: 0.6450 - val_accuracy: 0.7260\n",
            "Epoch 8/10\n",
            "74/74 [==============================] - 0s 5ms/step - loss: 0.5505 - accuracy: 0.7764 - val_loss: 0.6304 - val_accuracy: 0.7337\n",
            "Epoch 9/10\n",
            "74/74 [==============================] - 0s 5ms/step - loss: 0.5253 - accuracy: 0.7850 - val_loss: 0.6177 - val_accuracy: 0.7507\n",
            "Epoch 10/10\n",
            "74/74 [==============================] - 0s 5ms/step - loss: 0.5018 - accuracy: 0.7991 - val_loss: 0.6081 - val_accuracy: 0.7597\n"
          ]
        },
        {
          "output_type": "stream",
          "name": "stderr",
          "text": [
            "WARNING:absl:Found untraced functions such as _jit_compiled_convolution_op, _update_step_xla while saving (showing 2 of 2). These functions will not be directly callable after loading.\n"
          ]
        },
        {
          "output_type": "stream",
          "name": "stdout",
          "text": [
            "Saved model to disk  model_cnn\n"
          ]
        }
      ]
    },
    {
      "cell_type": "code",
      "source": [
        "print(list_models)\n"
      ],
      "metadata": {
        "colab": {
          "base_uri": "https://localhost:8080/"
        },
        "id": "tH5EAJjJTkaD",
        "outputId": "2de23a3e-c5cd-41b4-9738-6dbf9d1a8af3"
      },
      "execution_count": 57,
      "outputs": [
        {
          "output_type": "stream",
          "name": "stdout",
          "text": [
            "[<keras.engine.functional.Functional object at 0x7efb0c176590>, <keras.engine.functional.Functional object at 0x7efae846dbd0>, <keras.engine.functional.Functional object at 0x7efad3704f10>]\n"
          ]
        }
      ]
    },
    {
      "cell_type": "code",
      "execution_count": 58,
      "metadata": {
        "id": "dW_6MrtE9jn8"
      },
      "outputs": [],
      "source": [
        "model_path"
      ]
    },
    {
      "cell_type": "code",
      "source": [
        "#history_model_path\n",
        "list_hist_df"
      ],
      "metadata": {
        "colab": {
          "base_uri": "https://localhost:8080/"
        },
        "id": "8v2fM6aJgsTM",
        "outputId": "1744b791-1875-433d-8283-1905b4ddbc01"
      },
      "execution_count": 59,
      "outputs": [
        {
          "output_type": "execute_result",
          "data": {
            "text/plain": [
              "[       loss  accuracy  val_loss  val_accuracy\n",
              " 0  0.898426  0.627815  0.895101      0.623560\n",
              " 1  0.880180  0.627922  0.873358      0.623560\n",
              " 2  0.851720  0.627922  0.840922      0.623986\n",
              " 3  0.807823  0.631444  0.792109      0.637644\n",
              " 4  0.751094  0.651617  0.734907      0.655997\n",
              " 5  0.687542  0.681183  0.678461      0.694836\n",
              " 6  0.629346  0.724090  0.632501      0.743918\n",
              " 7  0.582109  0.764970  0.598748      0.766965\n",
              " 8  0.545707  0.787704  0.576403      0.774221\n",
              " 9  0.517458  0.804675  0.566720      0.768246,\n",
              "        loss  accuracy  val_loss  val_accuracy\n",
              " 0  0.824909  0.643932  0.719794      0.677764\n",
              " 1  0.657487  0.715338  0.687808      0.700384\n",
              " 2  0.603644  0.738820  0.699243      0.701665\n",
              " 3  0.582321  0.740100  0.675869      0.696970\n",
              " 4  0.544570  0.757285  0.663495      0.697823\n",
              " 5  0.514846  0.767104  0.658357      0.696543\n",
              " 6  0.495192  0.772228  0.671670      0.693982\n",
              " 7  0.473073  0.777991  0.699781      0.688860\n",
              " 8  0.458634  0.783862  0.691446      0.687153\n",
              " 9  0.442742  0.786744  0.684941      0.695262,\n",
              "        loss  accuracy  val_loss  val_accuracy\n",
              " 0  0.893785  0.627815  0.884458      0.623560\n",
              " 1  0.850179  0.627815  0.836948      0.623560\n",
              " 2  0.783178  0.633899  0.772536      0.638924\n",
              " 3  0.713048  0.666240  0.721535      0.662825\n",
              " 4  0.662013  0.696552  0.687812      0.698250\n",
              " 5  0.615698  0.730281  0.665046      0.704652\n",
              " 6  0.579667  0.755684  0.644960      0.725992\n",
              " 7  0.550502  0.776390  0.630437      0.733675\n",
              " 8  0.525313  0.785036  0.617706      0.750747\n",
              " 9  0.501808  0.799125  0.608141      0.759710]"
            ]
          },
          "metadata": {},
          "execution_count": 59
        }
      ]
    },
    {
      "cell_type": "code",
      "execution_count": 60,
      "metadata": {
        "id": "LmEk5n4weLIj",
        "colab": {
          "base_uri": "https://localhost:8080/",
          "height": 278
        },
        "outputId": "214b973d-60ef-4b00-ad46-4169fb8264aa"
      },
      "outputs": [
        {
          "output_type": "stream",
          "name": "stdout",
          "text": [
            "Set model path to output directory\n",
            "['/content/gdrive/MyDrive/Colab Notebooks/deep-learning-nlp-intro/DNN_and_embedding_nlp/outputs/output_data_DNN_embedding_nlp_2024-01-11/history_dnn_model1_DNN_embedding_nlp_2024-01-11.csv', '/content/gdrive/MyDrive/Colab Notebooks/deep-learning-nlp-intro/DNN_and_embedding_nlp/outputs/output_data_DNN_embedding_nlp_2024-01-11/history_model_lstm_DNN_embedding_nlp_2024-01-11.csv', '/content/gdrive/MyDrive/Colab Notebooks/deep-learning-nlp-intro/DNN_and_embedding_nlp/outputs/output_data_DNN_embedding_nlp_2024-01-11/history_model_cnn_DNN_embedding_nlp_2024-01-11.csv']\n",
            "(10, 6)\n"
          ]
        },
        {
          "output_type": "execute_result",
          "data": {
            "text/plain": [
              "   Unnamed: 0      loss  accuracy  val_loss  val_accuracy  epoch\n",
              "0           0  0.336243  0.872238  0.534879      0.796415      1\n",
              "1           1  0.330349  0.874266  0.538702      0.796415      2\n",
              "2           2  0.325720  0.876721  0.538429      0.793427      3\n",
              "3           3  0.320506  0.880137  0.542569      0.793000      4\n",
              "4           4  0.315401  0.882698  0.541411      0.794708      5"
            ],
            "text/html": [
              "\n",
              "  <div id=\"df-fe777767-2c55-44ff-b172-1f8c4f101d2b\" class=\"colab-df-container\">\n",
              "    <div>\n",
              "<style scoped>\n",
              "    .dataframe tbody tr th:only-of-type {\n",
              "        vertical-align: middle;\n",
              "    }\n",
              "\n",
              "    .dataframe tbody tr th {\n",
              "        vertical-align: top;\n",
              "    }\n",
              "\n",
              "    .dataframe thead th {\n",
              "        text-align: right;\n",
              "    }\n",
              "</style>\n",
              "<table border=\"1\" class=\"dataframe\">\n",
              "  <thead>\n",
              "    <tr style=\"text-align: right;\">\n",
              "      <th></th>\n",
              "      <th>Unnamed: 0</th>\n",
              "      <th>loss</th>\n",
              "      <th>accuracy</th>\n",
              "      <th>val_loss</th>\n",
              "      <th>val_accuracy</th>\n",
              "      <th>epoch</th>\n",
              "    </tr>\n",
              "  </thead>\n",
              "  <tbody>\n",
              "    <tr>\n",
              "      <th>0</th>\n",
              "      <td>0</td>\n",
              "      <td>0.336243</td>\n",
              "      <td>0.872238</td>\n",
              "      <td>0.534879</td>\n",
              "      <td>0.796415</td>\n",
              "      <td>1</td>\n",
              "    </tr>\n",
              "    <tr>\n",
              "      <th>1</th>\n",
              "      <td>1</td>\n",
              "      <td>0.330349</td>\n",
              "      <td>0.874266</td>\n",
              "      <td>0.538702</td>\n",
              "      <td>0.796415</td>\n",
              "      <td>2</td>\n",
              "    </tr>\n",
              "    <tr>\n",
              "      <th>2</th>\n",
              "      <td>2</td>\n",
              "      <td>0.325720</td>\n",
              "      <td>0.876721</td>\n",
              "      <td>0.538429</td>\n",
              "      <td>0.793427</td>\n",
              "      <td>3</td>\n",
              "    </tr>\n",
              "    <tr>\n",
              "      <th>3</th>\n",
              "      <td>3</td>\n",
              "      <td>0.320506</td>\n",
              "      <td>0.880137</td>\n",
              "      <td>0.542569</td>\n",
              "      <td>0.793000</td>\n",
              "      <td>4</td>\n",
              "    </tr>\n",
              "    <tr>\n",
              "      <th>4</th>\n",
              "      <td>4</td>\n",
              "      <td>0.315401</td>\n",
              "      <td>0.882698</td>\n",
              "      <td>0.541411</td>\n",
              "      <td>0.794708</td>\n",
              "      <td>5</td>\n",
              "    </tr>\n",
              "  </tbody>\n",
              "</table>\n",
              "</div>\n",
              "    <div class=\"colab-df-buttons\">\n",
              "\n",
              "  <div class=\"colab-df-container\">\n",
              "    <button class=\"colab-df-convert\" onclick=\"convertToInteractive('df-fe777767-2c55-44ff-b172-1f8c4f101d2b')\"\n",
              "            title=\"Convert this dataframe to an interactive table.\"\n",
              "            style=\"display:none;\">\n",
              "\n",
              "  <svg xmlns=\"http://www.w3.org/2000/svg\" height=\"24px\" viewBox=\"0 -960 960 960\">\n",
              "    <path d=\"M120-120v-720h720v720H120Zm60-500h600v-160H180v160Zm220 220h160v-160H400v160Zm0 220h160v-160H400v160ZM180-400h160v-160H180v160Zm440 0h160v-160H620v160ZM180-180h160v-160H180v160Zm440 0h160v-160H620v160Z\"/>\n",
              "  </svg>\n",
              "    </button>\n",
              "\n",
              "  <style>\n",
              "    .colab-df-container {\n",
              "      display:flex;\n",
              "      gap: 12px;\n",
              "    }\n",
              "\n",
              "    .colab-df-convert {\n",
              "      background-color: #E8F0FE;\n",
              "      border: none;\n",
              "      border-radius: 50%;\n",
              "      cursor: pointer;\n",
              "      display: none;\n",
              "      fill: #1967D2;\n",
              "      height: 32px;\n",
              "      padding: 0 0 0 0;\n",
              "      width: 32px;\n",
              "    }\n",
              "\n",
              "    .colab-df-convert:hover {\n",
              "      background-color: #E2EBFA;\n",
              "      box-shadow: 0px 1px 2px rgba(60, 64, 67, 0.3), 0px 1px 3px 1px rgba(60, 64, 67, 0.15);\n",
              "      fill: #174EA6;\n",
              "    }\n",
              "\n",
              "    .colab-df-buttons div {\n",
              "      margin-bottom: 4px;\n",
              "    }\n",
              "\n",
              "    [theme=dark] .colab-df-convert {\n",
              "      background-color: #3B4455;\n",
              "      fill: #D2E3FC;\n",
              "    }\n",
              "\n",
              "    [theme=dark] .colab-df-convert:hover {\n",
              "      background-color: #434B5C;\n",
              "      box-shadow: 0px 1px 3px 1px rgba(0, 0, 0, 0.15);\n",
              "      filter: drop-shadow(0px 1px 2px rgba(0, 0, 0, 0.3));\n",
              "      fill: #FFFFFF;\n",
              "    }\n",
              "  </style>\n",
              "\n",
              "    <script>\n",
              "      const buttonEl =\n",
              "        document.querySelector('#df-fe777767-2c55-44ff-b172-1f8c4f101d2b button.colab-df-convert');\n",
              "      buttonEl.style.display =\n",
              "        google.colab.kernel.accessAllowed ? 'block' : 'none';\n",
              "\n",
              "      async function convertToInteractive(key) {\n",
              "        const element = document.querySelector('#df-fe777767-2c55-44ff-b172-1f8c4f101d2b');\n",
              "        const dataTable =\n",
              "          await google.colab.kernel.invokeFunction('convertToInteractive',\n",
              "                                                    [key], {});\n",
              "        if (!dataTable) return;\n",
              "\n",
              "        const docLinkHtml = 'Like what you see? Visit the ' +\n",
              "          '<a target=\"_blank\" href=https://colab.research.google.com/notebooks/data_table.ipynb>data table notebook</a>'\n",
              "          + ' to learn more about interactive tables.';\n",
              "        element.innerHTML = '';\n",
              "        dataTable['output_type'] = 'display_data';\n",
              "        await google.colab.output.renderOutput(dataTable, element);\n",
              "        const docLink = document.createElement('div');\n",
              "        docLink.innerHTML = docLinkHtml;\n",
              "        element.appendChild(docLink);\n",
              "      }\n",
              "    </script>\n",
              "  </div>\n",
              "\n",
              "\n",
              "<div id=\"df-57e2938c-f39a-46ba-940e-f37eff362b5b\">\n",
              "  <button class=\"colab-df-quickchart\" onclick=\"quickchart('df-57e2938c-f39a-46ba-940e-f37eff362b5b')\"\n",
              "            title=\"Suggest charts\"\n",
              "            style=\"display:none;\">\n",
              "\n",
              "<svg xmlns=\"http://www.w3.org/2000/svg\" height=\"24px\"viewBox=\"0 0 24 24\"\n",
              "     width=\"24px\">\n",
              "    <g>\n",
              "        <path d=\"M19 3H5c-1.1 0-2 .9-2 2v14c0 1.1.9 2 2 2h14c1.1 0 2-.9 2-2V5c0-1.1-.9-2-2-2zM9 17H7v-7h2v7zm4 0h-2V7h2v10zm4 0h-2v-4h2v4z\"/>\n",
              "    </g>\n",
              "</svg>\n",
              "  </button>\n",
              "\n",
              "<style>\n",
              "  .colab-df-quickchart {\n",
              "      --bg-color: #E8F0FE;\n",
              "      --fill-color: #1967D2;\n",
              "      --hover-bg-color: #E2EBFA;\n",
              "      --hover-fill-color: #174EA6;\n",
              "      --disabled-fill-color: #AAA;\n",
              "      --disabled-bg-color: #DDD;\n",
              "  }\n",
              "\n",
              "  [theme=dark] .colab-df-quickchart {\n",
              "      --bg-color: #3B4455;\n",
              "      --fill-color: #D2E3FC;\n",
              "      --hover-bg-color: #434B5C;\n",
              "      --hover-fill-color: #FFFFFF;\n",
              "      --disabled-bg-color: #3B4455;\n",
              "      --disabled-fill-color: #666;\n",
              "  }\n",
              "\n",
              "  .colab-df-quickchart {\n",
              "    background-color: var(--bg-color);\n",
              "    border: none;\n",
              "    border-radius: 50%;\n",
              "    cursor: pointer;\n",
              "    display: none;\n",
              "    fill: var(--fill-color);\n",
              "    height: 32px;\n",
              "    padding: 0;\n",
              "    width: 32px;\n",
              "  }\n",
              "\n",
              "  .colab-df-quickchart:hover {\n",
              "    background-color: var(--hover-bg-color);\n",
              "    box-shadow: 0 1px 2px rgba(60, 64, 67, 0.3), 0 1px 3px 1px rgba(60, 64, 67, 0.15);\n",
              "    fill: var(--button-hover-fill-color);\n",
              "  }\n",
              "\n",
              "  .colab-df-quickchart-complete:disabled,\n",
              "  .colab-df-quickchart-complete:disabled:hover {\n",
              "    background-color: var(--disabled-bg-color);\n",
              "    fill: var(--disabled-fill-color);\n",
              "    box-shadow: none;\n",
              "  }\n",
              "\n",
              "  .colab-df-spinner {\n",
              "    border: 2px solid var(--fill-color);\n",
              "    border-color: transparent;\n",
              "    border-bottom-color: var(--fill-color);\n",
              "    animation:\n",
              "      spin 1s steps(1) infinite;\n",
              "  }\n",
              "\n",
              "  @keyframes spin {\n",
              "    0% {\n",
              "      border-color: transparent;\n",
              "      border-bottom-color: var(--fill-color);\n",
              "      border-left-color: var(--fill-color);\n",
              "    }\n",
              "    20% {\n",
              "      border-color: transparent;\n",
              "      border-left-color: var(--fill-color);\n",
              "      border-top-color: var(--fill-color);\n",
              "    }\n",
              "    30% {\n",
              "      border-color: transparent;\n",
              "      border-left-color: var(--fill-color);\n",
              "      border-top-color: var(--fill-color);\n",
              "      border-right-color: var(--fill-color);\n",
              "    }\n",
              "    40% {\n",
              "      border-color: transparent;\n",
              "      border-right-color: var(--fill-color);\n",
              "      border-top-color: var(--fill-color);\n",
              "    }\n",
              "    60% {\n",
              "      border-color: transparent;\n",
              "      border-right-color: var(--fill-color);\n",
              "    }\n",
              "    80% {\n",
              "      border-color: transparent;\n",
              "      border-right-color: var(--fill-color);\n",
              "      border-bottom-color: var(--fill-color);\n",
              "    }\n",
              "    90% {\n",
              "      border-color: transparent;\n",
              "      border-bottom-color: var(--fill-color);\n",
              "    }\n",
              "  }\n",
              "</style>\n",
              "\n",
              "  <script>\n",
              "    async function quickchart(key) {\n",
              "      const quickchartButtonEl =\n",
              "        document.querySelector('#' + key + ' button');\n",
              "      quickchartButtonEl.disabled = true;  // To prevent multiple clicks.\n",
              "      quickchartButtonEl.classList.add('colab-df-spinner');\n",
              "      try {\n",
              "        const charts = await google.colab.kernel.invokeFunction(\n",
              "            'suggestCharts', [key], {});\n",
              "      } catch (error) {\n",
              "        console.error('Error during call to suggestCharts:', error);\n",
              "      }\n",
              "      quickchartButtonEl.classList.remove('colab-df-spinner');\n",
              "      quickchartButtonEl.classList.add('colab-df-quickchart-complete');\n",
              "    }\n",
              "    (() => {\n",
              "      let quickchartButtonEl =\n",
              "        document.querySelector('#df-57e2938c-f39a-46ba-940e-f37eff362b5b button');\n",
              "      quickchartButtonEl.style.display =\n",
              "        google.colab.kernel.accessAllowed ? 'block' : 'none';\n",
              "    })();\n",
              "  </script>\n",
              "</div>\n",
              "\n",
              "    </div>\n",
              "  </div>\n"
            ]
          },
          "metadata": {},
          "execution_count": 60
        }
      ],
      "source": [
        "# Get information on loss a a function of epoch\n",
        "if  run_model==True:\n",
        "  model_path = out_dir #classified\n",
        "  print('Set model path to output directory')\n",
        "  path_dir = model_path\n",
        "else:\n",
        "  path_dir = os.path.dirname(model_path)\n",
        "fileglob = \"*.csv\"\n",
        "history_model_filename = os.path.join(path_dir,fileglob) #classified\n",
        "history_model_path = glob.glob(history_model_filename,recursive=False)\n",
        "print(history_model_path)\n",
        "# add plot of history loss\n",
        "hist_df = pd.read_csv(history_model_path[0])\n",
        "hist_df['epoch']= np.arange(1,hist_df.shape[0]+1) #adding epoch column\n",
        "print(hist_df.shape)\n",
        "hist_df.head()"
      ]
    },
    {
      "cell_type": "code",
      "source": [
        "num_models=3\n",
        "fig, ax = plt.subplots(1,num_models,figsize=(16,4))\n",
        "model_names=['model_dnn','model_lstm','model_cnn']\n",
        "\n",
        "for model_val in range(num_models):\n",
        "  hist_df=list_hist_df[model_val]\n",
        "  hist_df['epoch']=np.arange(1,epochs+1)\n",
        "  ax[model_val].plot(hist_df['epoch'],hist_df['accuracy'],label='train')\n",
        "  ax[model_val].plot(hist_df['epoch'],hist_df['val_accuracy'],label='val')\n",
        "  ax[model_val].set_title(model_names[model_val])\n",
        "  ax[model_val].set_xlabel('epoch')\n",
        "  ax[model_val].set_ylabel('accuracy')\n",
        "  ax[model_val].legend()\n",
        "\n",
        "fig.tight_layout()"
      ],
      "metadata": {
        "colab": {
          "base_uri": "https://localhost:8080/",
          "height": 350
        },
        "id": "DzIXe4EWncKy",
        "outputId": "f0f1e2c5-fa9c-4cde-e066-1b43daa0e523"
      },
      "execution_count": 61,
      "outputs": [
        {
          "output_type": "display_data",
          "data": {
            "text/plain": [
              "<Figure size 1600x400 with 3 Axes>"
            ],
            "image/png": "[encoded data removed]"
          },
          "metadata": {}
        }
      ]
    },
    {
      "cell_type": "markdown",
      "source": [
        "# 5. Visualize and explore trained embedding"
      ],
      "metadata": {
        "id": "LoHiTPXPV2cI"
      }
    },
    {
      "cell_type": "code",
      "source": [],
      "metadata": {
        "id": "Hcw7gOdLWBrc"
      },
      "execution_count": null,
      "outputs": []
    },
    {
      "cell_type": "markdown",
      "source": [
        "#6. Accuracy Assessement and evaluation of models"
      ],
      "metadata": {
        "id": "dn47iQGYWCXJ"
      }
    },
    {
      "cell_type": "code",
      "source": [],
      "metadata": {
        "id": "eoDpc1GkU0aL"
      },
      "execution_count": null,
      "outputs": []
    },
    {
      "cell_type": "markdown",
      "metadata": {
        "id": "3MwFGFyQHA36"
      },
      "source": [
        "#7.Conclusions\n",
        "\n",
        "\n",
        "\n",
        "\n",
        "\n"
      ]
    },
    {
      "cell_type": "code",
      "source": [],
      "metadata": {
        "id": "8ytP6D2BY8VR"
      },
      "execution_count": null,
      "outputs": []
    },
    {
      "cell_type": "code",
      "execution_count": null,
      "metadata": {
        "colab": {
          "background_save": true
        },
        "id": "-KuNbMaQD41Y"
      },
      "outputs": [],
      "source": [
        "############################# END OF SCRIPT ###################################"
      ]
    }
  ],
  "metadata": {
    "accelerator": "TPU",
    "colab": {
      "machine_shape": "hm",
      "provenance": []
    },
    "kernelspec": {
      "display_name": "Python 3",
      "language": "python",
      "name": "python3"
    },
    "language_info": {
      "codemirror_mode": {
        "name": "ipython",
        "version": 3
      },
      "file_extension": ".py",
      "mimetype": "text/x-python",
      "name": "python",
      "nbconvert_exporter": "python",
      "pygments_lexer": "ipython3",
      "version": "3.8.5"
    }
  },
  "nbformat": 4,
  "nbformat_minor": 0
}